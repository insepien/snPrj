{
 "cells": [
  {
   "cell_type": "code",
   "execution_count": 1,
   "id": "99ecab1b",
   "metadata": {},
   "outputs": [],
   "source": [
    "import numpy as np\n",
    "from scipy import special, optimize\n",
    "import matplotlib.pyplot as plt\n",
    "import pandas as pd\n",
    "from plotly.subplots import make_subplots\n",
    "import plotly.graph_objects as go\n",
    "from mpl_toolkits.axes_grid1 import make_axes_locatable\n",
    "\n",
    "plt.rcParams['font.size'] = 15\n",
    "plt.rcParams[\"axes.labelsize\"] = 15"
   ]
  },
  {
   "cell_type": "code",
   "execution_count": 2,
   "id": "ebc8c88b",
   "metadata": {},
   "outputs": [],
   "source": [
    "#sigma = alpha in the code\n",
    "def exponential_comp(t, thetaT, sigma, a):\n",
    "    \"\"\"gives the stuffs in the exponential\"\"\"\n",
    "    tplus = (t - thetaT + a/2) * sigma / np.sqrt(2)\n",
    "    tminus = (t - thetaT - a/2) * sigma / np.sqrt(2)\n",
    "    return tplus, tminus\n",
    "\n",
    "def d_erf(t, thetaT, sigma, a):\n",
    "    \"\"\"delta error function\"\"\"\n",
    "    tplus, tminus = exponential_comp(t, thetaT, sigma, a)\n",
    "    d_erf = 0.5 * (special.erf(tplus) - special.erf(tminus))\n",
    "    return d_erf\n",
    "\n",
    "def mu(x, y, thetaX, thetaY, alpha, beta, theta_I0, a, theta_bg):\n",
    "    \"\"\"image model for gaussian psf\"\"\"\n",
    "    d_erfX = d_erf(x, thetaX, alpha, a)\n",
    "    d_erfY = d_erf(y, thetaY, beta, a)\n",
    "    muK = theta_I0 * d_erfX * d_erfY + theta_bg*a**2\n",
    "    return muK\n",
    "    \n",
    "def dmu_dthetaX(x, y, thetaX, thetaY, alpha, beta,  a, theta_I0):\n",
    "    \"\"\"derivative of mu wrt thetaX\"\"\"\n",
    "    d_erfY = d_erf(y, thetaY, beta, a)\n",
    "    Xplus, Xminus = exponential_comp(x, thetaX, alpha, a)\n",
    "    expo = np.exp(-Xminus**2) - np.exp(-Xplus**2)\n",
    "    dmu_dthetaX = theta_I0*alpha/(np.sqrt(2*np.pi)) * expo * d_erfY\n",
    "    return dmu_dthetaX\n",
    "\n",
    "def dmu_dthetaY(x, y, thetaX, thetaY, alpha, beta, a, theta_I0):\n",
    "    \"\"\"derivative of mu wrt thetaY\"\"\"\n",
    "    d_erfX = d_erf(x, thetaX, alpha, a)\n",
    "    Yplus, Yminus = exponential_comp(y, thetaY, beta, a)\n",
    "    expo = np.exp(-Yminus**2) - np.exp(-Yplus**2)\n",
    "    dmu_dthetaY = theta_I0*beta/(np.sqrt(2*np.pi)) * expo * d_erfX\n",
    "    return dmu_dthetaY\n",
    "\n",
    "def dmu_dthetaI0(x, y, thetaX, thetaY, alpha, beta, a):\n",
    "    \"\"\"derivative of mu wrt thetaI0\"\"\"\n",
    "    d_erfX = d_erf(x, thetaX, alpha, a)\n",
    "    d_erfY = d_erf(y, thetaY, beta, a)\n",
    "    dmu_dthetaI0 = d_erfY*d_erfX\n",
    "    return dmu_dthetaI0\n",
    "\n",
    "def dmu_dthetabg(a):\n",
    "    \"\"\"derivative of mu wrt thetabg\"\"\"\n",
    "    d = a**2\n",
    "    return d\n",
    "    \n",
    "def derf_dsigma(t, thetaT, sigma, a):\n",
    "    \"\"\"derivative of delta error func wrt sigma, sigma=1/stddev\"\"\"\n",
    "    tplus, tminus = exponential_comp(t, thetaT, sigma, a)\n",
    "    der_erf = 1/np.sqrt(np.pi) * ((np.exp(-tminus**2) * tminus/sigma) - (np.exp(-tplus**2) * tplus/sigma))\n",
    "    return der_erf\n",
    "\n",
    "def dmu_dalpha(x, y, thetaX, thetaY, a, alpha, beta, theta_I0):\n",
    "    \"\"\"derivative of image model wrt sigma, sigma=1/stddev\"\"\"\n",
    "    d_erfY = d_erf(y, thetaY, beta, a)\n",
    "    derfX_dsigma = derf_dsigma(x, thetaX, alpha, a)\n",
    "    dmu_dalpha = theta_I0 * derfX_dsigma * d_erfY\n",
    "    return dmu_dalpha\n",
    "\n",
    "def dmu_dbeta(x, y, thetaX, thetaY, a, alpha, beta, theta_I0):\n",
    "    \"\"\"derivative of image model wrt sigma, sigma=1/stddev\"\"\"\n",
    "    d_erfX = d_erf(x, thetaX, alpha, a)\n",
    "    derfY_dsigma = derf_dsigma(y, thetaY, beta, a)\n",
    "    dmu_dbeta = theta_I0 * derfY_dsigma * d_erfX \n",
    "    return dmu_dbeta\n",
    "\n",
    "    \n",
    "def takeDer(para, x, y, thetaX, thetaY, alpha, beta, a, theta_I0):\n",
    "    \"\"\"take derivatives options\"\"\"\n",
    "    if para == \"thetaX\":\n",
    "        der = dmu_dthetaX(x, y, thetaX, thetaY, alpha, beta, a, theta_I0)\n",
    "    elif para == \"thetaY\":\n",
    "        der = dmu_dthetaY(x, y, thetaX, thetaY, alpha, beta, a, theta_I0)\n",
    "    elif para == \"thetaI0\":\n",
    "        der = dmu_dthetaI0(x, y, thetaX, thetaY, alpha, beta, a)\n",
    "    elif para == \"thetabg\":\n",
    "        der = dmu_dthetabg(a)\n",
    "    elif para == \"alpha\":\n",
    "        der = dmu_dalpha(x, y, thetaX, thetaY, a, alpha, beta, theta_I0)\n",
    "    elif para == \"beta\":\n",
    "        der = dmu_dbeta(x, y, thetaX, thetaY, a, alpha, beta, theta_I0)\n",
    "    return der\n",
    "    \n",
    "def fisher(xmax, ymax, thetaX, thetaY, alpha, beta, a, theta_I0, theta_bg):\n",
    "    \"\"\"calculate fisher matrix\"\"\"\n",
    "    para = [\"thetaX\", \"thetaY\", \"thetaI0\",\"thetabg\", \"alpha\", \"beta\"]\n",
    "    n = len(para)\n",
    "    fisher = np.zeros((n,n))\n",
    "    \n",
    "    x, y = np.arange(xmax), np.arange(ymax)\n",
    "    xs, ys = np.meshgrid(x,y)\n",
    "    ys = np.flipud(ys)\n",
    "    mus = mu(xs, ys, thetaX, thetaY, alpha, beta, theta_I0, a, theta_bg)\n",
    "    \n",
    "    for i in range(n):\n",
    "        for j in range(n):\n",
    "            fisher[i,j] = np.sum(1/mus * takeDer(para[i], xs, ys, thetaX,\\\n",
    "                                                 thetaY, alpha, beta, a, theta_I0) * \n",
    "            takeDer(para[j], xs, ys, thetaX, thetaY, alpha, beta, a, theta_I0))\n",
    "    return fisher\n",
    "\n",
    "def crlb(xmax, ymax, thetaX, thetaY, alpha, beta, a, theta_I0, theta_bg):\n",
    "    \"\"\"inverse fisher, retrieve CRLBs\"\"\"\n",
    "    fisherM = fisher(xmax, ymax, thetaX, thetaY, alpha, beta, a, theta_I0, theta_bg)\n",
    "    fisherInv = np.linalg.inv(fisherM)\n",
    "    crlbs = [fisherInv[i,i] for i in range(len(fisherM))]\n",
    "    return crlbs"
   ]
  },
  {
   "cell_type": "code",
   "execution_count": 4,
   "id": "353ea775",
   "metadata": {},
   "outputs": [
    {
     "name": "stdout",
     "output_type": "stream",
     "text": [
      "alpha=3, beta=2, xmax=24, bg=1, N=500\n"
     ]
    },
    {
     "data": {
      "image/png": "[encoded data removed]",
      "text/plain": [
       "<Figure size 640x480 with 1 Axes>"
      ]
     },
     "metadata": {},
     "output_type": "display_data"
    }
   ],
   "source": [
    "n = 20\n",
    "alpha = 3\n",
    "beta = 2\n",
    "xmax = alpha*8\n",
    "ymax = xmax\n",
    "thetaX = (xmax-1)/2\n",
    "thetaY = thetaX\n",
    "thetabg = 1\n",
    "N = 500\n",
    "\n",
    "x,y = np.arange(xmax), np.arange(ymax)\n",
    "xs, ys = np.meshgrid(x,y)\n",
    "\n",
    "plt.rcParams[\"font.size\"] = 15\n",
    "a = np.arange(0.2,1,0.05)\n",
    "m = [np.sum(mu(xs, ys, thetaX, thetaY, 1/alpha, 1/beta, N, a[i], thetabg)) for i in range(len(a))]\n",
    "mT = a**2*thetabg*xmax**2+N*a**2\n",
    "\n",
    "print(f\"alpha={alpha}, beta={beta}, xmax={xmax}, bg={thetabg}, N={N}\")\n",
    "plt.plot(a,m,\"b\", label=\"Calculated\")\n",
    "plt.plot(a,mT,\"g\", label=\"Theoretical\")\n",
    "plt.xlabel(\"Pixel size a\")\n",
    "plt.ylabel(\"Photon counts N\")\n",
    "plt.legend();"
   ]
  },
  {
   "cell_type": "code",
   "execution_count": 9,
   "id": "0f50ebd6",
   "metadata": {},
   "outputs": [
    {
     "name": "stdout",
     "output_type": "stream",
     "text": [
      "panel0, image: 268.99, true: 269.00\n",
      "panel1, image: 43.04, true: 43.04\n",
      "panel2, image: 43.04, true: 43.04\n"
     ]
    },
    {
     "data": {
      "text/plain": [
       "''"
      ]
     },
     "execution_count": 9,
     "metadata": {},
     "output_type": "execute_result"
    },
    {
     "data": {
      "image/png": "[encoded data removed]",
      "text/plain": [
       "<Figure size 1200x400 with 6 Axes>"
      ]
     },
     "metadata": {},
     "output_type": "display_data"
    }
   ],
   "source": [
    "n = 20\n",
    "alpha = np.array([3,3,2])\n",
    "beta = np.array([2,2,3])\n",
    "xmax = np.max(alpha)*8\n",
    "ymax = xmax\n",
    "thetaX = (xmax-1)/2\n",
    "thetaY = thetaX\n",
    "a = [0.5,0.2,0.2] \n",
    "thetabg = 1\n",
    "N = 500\n",
    "\n",
    "\n",
    "fig,ax = plt.subplots(1,3,figsize=(12,4))\n",
    "for i in range(3):\n",
    "    x,y = np.arange(xmax), np.arange(ymax)\n",
    "    xs, ys = np.meshgrid(x,y)\n",
    "    ys = np.flipud(ys)\n",
    "    m = mu(xs, ys, thetaX, thetaY, 1/alpha[i], 1/beta[i], N, a[i], thetabg)\n",
    "    im0 = ax[i].imshow(m,cmap=\"Greens\")\n",
    "    div0 = make_axes_locatable(ax[i])\n",
    "    cax0 = div0.append_axes(\"right\", size=\"5%\", pad=0.1)\n",
    "    cbr0 = plt.colorbar(im0, cax=cax0, orientation=\"vertical\")\n",
    "    ax[i].set_title(f\"a={a[i]},$\\\\alpha$={alpha[i]},$\\\\beta$={beta[i]}\")\n",
    "    img = np.sum(m)\n",
    "    true = a[i]**2*thetabg*xmax**2 + N*a[i]**2\n",
    "    print(f\"panel{i}, image: {img:.2f}, true: {true:.2f}\")\n",
    "fig.suptitle(f\"N={N}, xmax={xmax}, bg={thetabg}\")\n",
    "fig.tight_layout()\n",
    ";"
   ]
  },
  {
   "cell_type": "code",
   "execution_count": 4,
   "id": "efd7b1be",
   "metadata": {},
   "outputs": [
    {
     "data": {
      "text/plain": [
       "[0.20017742513949402,\n",
       " 0.20017742513949402,\n",
       " 12500.248771795146,\n",
       " 1.1837411822220796e-06,\n",
       " 0.006264217682064745,\n",
       " 0.006264217682064744]"
      ]
     },
     "execution_count": 4,
     "metadata": {},
     "output_type": "execute_result"
    }
   ],
   "source": [
    "# Non-rotated\n",
    "n = 20\n",
    "alpha = 2\n",
    "beta = 2\n",
    "xmax = 3*8\n",
    "ymax = xmax\n",
    "thetaX = (xmax-1)/2\n",
    "thetaY = thetaX\n",
    "a = 0.2 \n",
    "thetabg = 1e-5\n",
    "N = 500\n",
    "\n",
    "crlb(xmax, ymax, thetaX, thetaY, 1/alpha, 1/beta, a, N, thetabg)"
   ]
  },
  {
   "cell_type": "code",
   "execution_count": 18,
   "id": "487b722f",
   "metadata": {},
   "outputs": [],
   "source": [
    "col = [\"var(x)\", \"var(y)\", \"var(N)\", \"var(b)\", \"var(alpha)\",\"var(beta)\"]\n",
    "n = 20\n",
    "alpha = 3\n",
    "beta = 2\n",
    "xmax = alpha*12\n",
    "ymax = xmax\n",
    "thetaX = (xmax-1)/2\n",
    "thetaY = thetaX\n",
    "a = 0.2 \n",
    "thetabg = 1\n",
    "\n",
    "#-----------vary N\n",
    "N = np.arange(100, 1000, n)\n",
    "crlbs = [crlb(xmax, ymax, thetaX, thetaY, 1/alpha, 1/beta, a, N[i], thetabg) for i in range(len(N))]\n",
    "df = pd.DataFrame(crlbs, columns=col)\n",
    "\n",
    "\n",
    "#----------vary bg\n",
    "b = np.linspace(0.01,1,25)\n",
    "crlbs_b = [[crlb(xmax, ymax, thetaX, thetaY, 1/alpha, 1/beta, a, N[i], b[j]) for i in range(len(N))] \\\n",
    "           for j in range(len(b))]\n",
    "\n",
    "#----------vary source positions x0,y0\n",
    "thetaX_oc = np.arange(0,xmax)\n",
    "thetaY_oc = np.arange(0,ymax)\n",
    "N_oc = 500\n",
    "crlbs_oc = [crlb(xmax, ymax, thetaX_oc[i], thetaY_oc[i], 1/alpha, 1/beta, a, N_oc, thetabg) for i in range(len(thetaX_oc))]\n",
    "df_oc = pd.DataFrame(crlbs_oc, columns=col)\n",
    "\n",
    "#----------get back circle bounds\n",
    "alpha_ss = 2\n",
    "beta_ss = 2\n",
    "crlbs_ss = [crlb(xmax, ymax, thetaX, thetaY, 1/alpha_ss, 1/beta_ss, a, N[i], thetabg) for i in range(len(N))]\n",
    "df_ss = pd.DataFrame(crlbs_ss, columns=col)\n"
   ]
  },
  {
   "cell_type": "code",
   "execution_count": 21,
   "id": "d6ceeb84",
   "metadata": {},
   "outputs": [
    {
     "name": "stdout",
     "output_type": "stream",
     "text": [
      "alpha=3, beta=2, xmax=36, a=0.2, bg=1\n"
     ]
    },
    {
     "data": {
      "application/vnd.plotly.v1+json": {
       "config": {
        "plotlyServerURL": "https://plot.ly"
       },
       "data": [
        {
         "marker": {
          "color": "darkseagreen"
         },
         "mode": "markers",
         "showlegend": false,
         "type": "scatter",
         "visible": true,
         "x": [
          0.01,
          0.008333333333333333,
          0.007142857142857143,
          0.00625,
          0.005555555555555556,
          0.005,
          0.004545454545454545,
          0.004166666666666667,
          0.0038461538461538464,
          0.0035714285714285713,
          0.0033333333333333335,
          0.003125,
          0.0029411764705882353,
          0.002777777777777778,
          0.002631578947368421,
          0.0025,
          0.002380952380952381,
          0.0022727272727272726,
          0.002173913043478261,
          0.0020833333333333333,
          0.002,
          0.0019230769230769232,
          0.001851851851851852,
          0.0017857142857142857,
          0.0017241379310344827,
          0.0016666666666666668,
          0.0016129032258064516,
          0.0015625,
          0.0015151515151515152,
          0.0014705882352941176,
          0.0014285714285714286,
          0.001388888888888889,
          0.0013513513513513514,
          0.0013157894736842105,
          0.001282051282051282,
          0.00125,
          0.0012195121951219512,
          0.0011904761904761906,
          0.0011627906976744186,
          0.0011363636363636363,
          0.0011111111111111111,
          0.0010869565217391304,
          0.0010638297872340426,
          0.0010416666666666667,
          0.0010204081632653062
         ],
         "xaxis": "x",
         "y": [
          9.824709238195663,
          7.43614973546671,
          5.905244355756963,
          4.854005546455465,
          4.09448854905645,
          3.523904466817621,
          3.0818191316609664,
          2.7306205003549833,
          2.4457997115860923,
          2.2107695623443893,
          2.013941559774597,
          1.846997535911187,
          1.7038260111541432,
          1.579844821697415,
          1.4715567115452444,
          1.3762500643259012,
          1.2917926750643138,
          1.216486690566966,
          1.148964682123663,
          1.0881139432369253,
          1.0330205129222654,
          0.9829272153571771,
          0.9372018109928544,
          0.8953125439134513,
          0.856809168677785,
          0.8213080845672068,
          0.7884805823639784,
          0.7580434736505473,
          0.7297515610159824,
          0.7033915431731104,
          0.6787770477098398,
          0.6557445568126907,
          0.6341500452371013,
          0.6138661902309772,
          0.5947800436887896,
          0.5767910801168836,
          0.5598095518908037,
          0.5437550971351987,
          0.5285555563464561,
          0.5141459623386814,
          0.5004676747687943,
          0.4874676357941551,
          0.47509772764404634,
          0.46331421627856606,
          0.4520772680440668
         ],
         "yaxis": "y"
        },
        {
         "line": {
          "color": "darkseagreen",
          "width": 4
         },
         "name": "b = 0.01",
         "showlegend": false,
         "type": "scatter",
         "visible": true,
         "x": [
          0.01,
          0.008333333333333333,
          0.007142857142857143,
          0.00625,
          0.005555555555555556,
          0.005,
          0.004545454545454545,
          0.004166666666666667,
          0.0038461538461538464,
          0.0035714285714285713,
          0.0033333333333333335,
          0.003125,
          0.0029411764705882353,
          0.002777777777777778,
          0.002631578947368421,
          0.0025,
          0.002380952380952381,
          0.0022727272727272726,
          0.002173913043478261,
          0.0020833333333333333,
          0.002,
          0.0019230769230769232,
          0.001851851851851852,
          0.0017857142857142857,
          0.0017241379310344827,
          0.0016666666666666668,
          0.0016129032258064516,
          0.0015625,
          0.0015151515151515152,
          0.0014705882352941176,
          0.0014285714285714286,
          0.001388888888888889,
          0.0013513513513513514,
          0.0013157894736842105,
          0.001282051282051282,
          0.00125,
          0.0012195121951219512,
          0.0011904761904761906,
          0.0011627906976744186,
          0.0011363636363636363,
          0.0011111111111111111,
          0.0010869565217391304,
          0.0010638297872340426,
          0.0010416666666666667,
          0.0010204081632653062
         ],
         "xaxis": "x2",
         "y": [
          3.477417758818844,
          2.874584038574751,
          2.4489479556378804,
          2.13256753115264,
          1.8882522239057875,
          1.6939486829437354,
          1.5357574085830354,
          1.4044864357039457,
          1.2938156424906275,
          1.199257375844267,
          1.1175377392336243,
          1.0462125564312101,
          0.9834203850621204,
          0.9277187485449085,
          0.8779726275879861,
          0.8332767462540278,
          0.7929002831143834,
          0.756246807550527,
          0.7228247664291798,
          0.6922254173254081,
          0.6641061056111031,
          0.638177434758211,
          0.6141933123181814,
          0.5919431469460448,
          0.5712456732074047,
          0.5519440214511164,
          0.5339017494966899,
          0.5169996241915281,
          0.5011329926254348,
          0.4862096207405747,
          0.47214790520556477,
          0.45887538547662143,
          0.44632749887036105,
          0.43444653358568985,
          0.4231807439132246,
          0.41248359906675225,
          0.402313142678583,
          0.39263144439961684,
          0.3834041285180275,
          0.37459996726924677,
          0.36619052871393554,
          0.35814987083109906,
          0.35045427490315884,
          0.34308201242996617,
          0.33601314075474126
         ],
         "yaxis": "y2"
        },
        {
         "line": {
          "color": "darkseagreen",
          "width": 4
         },
         "name": "b = 0.051250000000000004",
         "showlegend": false,
         "type": "scatter",
         "visible": true,
         "x": [
          0.01,
          0.008333333333333333,
          0.007142857142857143,
          0.00625,
          0.005555555555555556,
          0.005,
          0.004545454545454545,
          0.004166666666666667,
          0.0038461538461538464,
          0.0035714285714285713,
          0.0033333333333333335,
          0.003125,
          0.0029411764705882353,
          0.002777777777777778,
          0.002631578947368421,
          0.0025,
          0.002380952380952381,
          0.0022727272727272726,
          0.002173913043478261,
          0.0020833333333333333,
          0.002,
          0.0019230769230769232,
          0.001851851851851852,
          0.0017857142857142857,
          0.0017241379310344827,
          0.0016666666666666668,
          0.0016129032258064516,
          0.0015625,
          0.0015151515151515152,
          0.0014705882352941176,
          0.0014285714285714286,
          0.001388888888888889,
          0.0013513513513513514,
          0.0013157894736842105,
          0.001282051282051282,
          0.00125,
          0.0012195121951219512,
          0.0011904761904761906,
          0.0011627906976744186,
          0.0011363636363636363,
          0.0011111111111111111,
          0.0010869565217391304,
          0.0010638297872340426,
          0.0010416666666666667,
          0.0010204081632653062
         ],
         "xaxis": "x2",
         "y": [
          3.9748427594512243,
          3.239452807087932,
          2.7297543399800235,
          2.3563938945456844,
          2.0714970254761567,
          1.847164699090603,
          1.666066467009287,
          1.516882155409623,
          1.3919110752614483,
          1.2857362365141554,
          1.1944383800285674,
          1.1151131137207408,
          1.0455632035212932,
          0.9840962207310675,
          0.9293877894083987,
          0.880386927668224,
          0.8362491240457692,
          0.7962881219031447,
          0.7599405900038846,
          0.726739837715819,
          0.6962959873449797,
          0.6682808280307719,
          0.6424161119880372,
          0.6184644147419348,
          0.5962219278886945,
          0.5755127244437437,
          0.5561841577115719,
          0.5381031409119347,
          0.5211531171666234,
          0.5052315750381693,
          0.49024799848534684,
          0.47612216521989414,
          0.46278272636108453,
          0.4501660146474371,
          0.43821503946162965,
          0.42687863540924714,
          0.4161107377858809,
          0.40586976342685843,
          0.3961180794976912,
          0.38682154600375623,
          0.37794912036473244,
          0.36947251445689033,
          0.3613658961843331,
          0.3536056289830448,
          0.34617004375431765
         ],
         "yaxis": "y2"
        },
        {
         "line": {
          "color": "darkseagreen",
          "width": 4
         },
         "name": "b = 0.0925",
         "showlegend": false,
         "type": "scatter",
         "visible": true,
         "x": [
          0.01,
          0.008333333333333333,
          0.007142857142857143,
          0.00625,
          0.005555555555555556,
          0.005,
          0.004545454545454545,
          0.004166666666666667,
          0.0038461538461538464,
          0.0035714285714285713,
          0.0033333333333333335,
          0.003125,
          0.0029411764705882353,
          0.002777777777777778,
          0.002631578947368421,
          0.0025,
          0.002380952380952381,
          0.0022727272727272726,
          0.002173913043478261,
          0.0020833333333333333,
          0.002,
          0.0019230769230769232,
          0.001851851851851852,
          0.0017857142857142857,
          0.0017241379310344827,
          0.0016666666666666668,
          0.0016129032258064516,
          0.0015625,
          0.0015151515151515152,
          0.0014705882352941176,
          0.0014285714285714286,
          0.001388888888888889,
          0.0013513513513513514,
          0.0013157894736842105,
          0.001282051282051282,
          0.00125,
          0.0012195121951219512,
          0.0011904761904761906,
          0.0011627906976744186,
          0.0011363636363636363,
          0.0011111111111111111,
          0.0010869565217391304,
          0.0010638297872340426,
          0.0010416666666666667,
          0.0010204081632653062
         ],
         "xaxis": "x2",
         "y": [
          4.35076344691987,
          3.514357355907913,
          2.940913178452922,
          2.524497033509193,
          2.209015859738572,
          1.9620968554913996,
          1.7637945102963168,
          1.6011718722927788,
          1.4654822826432268,
          1.3506062296440209,
          1.2521375168149038,
          1.1668250626794354,
          1.09221901644548,
          1.0264391269517747,
          0.9680188701550365,
          0.9157979774049224,
          0.8688467266690059,
          0.8264115795067043,
          0.7878754706413681,
          0.752728349143626,
          0.7205450165887864,
          0.6909682408794078,
          0.6636957390582677,
          0.6384700347540819,
          0.6150704772169652,
          0.5933069038393239,
          0.573014565088948,
          0.5540500283891352,
          0.5362878478657931,
          0.5196178382183968,
          0.5039428288158638,
          0.48917680229474414,
          0.47524334311167016,
          0.4620743375543886,
          0.44960887898538027,
          0.43779234154340146,
          0.4265755928619924,
          0.4159143220940835,
          0.40576846403827205,
          0.3961017037285732,
          0.3868810486882602,
          0.3780764583209012,
          0.36966052174057296,
          0.361608176822578,
          0.3538964644584467
         ],
         "yaxis": "y2"
        },
        {
         "line": {
          "color": "darkseagreen",
          "width": 4
         },
         "name": "b = 0.13375",
         "showlegend": false,
         "type": "scatter",
         "visible": true,
         "x": [
          0.01,
          0.008333333333333333,
          0.007142857142857143,
          0.00625,
          0.005555555555555556,
          0.005,
          0.004545454545454545,
          0.004166666666666667,
          0.0038461538461538464,
          0.0035714285714285713,
          0.0033333333333333335,
          0.003125,
          0.0029411764705882353,
          0.002777777777777778,
          0.002631578947368421,
          0.0025,
          0.002380952380952381,
          0.0022727272727272726,
          0.002173913043478261,
          0.0020833333333333333,
          0.002,
          0.0019230769230769232,
          0.001851851851851852,
          0.0017857142857142857,
          0.0017241379310344827,
          0.0016666666666666668,
          0.0016129032258064516,
          0.0015625,
          0.0015151515151515152,
          0.0014705882352941176,
          0.0014285714285714286,
          0.001388888888888889,
          0.0013513513513513514,
          0.0013157894736842105,
          0.001282051282051282,
          0.00125,
          0.0012195121951219512,
          0.0011904761904761906,
          0.0011627906976744186,
          0.0011363636363636363,
          0.0011111111111111111,
          0.0010869565217391304,
          0.0010638297872340426,
          0.0010416666666666667,
          0.0010204081632653062
         ],
         "xaxis": "x2",
         "y": [
          4.682088128067065,
          3.755836677062354,
          3.1259410758085653,
          2.6715234905799257,
          2.32911994158071,
          2.062361373758168,
          1.8489741115576475,
          1.674585847783293,
          1.529523558895305,
          1.4070468382452308,
          1.3023199105019796,
          1.2117863302036165,
          1.1327740550928727,
          1.0632378396653663,
          1.0015864281026716,
          0.9465637511546341,
          0.8971654587399919,
          0.8525791345679763,
          0.812140725843398,
          0.7753022909093582,
          0.7416077850013709,
          0.7106746454023023,
          0.6821796213366774,
          0.655847751837832,
          0.6314437065974428,
          0.6087649204382949,
          0.5876361033512797,
          0.5679048156226756,
          0.5494378750291603,
          0.53211841947993,
          0.5158434900007259,
          0.5005220298198221,
          0.4860732184793384,
          0.4724250774321013,
          0.459513296971637,
          0.44728024464256405,
          0.4356741232612928,
          0.4246482529069844,
          0.4141604561370411,
          0.40417252955050115,
          0.3946497878994923,
          0.38556066940947076,
          0.37687639294733294,
          0.36857065927527355,
          0.3606193899266583
         ],
         "yaxis": "y2"
        },
        {
         "line": {
          "color": "darkseagreen",
          "width": 4
         },
         "name": "b = 0.17500000000000002",
         "showlegend": false,
         "type": "scatter",
         "visible": true,
         "x": [
          0.01,
          0.008333333333333333,
          0.007142857142857143,
          0.00625,
          0.005555555555555556,
          0.005,
          0.004545454545454545,
          0.004166666666666667,
          0.0038461538461538464,
          0.0035714285714285713,
          0.0033333333333333335,
          0.003125,
          0.0029411764705882353,
          0.002777777777777778,
          0.002631578947368421,
          0.0025,
          0.002380952380952381,
          0.0022727272727272726,
          0.002173913043478261,
          0.0020833333333333333,
          0.002,
          0.0019230769230769232,
          0.001851851851851852,
          0.0017857142857142857,
          0.0017241379310344827,
          0.0016666666666666668,
          0.0016129032258064516,
          0.0015625,
          0.0015151515151515152,
          0.0014705882352941176,
          0.0014285714285714286,
          0.001388888888888889,
          0.0013513513513513514,
          0.0013157894736842105,
          0.001282051282051282,
          0.00125,
          0.0012195121951219512,
          0.0011904761904761906,
          0.0011627906976744186,
          0.0011363636363636363,
          0.0011111111111111111,
          0.0010869565217391304,
          0.0010638297872340426,
          0.0010416666666666667,
          0.0010204081632653062
         ],
         "xaxis": "x2",
         "y": [
          4.988125689561898,
          3.9782186493939182,
          3.295949029239334,
          2.806374948156115,
          2.4391220826194866,
          2.154086689804831,
          1.9268251238872731,
          1.7416303158527409,
          1.5879695134207736,
          1.4585270842579585,
          1.3480698871028634,
          1.252759400726905,
          1.1697185907893224,
          1.0967501594006488,
          1.032148019163171,
          0.974567985336712,
          0.9229371241559405,
          0.8763889518445851,
          0.8342162975092764,
          0.7958364716957442,
          0.7607651589071664,
          0.7285965937578787,
          0.6989883289860134,
          0.6716494037550673,
          0.6463310607038238,
          0.6228193950120069,
          0.6009294832624238,
          0.5805006566972608,
          0.5613926674514952,
          0.5434825574285584,
          0.5266620843890136,
          0.5108355931698159,
          0.49591824494939263,
          0.48183453637908497,
          0.4685170548186411,
          0.4559054269943874,
          0.4439454269786418,
          0.4325882160789699,
          0.42178969247689724,
          0.41150993260321067,
          0.40171270953242133,
          0.3923650763122963,
          0.38343700425997174,
          0.37490106796459155,
          0.3667321701228209
         ],
         "yaxis": "y2"
        },
        {
         "line": {
          "color": "darkseagreen",
          "width": 4
         },
         "name": "b = 0.21625000000000003",
         "showlegend": false,
         "type": "scatter",
         "visible": true,
         "x": [
          0.01,
          0.008333333333333333,
          0.007142857142857143,
          0.00625,
          0.005555555555555556,
          0.005,
          0.004545454545454545,
          0.004166666666666667,
          0.0038461538461538464,
          0.0035714285714285713,
          0.0033333333333333335,
          0.003125,
          0.0029411764705882353,
          0.002777777777777778,
          0.002631578947368421,
          0.0025,
          0.002380952380952381,
          0.0022727272727272726,
          0.002173913043478261,
          0.0020833333333333333,
          0.002,
          0.0019230769230769232,
          0.001851851851851852,
          0.0017857142857142857,
          0.0017241379310344827,
          0.0016666666666666668,
          0.0016129032258064516,
          0.0015625,
          0.0015151515151515152,
          0.0014705882352941176,
          0.0014285714285714286,
          0.001388888888888889,
          0.0013513513513513514,
          0.0013157894736842105,
          0.001282051282051282,
          0.00125,
          0.0012195121951219512,
          0.0011904761904761906,
          0.0011627906976744186,
          0.0011363636363636363,
          0.0011111111111111111,
          0.0010869565217391304,
          0.0010638297872340426,
          0.0010416666666666667,
          0.0010204081632653062
         ],
         "xaxis": "x2",
         "y": [
          5.27742109582753,
          4.187878852887224,
          3.4559032725240257,
          2.933045029042442,
          2.542313542277922,
          2.24003861913938,
          1.9997089907782701,
          1.8043482216420537,
          1.6426073263800602,
          1.5066253608571087,
          1.390792981960977,
          1.2910049345343995,
          1.2041905503183843,
          1.1280090445814155,
          1.060646064041146,
          1.0006744147423627,
          0.9469566023926586,
          0.8985752828037203,
          0.8547827507284744,
          0.8149636706300956,
          0.7786071810065707,
          0.745285740636974,
          0.7146388949704114,
          0.6863606812676744,
          0.66018975794689,
          0.6359015965777653,
          0.6133022520042517,
          0.5922233516356242,
          0.5725180351156114,
          0.5540576410887215,
          0.5367289858937704,
          0.5204321147063729,
          0.5050784323823105,
          0.4905891414508735,
          0.47689393009608727,
          0.4639298647815544,
          0.45164045131768654,
          0.4399748352936358,
          0.4288871183832659,
          0.4183357714441932,
          0.40828312883021345,
          0.39869495113331643,
          0.38954004581622065,
          0.38078993700788294,
          0.3724185772035969
         ],
         "yaxis": "y2"
        },
        {
         "line": {
          "color": "darkseagreen",
          "width": 4
         },
         "name": "b = 0.2575",
         "showlegend": false,
         "type": "scatter",
         "visible": true,
         "x": [
          0.01,
          0.008333333333333333,
          0.007142857142857143,
          0.00625,
          0.005555555555555556,
          0.005,
          0.004545454545454545,
          0.004166666666666667,
          0.0038461538461538464,
          0.0035714285714285713,
          0.0033333333333333335,
          0.003125,
          0.0029411764705882353,
          0.002777777777777778,
          0.002631578947368421,
          0.0025,
          0.002380952380952381,
          0.0022727272727272726,
          0.002173913043478261,
          0.0020833333333333333,
          0.002,
          0.0019230769230769232,
          0.001851851851851852,
          0.0017857142857142857,
          0.0017241379310344827,
          0.0016666666666666668,
          0.0016129032258064516,
          0.0015625,
          0.0015151515151515152,
          0.0014705882352941176,
          0.0014285714285714286,
          0.001388888888888889,
          0.0013513513513513514,
          0.0013157894736842105,
          0.001282051282051282,
          0.00125,
          0.0012195121951219512,
          0.0011904761904761906,
          0.0011627906976744186,
          0.0011363636363636363,
          0.0011111111111111111,
          0.0010869565217391304,
          0.0010638297872340426,
          0.0010416666666666667,
          0.0010204081632653062
         ],
         "xaxis": "x2",
         "y": [
          5.554655778665964,
          4.38832516058431,
          3.608545578144162,
          3.0537448176695507,
          2.640520985607016,
          2.3217554748143177,
          2.0689415936815925,
          1.8638798811212731,
          1.6944360578844626,
          1.5522252150626077,
          1.4312769529392202,
          1.3272302880860174,
          1.2368290839139846,
          1.1575952387314659,
          1.0876108710450165,
          1.0253694681825074,
          0.969671887308429,
          0.9195522483019029,
          0.8742241866503582,
          0.8330412478338366,
          0.7954672789465771,
          0.761054001953807,
          0.7294238218736797,
          0.7002565022335205,
          0.673278732776659,
          0.6482558848682557,
          0.6249854391121304,
          0.6032917036447882,
          0.5830215376767269,
          0.5640408646067591,
          0.5462318102185245,
          0.5294903394070145,
          0.5137242932723882,
          0.4988517498523126,
          0.4847996480827633,
          0.4715026270999111,
          0.45890204267725937,
          0.44694513013010034,
          0.43558428892748235,
          0.42477646891201437,
          0.41448264172568483,
          0.4046673439909464,
          0.39529828116427435,
          0.3863459828892926,
          0.3777835022246473
         ],
         "yaxis": "y2"
        },
        {
         "line": {
          "color": "darkseagreen",
          "width": 4
         },
         "name": "b = 0.29875",
         "showlegend": false,
         "type": "scatter",
         "visible": true,
         "x": [
          0.01,
          0.008333333333333333,
          0.007142857142857143,
          0.00625,
          0.005555555555555556,
          0.005,
          0.004545454545454545,
          0.004166666666666667,
          0.0038461538461538464,
          0.0035714285714285713,
          0.0033333333333333335,
          0.003125,
          0.0029411764705882353,
          0.002777777777777778,
          0.002631578947368421,
          0.0025,
          0.002380952380952381,
          0.0022727272727272726,
          0.002173913043478261,
          0.0020833333333333333,
          0.002,
          0.0019230769230769232,
          0.001851851851851852,
          0.0017857142857142857,
          0.0017241379310344827,
          0.0016666666666666668,
          0.0016129032258064516,
          0.0015625,
          0.0015151515151515152,
          0.0014705882352941176,
          0.0014285714285714286,
          0.001388888888888889,
          0.0013513513513513514,
          0.0013157894736842105,
          0.001282051282051282,
          0.00125,
          0.0012195121951219512,
          0.0011904761904761906,
          0.0011627906976744186,
          0.0011363636363636363,
          0.0011111111111111111,
          0.0010869565217391304,
          0.0010638297872340426,
          0.0010416666666666667,
          0.0010204081632653062
         ],
         "xaxis": "x2",
         "y": [
          5.822721619687509,
          4.581732572734614,
          3.7555808688825065,
          3.169852502831542,
          2.734885283094493,
          2.4001997166508167,
          2.1353475034142084,
          1.9209408441095708,
          1.7440834075563165,
          1.5958824055857963,
          1.470017824556917,
          1.3618812872075825,
          1.2680373850000224,
          1.1858753897937948,
          1.1133774994979981,
          1.0489606971093013,
          0.9913664149395625,
          0.9395820141896535,
          0.8927839063827281,
          0.8502956881913312,
          0.8115568776307526,
          0.77609925756476,
          0.7435287587012087,
          0.7135114308496132,
          0.6857624688548368,
          0.6600375470402469,
          0.6361259167137086,
          0.6138448633744941,
          0.593035222108323,
          0.5735577235224721,
          0.5552899967285019,
          0.5381240959913272,
          0.5219644476566196,
          0.5067261365974134,
          0.4923334686376034,
          0.4787187586132788,
          0.4658213039340964,
          0.4535865114446296,
          0.4419651516034587,
          0.4309127188994064,
          0.4203888813116586,
          0.41035700472115066,
          0.40078374066727596,
          0.3916386678486063,
          0.3828939793904107
         ],
         "yaxis": "y2"
        },
        {
         "line": {
          "color": "darkseagreen",
          "width": 4
         },
         "name": "b = 0.34",
         "showlegend": false,
         "type": "scatter",
         "visible": true,
         "x": [
          0.01,
          0.008333333333333333,
          0.007142857142857143,
          0.00625,
          0.005555555555555556,
          0.005,
          0.004545454545454545,
          0.004166666666666667,
          0.0038461538461538464,
          0.0035714285714285713,
          0.0033333333333333335,
          0.003125,
          0.0029411764705882353,
          0.002777777777777778,
          0.002631578947368421,
          0.0025,
          0.002380952380952381,
          0.0022727272727272726,
          0.002173913043478261,
          0.0020833333333333333,
          0.002,
          0.0019230769230769232,
          0.001851851851851852,
          0.0017857142857142857,
          0.0017241379310344827,
          0.0016666666666666668,
          0.0016129032258064516,
          0.0015625,
          0.0015151515151515152,
          0.0014705882352941176,
          0.0014285714285714286,
          0.001388888888888889,
          0.0013513513513513514,
          0.0013157894736842105,
          0.001282051282051282,
          0.00125,
          0.0012195121951219512,
          0.0011904761904761906,
          0.0011627906976744186,
          0.0011363636363636363,
          0.0011111111111111111,
          0.0010869565217391304,
          0.0010638297872340426,
          0.0010416666666666667,
          0.0010204081632653062
         ],
         "xaxis": "x2",
         "y": [
          6.083550245995439,
          4.769558825759427,
          3.8981548137458346,
          3.282296148472263,
          2.8261760447410107,
          2.4760215872890194,
          2.1994845472445803,
          1.976015761330363,
          1.791974982042016,
          1.6379741302381157,
          1.5073525560384615,
          1.3952610419698455,
          1.298089789561913,
          1.2130991462841472,
          1.1381742412950424,
          1.071657781213061,
          1.0122335361067576,
          0.9588435188976259,
          0.9106280574054877,
          0.8668817300566716,
          0.8270204917668911,
          0.7905568217991232,
          0.7570807076470116,
          0.72624493224022,
          0.69775357382362,
          0.6713529318128902,
          0.6468243040145286,
          0.6239781906069952,
          0.6026496077258288,
          0.5826942713617594,
          0.5639854693296276,
          0.5464114812911478,
          0.5298734383678753,
          0.5142835376715812,
          0.49956354516909346,
          0.4856435341632756,
          0.4724608173779907,
          0.45995903896092816,
          0.4480873992367201,
          0.4367999901788265,
          0.42605522363988074,
          0.4158153376259407,
          0.406045968501908,
          0.3967157791118991,
          0.38779613449612316
         ],
         "yaxis": "y2"
        },
        {
         "line": {
          "color": "darkseagreen",
          "width": 4
         },
         "name": "b = 0.38125000000000003",
         "showlegend": false,
         "type": "scatter",
         "visible": true,
         "x": [
          0.01,
          0.008333333333333333,
          0.007142857142857143,
          0.00625,
          0.005555555555555556,
          0.005,
          0.004545454545454545,
          0.004166666666666667,
          0.0038461538461538464,
          0.0035714285714285713,
          0.0033333333333333335,
          0.003125,
          0.0029411764705882353,
          0.002777777777777778,
          0.002631578947368421,
          0.0025,
          0.002380952380952381,
          0.0022727272727272726,
          0.002173913043478261,
          0.0020833333333333333,
          0.002,
          0.0019230769230769232,
          0.001851851851851852,
          0.0017857142857142857,
          0.0017241379310344827,
          0.0016666666666666668,
          0.0016129032258064516,
          0.0015625,
          0.0015151515151515152,
          0.0014705882352941176,
          0.0014285714285714286,
          0.001388888888888889,
          0.0013513513513513514,
          0.0013157894736842105,
          0.001282051282051282,
          0.00125,
          0.0012195121951219512,
          0.0011904761904761906,
          0.0011627906976744186,
          0.0011363636363636363,
          0.0011111111111111111,
          0.0010869565217391304,
          0.0010638297872340426,
          0.0010416666666666667,
          0.0010204081632653062
         ],
         "xaxis": "x2",
         "y": [
          6.338505228542571,
          4.952836249202316,
          4.037080720092143,
          3.391735864651081,
          2.9149415555273914,
          2.5496849655483724,
          2.261751149374889,
          2.029451156744482,
          1.8384153780648798,
          1.6787705739521481,
          1.5435227009428745,
          1.4275869997684452,
          1.3271832365006109,
          1.2394458380041837,
          1.1621651821482892,
          1.093611512135071,
          1.032412371873796,
          0.9774655764338436,
          0.9278763009827798,
          0.8829108662550429,
          0.8419622906616516,
          0.8045242701514315,
          0.7701712841471801,
          0.7385432150692256,
          0.7093333349449801,
          0.6822788327514537,
          0.6571532793543247,
          0.6337605846735689,
          0.6119301146292042,
          0.5915127172014232,
          0.5723774668175419,
          0.5544089805701484,
          0.5375051928487913,
          0.5215754998936424,
          0.5065392047221118,
          0.4923242073897893,
          0.47886589674612534,
          0.46610620855025103,
          0.45399282162427157,
          0.44247846908606925,
          0.43152034595418753,
          0.4210795978045808,
          0.41112087787308327,
          0.40161196218349526,
          0.39252341405076324
         ],
         "yaxis": "y2"
        },
        {
         "line": {
          "color": "darkseagreen",
          "width": 4
         },
         "name": "b = 0.42250000000000004",
         "showlegend": false,
         "type": "scatter",
         "visible": true,
         "x": [
          0.01,
          0.008333333333333333,
          0.007142857142857143,
          0.00625,
          0.005555555555555556,
          0.005,
          0.004545454545454545,
          0.004166666666666667,
          0.0038461538461538464,
          0.0035714285714285713,
          0.0033333333333333335,
          0.003125,
          0.0029411764705882353,
          0.002777777777777778,
          0.002631578947368421,
          0.0025,
          0.002380952380952381,
          0.0022727272727272726,
          0.002173913043478261,
          0.0020833333333333333,
          0.002,
          0.0019230769230769232,
          0.001851851851851852,
          0.0017857142857142857,
          0.0017241379310344827,
          0.0016666666666666668,
          0.0016129032258064516,
          0.0015625,
          0.0015151515151515152,
          0.0014705882352941176,
          0.0014285714285714286,
          0.001388888888888889,
          0.0013513513513513514,
          0.0013157894736842105,
          0.001282051282051282,
          0.00125,
          0.0012195121951219512,
          0.0011904761904761906,
          0.0011627906976744186,
          0.0011363636363636363,
          0.0011111111111111111,
          0.0010869565217391304,
          0.0010638297872340426,
          0.0010416666666666667,
          0.0010204081632653062
         ],
         "xaxis": "x2",
         "y": [
          6.588589742793546,
          5.1323266293932495,
          4.172960134375589,
          3.498660781209958,
          3.0015886947063803,
          2.6215345294422256,
          2.3224436766421857,
          2.081505039476661,
          1.8836315823842789,
          1.7184732364482276,
          1.5787085343812626,
          1.4590215513595928,
          1.3554648901951145,
          1.265049546756431,
          1.1854730712219241,
          1.1149347502245575,
          1.0520070965640955,
          0.9955446858537415,
          0.9446183170325405,
          0.8984666879765031,
          0.8564604040594008,
          0.8180748129180342,
          0.7828692499892733,
          0.7504710039385735,
          0.7205628006208974,
          0.6928729402868953,
          0.6671674569026022,
          0.6432438338381227,
          0.620925928483249,
          0.600059843971551,
          0.5805105488493099,
          0.5621590918452468,
          0.5449002934703011,
          0.528640822215935,
          0.513297582897829,
          0.4987963598350864,
          0.48507066923698205,
          0.47206078424546555,
          0.4597129031808606,
          0.44797843712677055,
          0.4368133974162492,
          0.4261778671069586,
          0.41603554335691284,
          0.4063533398860478,
          0.39710104054864126
         ],
         "yaxis": "y2"
        },
        {
         "line": {
          "color": "darkseagreen",
          "width": 4
         },
         "name": "b = 0.46375000000000005",
         "showlegend": false,
         "type": "scatter",
         "visible": true,
         "x": [
          0.01,
          0.008333333333333333,
          0.007142857142857143,
          0.00625,
          0.005555555555555556,
          0.005,
          0.004545454545454545,
          0.004166666666666667,
          0.0038461538461538464,
          0.0035714285714285713,
          0.0033333333333333335,
          0.003125,
          0.0029411764705882353,
          0.002777777777777778,
          0.002631578947368421,
          0.0025,
          0.002380952380952381,
          0.0022727272727272726,
          0.002173913043478261,
          0.0020833333333333333,
          0.002,
          0.0019230769230769232,
          0.001851851851851852,
          0.0017857142857142857,
          0.0017241379310344827,
          0.0016666666666666668,
          0.0016129032258064516,
          0.0015625,
          0.0015151515151515152,
          0.0014705882352941176,
          0.0014285714285714286,
          0.001388888888888889,
          0.0013513513513513514,
          0.0013157894736842105,
          0.001282051282051282,
          0.00125,
          0.0012195121951219512,
          0.0011904761904761906,
          0.0011627906976744186,
          0.0011363636363636363,
          0.0011111111111111111,
          0.0010869565217391304,
          0.0010638297872340426,
          0.0010416666666666667,
          0.0010204081632653062
         ],
         "xaxis": "x2",
         "y": [
          6.8345659096437235,
          5.308610383686579,
          4.306252394081973,
          3.6034450456645493,
          3.0864291374786093,
          2.6918346227008385,
          2.38178965458924,
          2.1323756648030345,
          1.927798151407073,
          1.757237185194584,
          1.613048880482987,
          1.4896898235229539,
          1.383048207820108,
          1.2900136968776814,
          1.2081926370085494,
          1.1357146319421685,
          1.0710981746760844,
          1.0131554132793317,
          0.9609234288643159,
          0.9136138352718581,
          0.870575269511038,
          0.8312651007172991,
          0.7952278300865937,
          0.7620784136763717,
          0.7314892526905428,
          0.7031799476321936,
          0.6769091576411043,
          0.6524680792265625,
          0.6296751822048419,
          0.6083719300570548,
          0.5884192773103808,
          0.5696947848599967,
          0.552090230193076,
          0.5355096166099246,
          0.5198675061373852,
          0.5050876165948419,
          0.49110163542953866,
          0.47784821237871977,
          0.4652721003974961,
          0.4533234200997246,
          0.4419570275575372,
          0.43113196896670625,
          0.42081100861667586,
          0.4109602189636593,
          0.40154862351387133
         ],
         "yaxis": "y2"
        },
        {
         "line": {
          "color": "darkseagreen",
          "width": 4
         },
         "name": "b = 0.505",
         "showlegend": false,
         "type": "scatter",
         "visible": true,
         "x": [
          0.01,
          0.008333333333333333,
          0.007142857142857143,
          0.00625,
          0.005555555555555556,
          0.005,
          0.004545454545454545,
          0.004166666666666667,
          0.0038461538461538464,
          0.0035714285714285713,
          0.0033333333333333335,
          0.003125,
          0.0029411764705882353,
          0.002777777777777778,
          0.002631578947368421,
          0.0025,
          0.002380952380952381,
          0.0022727272727272726,
          0.002173913043478261,
          0.0020833333333333333,
          0.002,
          0.0019230769230769232,
          0.001851851851851852,
          0.0017857142857142857,
          0.0017241379310344827,
          0.0016666666666666668,
          0.0016129032258064516,
          0.0015625,
          0.0015151515151515152,
          0.0014705882352941176,
          0.0014285714285714286,
          0.001388888888888889,
          0.0013513513513513514,
          0.0013157894736842105,
          0.001282051282051282,
          0.00125,
          0.0012195121951219512,
          0.0011904761904761906,
          0.0011627906976744186,
          0.0011363636363636363,
          0.0011111111111111111,
          0.0010869565217391304,
          0.0010638297872340426,
          0.0010416666666666667,
          0.0010204081632653062
         ],
         "xaxis": "x2",
         "y": [
          7.077027799913962,
          5.482141212426685,
          4.4373173147301905,
          3.7063822315367405,
          3.1697077722566744,
          2.760793181535714,
          2.439968232159417,
          2.182219267156123,
          1.9710527467247267,
          1.795184794037346,
          1.6466533608826426,
          1.5196906766641405,
          1.410022875662023,
          1.3144200826260353,
          1.2303988297405721,
          1.156020129256289,
          1.0897493219656478,
          1.0303568256593907,
          0.9768465695992117,
          0.9284035471849078,
          0.8843548099629158,
          0.8441400672486665,
          0.8072892531060093,
          0.7734052163328705,
          0.7421502247546922,
          0.7132353423947791,
          0.6864119936654035,
          0.6614652090259716,
          0.6382081753796957,
          0.6164778076181889,
          0.5961311258054947,
          0.5770422727741352,
          0.5591000443995355,
          0.542205833031475,
          0.5262719059708294,
          0.5112199572577053,
          0.4969798836607148,
          0.48348874555692645,
          0.47068988105120857,
          0.4585321477083806,
          0.4469692710395156,
          0.4359592826789519,
          0.4254640342262346,
          0.4154487751712861,
          0.405881785297503
         ],
         "yaxis": "y2"
        },
        {
         "line": {
          "color": "darkseagreen",
          "width": 4
         },
         "name": "b = 0.54625",
         "showlegend": false,
         "type": "scatter",
         "visible": true,
         "x": [
          0.01,
          0.008333333333333333,
          0.007142857142857143,
          0.00625,
          0.005555555555555556,
          0.005,
          0.004545454545454545,
          0.004166666666666667,
          0.0038461538461538464,
          0.0035714285714285713,
          0.0033333333333333335,
          0.003125,
          0.0029411764705882353,
          0.002777777777777778,
          0.002631578947368421,
          0.0025,
          0.002380952380952381,
          0.0022727272727272726,
          0.002173913043478261,
          0.0020833333333333333,
          0.002,
          0.0019230769230769232,
          0.001851851851851852,
          0.0017857142857142857,
          0.0017241379310344827,
          0.0016666666666666668,
          0.0016129032258064516,
          0.0015625,
          0.0015151515151515152,
          0.0014705882352941176,
          0.0014285714285714286,
          0.001388888888888889,
          0.0013513513513513514,
          0.0013157894736842105,
          0.001282051282051282,
          0.00125,
          0.0012195121951219512,
          0.0011904761904761906,
          0.0011627906976744186,
          0.0011363636363636363,
          0.0011111111111111111,
          0.0010869565217391304,
          0.0010638297872340426,
          0.0010416666666666667,
          0.0010204081632653062
         ],
         "xaxis": "x2",
         "y": [
          7.316448351447872,
          5.653281283959506,
          4.5664427090216195,
          3.807707544561807,
          3.2516210571234043,
          2.828577202700724,
          2.4971234210620117,
          2.2311615397627245,
          2.0135061983019154,
          1.8324146474860445,
          1.6796103374390041,
          1.5491038399444212,
          1.4364612587247363,
          1.3383347303880218,
          1.2521521760595318,
          1.175906962489806,
          1.1080120310819905,
          1.0471966749843067,
          0.9924321636676665,
          0.9428772734886135,
          0.897837803980978,
          0.8567360823698662,
          0.8190877085323993,
          0.7844836206599791,
          0.7525761202165262,
          0.7230678773896331,
          0.6957032043307501,
          0.6702610711084918,
          0.646549473290299,
          0.6244008568933096,
          0.6036683771897626,
          0.5842228200759698,
          0.5659500536392531,
          0.5487489068344356,
          0.5325293943901559,
          0.5172112240477098,
          0.5027225353197897,
          0.4889988291104336,
          0.4759820554706258,
          0.46361983300202886,
          0.4518647783564085,
          0.4406739282053241,
          0.43000823919678277,
          0.4198321539429276,
          0.4101132231259493
         ],
         "yaxis": "y2"
        },
        {
         "line": {
          "color": "darkseagreen",
          "width": 4
         },
         "name": "b = 0.5875",
         "showlegend": false,
         "type": "scatter",
         "visible": true,
         "x": [
          0.01,
          0.008333333333333333,
          0.007142857142857143,
          0.00625,
          0.005555555555555556,
          0.005,
          0.004545454545454545,
          0.004166666666666667,
          0.0038461538461538464,
          0.0035714285714285713,
          0.0033333333333333335,
          0.003125,
          0.0029411764705882353,
          0.002777777777777778,
          0.002631578947368421,
          0.0025,
          0.002380952380952381,
          0.0022727272727272726,
          0.002173913043478261,
          0.0020833333333333333,
          0.002,
          0.0019230769230769232,
          0.001851851851851852,
          0.0017857142857142857,
          0.0017241379310344827,
          0.0016666666666666668,
          0.0016129032258064516,
          0.0015625,
          0.0015151515151515152,
          0.0014705882352941176,
          0.0014285714285714286,
          0.001388888888888889,
          0.0013513513513513514,
          0.0013157894736842105,
          0.001282051282051282,
          0.00125,
          0.0012195121951219512,
          0.0011904761904761906,
          0.0011627906976744186,
          0.0011363636363636363,
          0.0011111111111111111,
          0.0010869565217391304,
          0.0010638297872340426,
          0.0010416666666666667,
          0.0010204081632653062
         ],
         "xaxis": "x2",
         "y": [
          7.553210751789774,
          5.8223248099577285,
          4.693862849676152,
          3.9076127364036575,
          3.332329358589698,
          2.8953231483738664,
          2.55337300726875,
          2.2793053662108083,
          2.055249285744292,
          1.8690075440745941,
          1.7119922698481096,
          1.5779947263111058,
          1.4624227549916256,
          1.3618118579628298,
          1.2735023968836034,
          1.195420920857968,
          1.1259286314246022,
          1.0637142281999716,
          1.0077167527693782,
          0.9570691188270918,
          0.9110561670560451,
          0.8690830869421049,
          0.8306513492635146,
          0.7953401548501893,
          0.7627919860281647,
          0.7327012449582612,
          0.7048052396003168,
          0.6788769729154451,
          0.6547193300236012,
          0.6321603585088149,
          0.6110494104430969,
          0.5912539688453708,
          0.5726570216329739,
          0.555154876453384,
          0.5386553327824652,
          0.5230761452555174,
          0.5083437257376724,
          0.49439204214401533,
          0.48116168022356665,
          0.4685990409699973,
          0.4566556514221087,
          0.44528757067422886,
          0.43445487616194517,
          0.4241212178981627,
          0.41425343044345386
         ],
         "yaxis": "y2"
        },
        {
         "line": {
          "color": "darkseagreen",
          "width": 4
         },
         "name": "b = 0.62875",
         "showlegend": false,
         "type": "scatter",
         "visible": true,
         "x": [
          0.01,
          0.008333333333333333,
          0.007142857142857143,
          0.00625,
          0.005555555555555556,
          0.005,
          0.004545454545454545,
          0.004166666666666667,
          0.0038461538461538464,
          0.0035714285714285713,
          0.0033333333333333335,
          0.003125,
          0.0029411764705882353,
          0.002777777777777778,
          0.002631578947368421,
          0.0025,
          0.002380952380952381,
          0.0022727272727272726,
          0.002173913043478261,
          0.0020833333333333333,
          0.002,
          0.0019230769230769232,
          0.001851851851851852,
          0.0017857142857142857,
          0.0017241379310344827,
          0.0016666666666666668,
          0.0016129032258064516,
          0.0015625,
          0.0015151515151515152,
          0.0014705882352941176,
          0.0014285714285714286,
          0.001388888888888889,
          0.0013513513513513514,
          0.0013157894736842105,
          0.001282051282051282,
          0.00125,
          0.0012195121951219512,
          0.0011904761904761906,
          0.0011627906976744186,
          0.0011363636363636363,
          0.0011111111111111111,
          0.0010869565217391304,
          0.0010638297872340426,
          0.0010416666666666667,
          0.0010204081632653062
         ],
         "xaxis": "x2",
         "y": [
          7.787630137527811,
          5.989514373316143,
          4.819771272524484,
          4.006256456864231,
          3.4119655233988526,
          2.9611441794831523,
          2.6088147499024115,
          2.326736201484335,
          2.0963574602776873,
          1.905030678582037,
          1.743859449611358,
          1.6064177896762155,
          1.4879568325096728,
          1.3848966371575562,
          1.294490932653063,
          1.2146001809420441,
          1.1435344262704208,
          1.0799422443182916,
          1.022730831006181,
          0.9710075512392974,
          0.9240365466998052,
          0.8812060858740649,
          0.8420036924751717,
          0.8059969838371672,
          0.7728187539790227,
          0.7421552488961972,
          0.7137368684944351,
          0.6873307316514173,
          0.6627346850646028,
          0.6397724406346533,
          0.6182896021219406,
          0.5981503978621998,
          0.5792349780705457,
          0.561437166635611,
          0.5446625810861119,
          0.5288270525835309,
          0.5138552917856486,
          0.49967975727565306,
          0.48623969172300274,
          0.47348029759932747,
          0.4613520295360496,
          0.4498099845961614,
          0.4388133750798231,
          0.428325071174254,
          0.41831120293245766
         ],
         "yaxis": "y2"
        },
        {
         "line": {
          "color": "darkseagreen",
          "width": 4
         },
         "name": "b = 0.67",
         "showlegend": false,
         "type": "scatter",
         "visible": true,
         "x": [
          0.01,
          0.008333333333333333,
          0.007142857142857143,
          0.00625,
          0.005555555555555556,
          0.005,
          0.004545454545454545,
          0.004166666666666667,
          0.0038461538461538464,
          0.0035714285714285713,
          0.0033333333333333335,
          0.003125,
          0.0029411764705882353,
          0.002777777777777778,
          0.002631578947368421,
          0.0025,
          0.002380952380952381,
          0.0022727272727272726,
          0.002173913043478261,
          0.0020833333333333333,
          0.002,
          0.0019230769230769232,
          0.001851851851851852,
          0.0017857142857142857,
          0.0017241379310344827,
          0.0016666666666666668,
          0.0016129032258064516,
          0.0015625,
          0.0015151515151515152,
          0.0014705882352941176,
          0.0014285714285714286,
          0.001388888888888889,
          0.0013513513513513514,
          0.0013157894736842105,
          0.001282051282051282,
          0.00125,
          0.0012195121951219512,
          0.0011904761904761906,
          0.0011627906976744186,
          0.0011363636363636363,
          0.0011111111111111111,
          0.0010869565217391304,
          0.0010638297872340426,
          0.0010416666666666667,
          0.0010204081632653062
         ],
         "xaxis": "x2",
         "y": [
          8.019969023292457,
          6.155052556424061,
          4.944329905588496,
          4.103771642481592,
          3.4906410012092643,
          3.0261353257488457,
          2.66353081444145,
          2.37352592221847,
          2.1368942249818286,
          1.9405406371421967,
          1.7752626751789133,
          1.6344189310043347,
          1.5131052068275648,
          1.4076271750891736,
          1.315152754981338,
          1.2334769705013167,
          1.1608592268873834,
          1.0959083940541878,
          1.0375001629186484,
          0.9847166295674241,
          0.9368014686378232,
          0.893126221224544,
          0.8531646266869142,
          0.8164728564797619,
          0.7826741333959791,
          0.7514466474243009,
          0.7225139765393744,
          0.6956374299462204,
          0.6706098805014442,
          0.6472507607110521,
          0.6254019752804694,
          0.6049245411278441,
          0.585695808904592,
          0.5676071524727963,
          0.5505620373444334,
          0.5344743978446859,
          0.5192672671991735,
          0.5048716159377906,
          0.4912253627443454,
          0.47827252874463166,
          0.4659625116505483,
          0.4542494604909698,
          0.44309173510819555,
          0.43245143737001823,
          0.42229400328590105
         ],
         "yaxis": "y2"
        },
        {
         "line": {
          "color": "darkseagreen",
          "width": 4
         },
         "name": "b = 0.71125",
         "showlegend": false,
         "type": "scatter",
         "visible": true,
         "x": [
          0.01,
          0.008333333333333333,
          0.007142857142857143,
          0.00625,
          0.005555555555555556,
          0.005,
          0.004545454545454545,
          0.004166666666666667,
          0.0038461538461538464,
          0.0035714285714285713,
          0.0033333333333333335,
          0.003125,
          0.0029411764705882353,
          0.002777777777777778,
          0.002631578947368421,
          0.0025,
          0.002380952380952381,
          0.0022727272727272726,
          0.002173913043478261,
          0.0020833333333333333,
          0.002,
          0.0019230769230769232,
          0.001851851851851852,
          0.0017857142857142857,
          0.0017241379310344827,
          0.0016666666666666668,
          0.0016129032258064516,
          0.0015625,
          0.0015151515151515152,
          0.0014705882352941176,
          0.0014285714285714286,
          0.001388888888888889,
          0.0013513513513513514,
          0.0013157894736842105,
          0.001282051282051282,
          0.00125,
          0.0012195121951219512,
          0.0011904761904761906,
          0.0011627906976744186,
          0.0011363636363636363,
          0.0011111111111111111,
          0.0010869565217391304,
          0.0010638297872340426,
          0.0010416666666666667,
          0.0010204081632653062
         ],
         "xaxis": "x2",
         "y": [
          8.250448537491232,
          6.31911042228946,
          5.06767573526823,
          4.200270916824703,
          3.568450323039207,
          3.090377269724707,
          2.7175910192297934,
          2.419735647658882,
          2.1769136124457726,
          1.9755855934720112,
          1.8062452142694738,
          1.6620372638709198,
          1.53790343928714,
          1.4300359689511581,
          1.33551769724264,
          1.2520787908180884,
          1.17792847989393,
          1.1116363033260477,
          1.052046752541144,
          0.9982169060897292,
          0.9493701799042947,
          0.9048615617025173,
          0.8641511528277945,
          0.8267838026977065,
          0.7923732682996077,
          0.7605897738462952,
          0.7311501530059646,
          0.7038099724103196,
          0.6783571893367024,
          0.6546070076977929,
          0.6323976776164144,
          0.6115870436709002,
          0.5920496914081572,
          0.5736745751520569,
          0.5563630354586075,
          0.5400271339076671,
          0.5245882478012797,
          0.509975878871441,
          0.49612663909936405,
          0.4829833838162152,
          0.4704944678404086,
          0.45861310484578593,
          0.4472968137030998,
          0.43650693838805643,
          0.4262082303514093
         ],
         "yaxis": "y2"
        },
        {
         "line": {
          "color": "darkseagreen",
          "width": 4
         },
         "name": "b = 0.7525000000000001",
         "showlegend": false,
         "type": "scatter",
         "visible": true,
         "x": [
          0.01,
          0.008333333333333333,
          0.007142857142857143,
          0.00625,
          0.005555555555555556,
          0.005,
          0.004545454545454545,
          0.004166666666666667,
          0.0038461538461538464,
          0.0035714285714285713,
          0.0033333333333333335,
          0.003125,
          0.0029411764705882353,
          0.002777777777777778,
          0.002631578947368421,
          0.0025,
          0.002380952380952381,
          0.0022727272727272726,
          0.002173913043478261,
          0.0020833333333333333,
          0.002,
          0.0019230769230769232,
          0.001851851851851852,
          0.0017857142857142857,
          0.0017241379310344827,
          0.0016666666666666668,
          0.0016129032258064516,
          0.0015625,
          0.0015151515151515152,
          0.0014705882352941176,
          0.0014285714285714286,
          0.001388888888888889,
          0.0013513513513513514,
          0.0013157894736842105,
          0.001282051282051282,
          0.00125,
          0.0012195121951219512,
          0.0011904761904761906,
          0.0011627906976744186,
          0.0011363636363636363,
          0.0011111111111111111,
          0.0010869565217391304,
          0.0010638297872340426,
          0.0010416666666666667,
          0.0010204081632653062
         ],
         "xaxis": "x2",
         "y": [
          8.479256775215404,
          6.481833829159081,
          5.189925775354602,
          4.295850619560396,
          3.645474445029447,
          3.1539391738395097,
          2.771055262209731,
          2.465417849269826,
          2.216462038400055,
          2.010206952565784,
          1.8368442730037051,
          1.6893064367050514,
          1.562382134355102,
          1.4521509961335528,
          1.3556114519069873,
          1.2704293331350225,
          1.1947641126898056,
          1.1271463359831848,
          1.0663895704522806,
          1.0115261038835177,
          0.9617592816576139,
          0.9164276953736261,
          0.8749779406880294,
          0.8369436570330814,
          0.8019292310270231,
          0.7695970028339673,
          0.7396571321588447,
          0.7118595038930278,
          0.685987212577993,
          0.6618512796288598,
          0.6392863409545038,
          0.6181471042783623,
          0.5983054213447512,
          0.5796478546434363,
          0.5620736443718015,
          0.5454930012689034,
          0.5298256662753621,
          0.5149996898429755,
          0.5009503929778678,
          0.487619479371692,
          0.47495427371933874,
          0.4629070658859381,
          0.4514345442331459,
          0.44049730434449785,
          0.4300594217550604
         ],
         "yaxis": "y2"
        },
        {
         "line": {
          "color": "darkseagreen",
          "width": 4
         },
         "name": "b = 0.7937500000000001",
         "showlegend": false,
         "type": "scatter",
         "visible": true,
         "x": [
          0.01,
          0.008333333333333333,
          0.007142857142857143,
          0.00625,
          0.005555555555555556,
          0.005,
          0.004545454545454545,
          0.004166666666666667,
          0.0038461538461538464,
          0.0035714285714285713,
          0.0033333333333333335,
          0.003125,
          0.0029411764705882353,
          0.002777777777777778,
          0.002631578947368421,
          0.0025,
          0.002380952380952381,
          0.0022727272727272726,
          0.002173913043478261,
          0.0020833333333333333,
          0.002,
          0.0019230769230769232,
          0.001851851851851852,
          0.0017857142857142857,
          0.0017241379310344827,
          0.0016666666666666668,
          0.0016129032258064516,
          0.0015625,
          0.0015151515151515152,
          0.0014705882352941176,
          0.0014285714285714286,
          0.001388888888888889,
          0.0013513513513513514,
          0.0013157894736842105,
          0.001282051282051282,
          0.00125,
          0.0012195121951219512,
          0.0011904761904761906,
          0.0011627906976744186,
          0.0011363636363636363,
          0.0011111111111111111,
          0.0010869565217391304,
          0.0010638297872340426,
          0.0010416666666666667,
          0.0010204081632653062
         ],
         "xaxis": "x2",
         "y": [
          8.706555121108494,
          6.6433482175567775,
          5.311180838202989,
          4.390593866976786,
          3.721783290235411,
          3.2168808306919137,
          2.823975367680575,
          2.5106179568723275,
          2.2555797135234457,
          2.0444406030463314,
          1.8670921156162716,
          1.716255640848086,
          1.5865678527058398,
          1.473996545764976,
          1.3754563314958241,
          1.288549178053226,
          1.2113851788111476,
          1.1424561914274067,
          1.0805451090031923,
          1.0246596342131284,
          0.9739832126359671,
          0.9278381825582633,
          0.8856577541907344,
          0.8469644588548702,
          0.8113533996145584,
          0.7784791069668138,
          0.7480451307044818,
          0.7197957293951132,
          0.6935091830030652,
          0.6689923724720906,
          0.6460763563158607,
          0.6246127377791103,
          0.6044706633730552,
          0.5855343290473888,
          0.5677008971054307,
          0.5508787474566317,
          0.5349860025565667,
          0.5199492775893055,
          0.5057026169657322,
          0.4921865856834112,
          0.4793474899951531,
          0.4671367065219097,
          0.45551010269118086,
          0.4444275343902324,
          0.4338524091515905
         ],
         "yaxis": "y2"
        },
        {
         "line": {
          "color": "darkseagreen",
          "width": 4
         },
         "name": "b = 0.8350000000000001",
         "showlegend": false,
         "type": "scatter",
         "visible": true,
         "x": [
          0.01,
          0.008333333333333333,
          0.007142857142857143,
          0.00625,
          0.005555555555555556,
          0.005,
          0.004545454545454545,
          0.004166666666666667,
          0.0038461538461538464,
          0.0035714285714285713,
          0.0033333333333333335,
          0.003125,
          0.0029411764705882353,
          0.002777777777777778,
          0.002631578947368421,
          0.0025,
          0.002380952380952381,
          0.0022727272727272726,
          0.002173913043478261,
          0.0020833333333333333,
          0.002,
          0.0019230769230769232,
          0.001851851851851852,
          0.0017857142857142857,
          0.0017241379310344827,
          0.0016666666666666668,
          0.0016129032258064516,
          0.0015625,
          0.0015151515151515152,
          0.0014705882352941176,
          0.0014285714285714286,
          0.001388888888888889,
          0.0013513513513513514,
          0.0013157894736842105,
          0.001282051282051282,
          0.00125,
          0.0012195121951219512,
          0.0011904761904761906,
          0.0011627906976744186,
          0.0011363636363636363,
          0.0011111111111111111,
          0.0010869565217391304,
          0.0010638297872340426,
          0.0010416666666666667,
          0.0010204081632653062
         ],
         "xaxis": "x2",
         "y": [
          8.932483112342553,
          6.803762297390122,
          5.4315284425781964,
          4.484572913910276,
          3.797437711612637,
          3.2792543246649744,
          2.8763965140718475,
          2.5553756009242257,
          2.2943017358306963,
          2.0783178865027705,
          1.8970169313960579,
          1.7429103912669826,
          1.6104838185648251,
          1.4955938630475274,
          1.3950718583596733,
          1.306456337720427,
          1.2278083583298007,
          1.157581368094972,
          1.0945278130061016,
          1.0376309979417568,
          0.986054624311266,
          0.939104907335095,
          0.8962017815099956,
          0.8568567630693529,
          0.8206557508358892,
          0.7872455336275686,
          0.7563231098981055,
          0.727627162590397,
          0.700931201169298,
          0.6760380045871703,
          0.652775087687069,
          0.6309909789009827,
          0.6105521456938253,
          0.5913404406672245,
          0.5732509688344558,
          0.5561902976346087,
          0.5400749474434838,
          0.5248301128761231,
          0.5103885749515977,
          0.4966897718626697,
          0.48367900215103304,
          0.47130673890059893,
          0.45952803740448767,
          0.4483020218472743,
          0.4375914390344562
         ],
         "yaxis": "y2"
        },
        {
         "line": {
          "color": "darkseagreen",
          "width": 4
         },
         "name": "b = 0.8762500000000001",
         "showlegend": false,
         "type": "scatter",
         "visible": true,
         "x": [
          0.01,
          0.008333333333333333,
          0.007142857142857143,
          0.00625,
          0.005555555555555556,
          0.005,
          0.004545454545454545,
          0.004166666666666667,
          0.0038461538461538464,
          0.0035714285714285713,
          0.0033333333333333335,
          0.003125,
          0.0029411764705882353,
          0.002777777777777778,
          0.002631578947368421,
          0.0025,
          0.002380952380952381,
          0.0022727272727272726,
          0.002173913043478261,
          0.0020833333333333333,
          0.002,
          0.0019230769230769232,
          0.001851851851851852,
          0.0017857142857142857,
          0.0017241379310344827,
          0.0016666666666666668,
          0.0016129032258064516,
          0.0015625,
          0.0015151515151515152,
          0.0014705882352941176,
          0.0014285714285714286,
          0.001388888888888889,
          0.0013513513513513514,
          0.0013157894736842105,
          0.001282051282051282,
          0.00125,
          0.0012195121951219512,
          0.0011904761904761906,
          0.0011627906976744186,
          0.0011363636363636363,
          0.0011111111111111111,
          0.0010869565217391304,
          0.0010638297872340426,
          0.0010416666666666667,
          0.0010204081632653062
         ],
         "xaxis": "x2",
         "y": [
          9.1571622320271,
          6.963170928222496,
          5.551045087628097,
          4.5778510023697985,
          3.872491029459699,
          3.3411053340790318,
          2.9283583533887634,
          2.599725586940251,
          2.332658947836602,
          2.111866358350984,
          1.9266435153737609,
          1.7692931397061131,
          1.6341504753769067,
          1.516961655546004,
          1.414475228200978,
          1.3241666820410785,
          1.2440483512920206,
          1.1725355279387084,
          1.1083504184899395,
          1.050452101315483,
          0.997984676066902,
          0.950238354155845,
          0.9066198948978056,
          0.8666298847094279,
          0.8298450909141829,
          0.7959046230364456,
          0.7644989819617208,
          0.7353613215711038,
          0.7082604213280952,
          0.6829949935625086,
          0.6593890404561668,
          0.637288042915408,
          0.6165558134538192,
          0.5970718826711687,
          0.578729317260641,
          0.5614328890990736,
          0.5450975315952632,
          0.5296470323394702,
          0.5150129211284583,
          0.5011335203111273,
          0.4879531306134296,
          0.4754213305355153,
          0.4634923713542592,
          0.4521246529274612,
          0.4412802680482628
         ],
         "yaxis": "y2"
        },
        {
         "line": {
          "color": "darkseagreen",
          "width": 4
         },
         "name": "b = 0.9175000000000001",
         "showlegend": false,
         "type": "scatter",
         "visible": true,
         "x": [
          0.01,
          0.008333333333333333,
          0.007142857142857143,
          0.00625,
          0.005555555555555556,
          0.005,
          0.004545454545454545,
          0.004166666666666667,
          0.0038461538461538464,
          0.0035714285714285713,
          0.0033333333333333335,
          0.003125,
          0.0029411764705882353,
          0.002777777777777778,
          0.002631578947368421,
          0.0025,
          0.002380952380952381,
          0.0022727272727272726,
          0.002173913043478261,
          0.0020833333333333333,
          0.002,
          0.0019230769230769232,
          0.001851851851851852,
          0.0017857142857142857,
          0.0017241379310344827,
          0.0016666666666666668,
          0.0016129032258064516,
          0.0015625,
          0.0015151515151515152,
          0.0014705882352941176,
          0.0014285714285714286,
          0.001388888888888889,
          0.0013513513513513514,
          0.0013157894736842105,
          0.001282051282051282,
          0.00125,
          0.0012195121951219512,
          0.0011904761904761906,
          0.0011627906976744186,
          0.0011363636363636363,
          0.0011111111111111111,
          0.0010869565217391304,
          0.0010638297872340426,
          0.0010416666666666667,
          0.0010204081632653062
         ],
         "xaxis": "x2",
         "y": [
          9.380698905941223,
          7.121657397847748,
          5.669798053715172,
          4.670483826737072,
          3.9469902508037196,
          3.402474164544894,
          2.979895899998814,
          2.6436986694543796,
          2.3706786176298094,
          2.1451103925811728,
          1.9559938095018592,
          1.795423762300422,
          1.657585927811597,
          1.5381164960047444,
          1.4336816789422457,
          1.341694277918508,
          1.2601181909352166,
          1.187330786644659,
          1.1220242224790296,
          1.0631335074896304,
          1.0097832703486367,
          0.9612478282422965,
          0.9169208577361246,
          0.8762920938723389,
          0.838929239425537,
          0.8044637820725085,
          0.7725797746664494,
          0.7430048849405113,
          0.7155031996963487,
          0.6898693972639798,
          0.6659239957761666,
          0.6435094537999437,
          0.6224869511448706,
          0.6027337161243546,
          0.5841407946375127,
          0.56661117862452,
          0.550058228497422,
          0.5344043373452824,
          0.5195797949978234,
          0.5055218181000162,
          0.49217371871836557,
          0.47948418905566204,
          0.4674066838875983,
          0.45589888557457914,
          0.4449222391157525
         ],
         "yaxis": "y2"
        },
        {
         "line": {
          "color": "darkseagreen",
          "width": 4
         },
         "name": "b = 0.9587500000000001",
         "showlegend": false,
         "type": "scatter",
         "visible": true,
         "x": [
          0.01,
          0.008333333333333333,
          0.007142857142857143,
          0.00625,
          0.005555555555555556,
          0.005,
          0.004545454545454545,
          0.004166666666666667,
          0.0038461538461538464,
          0.0035714285714285713,
          0.0033333333333333335,
          0.003125,
          0.0029411764705882353,
          0.002777777777777778,
          0.002631578947368421,
          0.0025,
          0.002380952380952381,
          0.0022727272727272726,
          0.002173913043478261,
          0.0020833333333333333,
          0.002,
          0.0019230769230769232,
          0.001851851851851852,
          0.0017857142857142857,
          0.0017241379310344827,
          0.0016666666666666668,
          0.0016129032258064516,
          0.0015625,
          0.0015151515151515152,
          0.0014705882352941176,
          0.0014285714285714286,
          0.001388888888888889,
          0.0013513513513513514,
          0.0013157894736842105,
          0.001282051282051282,
          0.00125,
          0.0012195121951219512,
          0.0011904761904761906,
          0.0011627906976744186,
          0.0011363636363636363,
          0.0011111111111111111,
          0.0010869565217391304,
          0.0010638297872340426,
          0.0010416666666666667,
          0.0010204081632653062
         ],
         "xaxis": "x2",
         "y": [
          9.60318689698674,
          7.2792952454542945,
          5.787846844817779,
          4.76252070829643,
          4.020977047529476,
          3.4633965783256704,
          3.031040244300296,
          2.687322173739321,
          2.4083849861686746,
          2.1780716678714254,
          1.985087337792415,
          1.8213199517419985,
          1.6808062973317126,
          1.5590731464609733,
          1.4527047875832346,
          1.3590516623212987,
          1.2760294958508112,
          1.201977947317996,
          1.1355593002575928,
          1.0756846391256656,
          1.0214592421002089,
          0.9721416331622319,
          0.9271124913842588,
          0.8858507728265383,
          0.8479151775326124,
          0.8129296243987698,
          0.7805717640261977,
          0.7505638176770804,
          0.7226652140280456,
          0.6966666275947992,
          0.6723851189450607,
          0.6496601476275052,
          0.6283502813539221,
          0.6083304644182193,
          0.5894897381685003,
          0.5717293290941057,
          0.5549610375650568,
          0.5391058737854454,
          0.5240928980603341,
          0.5098582307406014,
          0.4963442037322655,
          0.4834986306339586,
          0.4712741766987425,
          0.45962781313273343,
          0.44852034291780596
         ],
         "yaxis": "y2"
        },
        {
         "line": {
          "color": "darkseagreen",
          "width": 4
         },
         "name": "b = 1.0",
         "showlegend": false,
         "type": "scatter",
         "visible": true,
         "x": [
          0.01,
          0.008333333333333333,
          0.007142857142857143,
          0.00625,
          0.005555555555555556,
          0.005,
          0.004545454545454545,
          0.004166666666666667,
          0.0038461538461538464,
          0.0035714285714285713,
          0.0033333333333333335,
          0.003125,
          0.0029411764705882353,
          0.002777777777777778,
          0.002631578947368421,
          0.0025,
          0.002380952380952381,
          0.0022727272727272726,
          0.002173913043478261,
          0.0020833333333333333,
          0.002,
          0.0019230769230769232,
          0.001851851851851852,
          0.0017857142857142857,
          0.0017241379310344827,
          0.0016666666666666668,
          0.0016129032258064516,
          0.0015625,
          0.0015151515151515152,
          0.0014705882352941176,
          0.0014285714285714286,
          0.001388888888888889,
          0.0013513513513513514,
          0.0013157894736842105,
          0.001282051282051282,
          0.00125,
          0.0012195121951219512,
          0.0011904761904761906,
          0.0011627906976744186,
          0.0011363636363636363,
          0.0011111111111111111,
          0.0010869565217391304,
          0.0010638297872340426,
          0.0010416666666666667,
          0.0010204081632653062
         ],
         "xaxis": "x2",
         "y": [
          9.824709238195663,
          7.43614973546671,
          5.905244355756963,
          4.854005546455465,
          4.09448854905645,
          3.523904466817621,
          3.0818191316609664,
          2.7306205003549833,
          2.4457997115860923,
          2.2107695623443893,
          2.013941559774597,
          1.846997535911187,
          1.7038260111541432,
          1.579844821697415,
          1.4715567115452444,
          1.3762500643259012,
          1.2917926750643138,
          1.216486690566966,
          1.148964682123663,
          1.0881139432369253,
          1.0330205129222654,
          0.9829272153571771,
          0.9372018109928544,
          0.8953125439134513,
          0.856809168677785,
          0.8213080845672068,
          0.7884805823639784,
          0.7580434736505473,
          0.7297515610159824,
          0.7033915431731104,
          0.6787770477098398,
          0.6557445568126907,
          0.6341500452371013,
          0.6138661902309772,
          0.5947800436887896,
          0.5767910801168836,
          0.5598095518908037,
          0.5437550971351987,
          0.5285555563464561,
          0.5141459623386814,
          0.5004676747687943,
          0.4874676357941551,
          0.47509772764404634,
          0.46331421627856606,
          0.4520772680440668
         ],
         "yaxis": "y2"
        },
        {
         "line": {
          "color": "darkseagreen",
          "width": 4
         },
         "showlegend": false,
         "type": "scatter",
         "visible": true,
         "x": [
          0,
          1,
          2,
          3,
          4,
          5,
          6,
          7,
          8,
          9,
          10,
          11,
          12,
          13,
          14,
          15,
          16,
          17,
          18,
          19,
          20,
          21,
          22,
          23,
          24,
          25,
          26,
          27,
          28,
          29,
          30,
          31,
          32,
          33,
          34,
          35
         ],
         "xaxis": "x3",
         "y": [
          52.54767326549184,
          12.792522787923332,
          4.340572443888897,
          2.0818246252115586,
          1.382738378753377,
          1.1482803519730918,
          1.0677945206399095,
          1.0418243488746133,
          1.0347683872010323,
          1.033285756653013,
          1.033051614961539,
          1.0330235033595385,
          1.0330208872136752,
          1.0330206960699835,
          1.0330206850358086,
          1.0330206845310077,
          1.0330206845126753,
          1.0330206845121463,
          1.0330206845121463,
          1.0330206845126755,
          1.0330206845310077,
          1.0330206850358086,
          1.0330206960699833,
          1.0330208872136755,
          1.0330235033595385,
          1.0330516149615392,
          1.033285756653013,
          1.0347683872010323,
          1.0418243488746133,
          1.0677945206399095,
          1.1482803519730922,
          1.3827383787533765,
          2.0818246252115595,
          4.340572443888899,
          12.79252278792337,
          52.54767326549196
         ],
         "yaxis": "y3"
        },
        {
         "line": {
          "color": "darkseagreen",
          "width": 4
         },
         "showlegend": false,
         "type": "scatter",
         "visible": true,
         "x": [
          0,
          1,
          2,
          3,
          4,
          5,
          6,
          7,
          8,
          9,
          10,
          11,
          12,
          13,
          14,
          15,
          16,
          17,
          18,
          19,
          20,
          21,
          22,
          23,
          24,
          25,
          26,
          27,
          28,
          29,
          30,
          31,
          32,
          33,
          34,
          35
         ],
         "xaxis": "x4",
         "y": [
          52.54767326549184,
          12.792522787923332,
          4.340572443888897,
          2.0818246252115586,
          1.382738378753377,
          1.1482803519730918,
          1.0677945206399095,
          1.0418243488746133,
          1.0347683872010323,
          1.033285756653013,
          1.033051614961539,
          1.0330235033595385,
          1.0330208872136752,
          1.0330206960699835,
          1.0330206850358086,
          1.0330206845310077,
          1.0330206845126753,
          1.0330206845121463,
          1.0330206845121463,
          1.0330206845126755,
          1.0330206845310077,
          1.0330206850358086,
          1.0330206960699833,
          1.0330208872136755,
          1.0330235033595385,
          1.0330516149615392,
          1.033285756653013,
          1.0347683872010323,
          1.0418243488746133,
          1.0677945206399095,
          1.1482803519730922,
          1.3827383787533765,
          2.0818246252115595,
          4.340572443888899,
          12.79252278792337,
          52.54767326549196
         ],
         "yaxis": "y4"
        }
       ],
       "layout": {
        "annotations": [
         {
          "font": {
           "size": 16
          },
          "showarrow": false,
          "text": "CRLB vs. 1/N, source at center",
          "x": 0.2075,
          "xanchor": "center",
          "xref": "paper",
          "y": 1,
          "yanchor": "bottom",
          "yref": "paper"
         },
         {
          "font": {
           "size": 16
          },
          "showarrow": false,
          "text": "CRLB vs. 1/N for varying b",
          "x": 0.7925,
          "xanchor": "center",
          "xref": "paper",
          "y": 1,
          "yanchor": "bottom",
          "yref": "paper"
         },
         {
          "font": {
           "size": 16
          },
          "showarrow": false,
          "text": "x0 dependence, off-center source",
          "x": 0.2075,
          "xanchor": "center",
          "xref": "paper",
          "y": 0.375,
          "yanchor": "bottom",
          "yref": "paper"
         },
         {
          "font": {
           "size": 16
          },
          "showarrow": false,
          "text": "y0 dependence, off-center source",
          "x": 0.7925,
          "xanchor": "center",
          "xref": "paper",
          "y": 0.375,
          "yanchor": "bottom",
          "yref": "paper"
         }
        ],
        "height": 700,
        "margin": {
         "b": 80,
         "l": 100,
         "r": 100,
         "t": 100
        },
        "template": {
         "data": {
          "bar": [
           {
            "error_x": {
             "color": "rgb(51,51,51)"
            },
            "error_y": {
             "color": "rgb(51,51,51)"
            },
            "marker": {
             "line": {
              "color": "rgb(237,237,237)",
              "width": 0.5
             },
             "pattern": {
              "fillmode": "overlay",
              "size": 10,
              "solidity": 0.2
             }
            },
            "type": "bar"
           }
          ],
          "barpolar": [
           {
            "marker": {
             "line": {
              "color": "rgb(237,237,237)",
              "width": 0.5
             },
             "pattern": {
              "fillmode": "overlay",
              "size": 10,
              "solidity": 0.2
             }
            },
            "type": "barpolar"
           }
          ],
          "carpet": [
           {
            "aaxis": {
             "endlinecolor": "rgb(51,51,51)",
             "gridcolor": "white",
             "linecolor": "white",
             "minorgridcolor": "white",
             "startlinecolor": "rgb(51,51,51)"
            },
            "baxis": {
             "endlinecolor": "rgb(51,51,51)",
             "gridcolor": "white",
             "linecolor": "white",
             "minorgridcolor": "white",
             "startlinecolor": "rgb(51,51,51)"
            },
            "type": "carpet"
           }
          ],
          "choropleth": [
           {
            "colorbar": {
             "outlinewidth": 0,
             "tickcolor": "rgb(237,237,237)",
             "ticklen": 6,
             "ticks": "inside"
            },
            "type": "choropleth"
           }
          ],
          "contour": [
           {
            "colorbar": {
             "outlinewidth": 0,
             "tickcolor": "rgb(237,237,237)",
             "ticklen": 6,
             "ticks": "inside"
            },
            "colorscale": [
             [
              0,
              "rgb(20,44,66)"
             ],
             [
              1,
              "rgb(90,179,244)"
             ]
            ],
            "type": "contour"
           }
          ],
          "contourcarpet": [
           {
            "colorbar": {
             "outlinewidth": 0,
             "tickcolor": "rgb(237,237,237)",
             "ticklen": 6,
             "ticks": "inside"
            },
            "type": "contourcarpet"
           }
          ],
          "heatmap": [
           {
            "colorbar": {
             "outlinewidth": 0,
             "tickcolor": "rgb(237,237,237)",
             "ticklen": 6,
             "ticks": "inside"
            },
            "colorscale": [
             [
              0,
              "rgb(20,44,66)"
             ],
             [
              1,
              "rgb(90,179,244)"
             ]
            ],
            "type": "heatmap"
           }
          ],
          "heatmapgl": [
           {
            "colorbar": {
             "outlinewidth": 0,
             "tickcolor": "rgb(237,237,237)",
             "ticklen": 6,
             "ticks": "inside"
            },
            "colorscale": [
             [
              0,
              "rgb(20,44,66)"
             ],
             [
              1,
              "rgb(90,179,244)"
             ]
            ],
            "type": "heatmapgl"
           }
          ],
          "histogram": [
           {
            "marker": {
             "pattern": {
              "fillmode": "overlay",
              "size": 10,
              "solidity": 0.2
             }
            },
            "type": "histogram"
           }
          ],
          "histogram2d": [
           {
            "colorbar": {
             "outlinewidth": 0,
             "tickcolor": "rgb(237,237,237)",
             "ticklen": 6,
             "ticks": "inside"
            },
            "colorscale": [
             [
              0,
              "rgb(20,44,66)"
             ],
             [
              1,
              "rgb(90,179,244)"
             ]
            ],
            "type": "histogram2d"
           }
          ],
          "histogram2dcontour": [
           {
            "colorbar": {
             "outlinewidth": 0,
             "tickcolor": "rgb(237,237,237)",
             "ticklen": 6,
             "ticks": "inside"
            },
            "colorscale": [
             [
              0,
              "rgb(20,44,66)"
             ],
             [
              1,
              "rgb(90,179,244)"
             ]
            ],
            "type": "histogram2dcontour"
           }
          ],
          "mesh3d": [
           {
            "colorbar": {
             "outlinewidth": 0,
             "tickcolor": "rgb(237,237,237)",
             "ticklen": 6,
             "ticks": "inside"
            },
            "type": "mesh3d"
           }
          ],
          "parcoords": [
           {
            "line": {
             "colorbar": {
              "outlinewidth": 0,
              "tickcolor": "rgb(237,237,237)",
              "ticklen": 6,
              "ticks": "inside"
             }
            },
            "type": "parcoords"
           }
          ],
          "pie": [
           {
            "automargin": true,
            "type": "pie"
           }
          ],
          "scatter": [
           {
            "fillpattern": {
             "fillmode": "overlay",
             "size": 10,
             "solidity": 0.2
            },
            "type": "scatter"
           }
          ],
          "scatter3d": [
           {
            "line": {
             "colorbar": {
              "outlinewidth": 0,
              "tickcolor": "rgb(237,237,237)",
              "ticklen": 6,
              "ticks": "inside"
             }
            },
            "marker": {
             "colorbar": {
              "outlinewidth": 0,
              "tickcolor": "rgb(237,237,237)",
              "ticklen": 6,
              "ticks": "inside"
             }
            },
            "type": "scatter3d"
           }
          ],
          "scattercarpet": [
           {
            "marker": {
             "colorbar": {
              "outlinewidth": 0,
              "tickcolor": "rgb(237,237,237)",
              "ticklen": 6,
              "ticks": "inside"
             }
            },
            "type": "scattercarpet"
           }
          ],
          "scattergeo": [
           {
            "marker": {
             "colorbar": {
              "outlinewidth": 0,
              "tickcolor": "rgb(237,237,237)",
              "ticklen": 6,
              "ticks": "inside"
             }
            },
            "type": "scattergeo"
           }
          ],
          "scattergl": [
           {
            "marker": {
             "colorbar": {
              "outlinewidth": 0,
              "tickcolor": "rgb(237,237,237)",
              "ticklen": 6,
              "ticks": "inside"
             }
            },
            "type": "scattergl"
           }
          ],
          "scattermapbox": [
           {
            "marker": {
             "colorbar": {
              "outlinewidth": 0,
              "tickcolor": "rgb(237,237,237)",
              "ticklen": 6,
              "ticks": "inside"
             }
            },
            "type": "scattermapbox"
           }
          ],
          "scatterpolar": [
           {
            "marker": {
             "colorbar": {
              "outlinewidth": 0,
              "tickcolor": "rgb(237,237,237)",
              "ticklen": 6,
              "ticks": "inside"
             }
            },
            "type": "scatterpolar"
           }
          ],
          "scatterpolargl": [
           {
            "marker": {
             "colorbar": {
              "outlinewidth": 0,
              "tickcolor": "rgb(237,237,237)",
              "ticklen": 6,
              "ticks": "inside"
             }
            },
            "type": "scatterpolargl"
           }
          ],
          "scatterternary": [
           {
            "marker": {
             "colorbar": {
              "outlinewidth": 0,
              "tickcolor": "rgb(237,237,237)",
              "ticklen": 6,
              "ticks": "inside"
             }
            },
            "type": "scatterternary"
           }
          ],
          "surface": [
           {
            "colorbar": {
             "outlinewidth": 0,
             "tickcolor": "rgb(237,237,237)",
             "ticklen": 6,
             "ticks": "inside"
            },
            "colorscale": [
             [
              0,
              "rgb(20,44,66)"
             ],
             [
              1,
              "rgb(90,179,244)"
             ]
            ],
            "type": "surface"
           }
          ],
          "table": [
           {
            "cells": {
             "fill": {
              "color": "rgb(237,237,237)"
             },
             "line": {
              "color": "white"
             }
            },
            "header": {
             "fill": {
              "color": "rgb(217,217,217)"
             },
             "line": {
              "color": "white"
             }
            },
            "type": "table"
           }
          ]
         },
         "layout": {
          "annotationdefaults": {
           "arrowhead": 0,
           "arrowwidth": 1
          },
          "autotypenumbers": "strict",
          "coloraxis": {
           "colorbar": {
            "outlinewidth": 0,
            "tickcolor": "rgb(237,237,237)",
            "ticklen": 6,
            "ticks": "inside"
           }
          },
          "colorscale": {
           "sequential": [
            [
             0,
             "rgb(20,44,66)"
            ],
            [
             1,
             "rgb(90,179,244)"
            ]
           ],
           "sequentialminus": [
            [
             0,
             "rgb(20,44,66)"
            ],
            [
             1,
             "rgb(90,179,244)"
            ]
           ]
          },
          "colorway": [
           "#F8766D",
           "#A3A500",
           "#00BF7D",
           "#00B0F6",
           "#E76BF3"
          ],
          "font": {
           "color": "rgb(51,51,51)"
          },
          "geo": {
           "bgcolor": "white",
           "lakecolor": "white",
           "landcolor": "rgb(237,237,237)",
           "showlakes": true,
           "showland": true,
           "subunitcolor": "white"
          },
          "hoverlabel": {
           "align": "left"
          },
          "hovermode": "closest",
          "paper_bgcolor": "white",
          "plot_bgcolor": "rgb(237,237,237)",
          "polar": {
           "angularaxis": {
            "gridcolor": "white",
            "linecolor": "white",
            "showgrid": true,
            "tickcolor": "rgb(51,51,51)",
            "ticks": "outside"
           },
           "bgcolor": "rgb(237,237,237)",
           "radialaxis": {
            "gridcolor": "white",
            "linecolor": "white",
            "showgrid": true,
            "tickcolor": "rgb(51,51,51)",
            "ticks": "outside"
           }
          },
          "scene": {
           "xaxis": {
            "backgroundcolor": "rgb(237,237,237)",
            "gridcolor": "white",
            "gridwidth": 2,
            "linecolor": "white",
            "showbackground": true,
            "showgrid": true,
            "tickcolor": "rgb(51,51,51)",
            "ticks": "outside",
            "zerolinecolor": "white"
           },
           "yaxis": {
            "backgroundcolor": "rgb(237,237,237)",
            "gridcolor": "white",
            "gridwidth": 2,
            "linecolor": "white",
            "showbackground": true,
            "showgrid": true,
            "tickcolor": "rgb(51,51,51)",
            "ticks": "outside",
            "zerolinecolor": "white"
           },
           "zaxis": {
            "backgroundcolor": "rgb(237,237,237)",
            "gridcolor": "white",
            "gridwidth": 2,
            "linecolor": "white",
            "showbackground": true,
            "showgrid": true,
            "tickcolor": "rgb(51,51,51)",
            "ticks": "outside",
            "zerolinecolor": "white"
           }
          },
          "shapedefaults": {
           "fillcolor": "black",
           "line": {
            "width": 0
           },
           "opacity": 0.3
          },
          "ternary": {
           "aaxis": {
            "gridcolor": "white",
            "linecolor": "white",
            "showgrid": true,
            "tickcolor": "rgb(51,51,51)",
            "ticks": "outside"
           },
           "baxis": {
            "gridcolor": "white",
            "linecolor": "white",
            "showgrid": true,
            "tickcolor": "rgb(51,51,51)",
            "ticks": "outside"
           },
           "bgcolor": "rgb(237,237,237)",
           "caxis": {
            "gridcolor": "white",
            "linecolor": "white",
            "showgrid": true,
            "tickcolor": "rgb(51,51,51)",
            "ticks": "outside"
           }
          },
          "xaxis": {
           "automargin": true,
           "gridcolor": "white",
           "linecolor": "white",
           "showgrid": true,
           "tickcolor": "rgb(51,51,51)",
           "ticks": "outside",
           "title": {
            "standoff": 15
           },
           "zerolinecolor": "white"
          },
          "yaxis": {
           "automargin": true,
           "gridcolor": "white",
           "linecolor": "white",
           "showgrid": true,
           "tickcolor": "rgb(51,51,51)",
           "ticks": "outside",
           "title": {
            "standoff": 15
           },
           "zerolinecolor": "white"
          }
         }
        },
        "xaxis": {
         "anchor": "y",
         "domain": [
          0,
          0.415
         ],
         "title": {
          "text": "1/N"
         }
        },
        "xaxis2": {
         "anchor": "y2",
         "domain": [
          0.585,
          1
         ],
         "title": {
          "text": "1/N"
         }
        },
        "xaxis3": {
         "anchor": "y3",
         "domain": [
          0,
          0.415
         ],
         "title": {
          "text": "$x_0$"
         }
        },
        "xaxis4": {
         "anchor": "y4",
         "domain": [
          0.585,
          1
         ],
         "title": {
          "text": "$y_0$"
         }
        },
        "yaxis": {
         "anchor": "x",
         "domain": [
          0.625,
          1
         ],
         "title": {
          "text": "var(x)+var(y)"
         }
        },
        "yaxis2": {
         "anchor": "x2",
         "domain": [
          0.625,
          1
         ],
         "title": {
          "text": "var(x)+var(y)"
         }
        },
        "yaxis3": {
         "anchor": "x3",
         "domain": [
          0,
          0.375
         ],
         "title": {
          "text": "var(x)+var(y)"
         }
        },
        "yaxis4": {
         "anchor": "x4",
         "domain": [
          0,
          0.375
         ],
         "title": {
          "text": "var(x)+var(y)"
         }
        }
       }
      },
      "text/html": [
       "<div>                            <div id=\"917f9c5f-e6ae-4455-94d5-2be9c835a110\" class=\"plotly-graph-div\" style=\"height:700px; width:100%;\"></div>            <script type=\"text/javascript\">                require([\"plotly\"], function(Plotly) {                    window.PLOTLYENV=window.PLOTLYENV || {};                                    if (document.getElementById(\"917f9c5f-e6ae-4455-94d5-2be9c835a110\")) {                    Plotly.newPlot(                        \"917f9c5f-e6ae-4455-94d5-2be9c835a110\",                        [{\"marker\":{\"color\":\"darkseagreen\"},\"mode\":\"markers\",\"showlegend\":false,\"visible\":true,\"x\":[0.01,0.008333333333333333,0.007142857142857143,0.00625,0.005555555555555556,0.005,0.004545454545454545,0.004166666666666667,0.0038461538461538464,0.0035714285714285713,0.0033333333333333335,0.003125,0.0029411764705882353,0.002777777777777778,0.002631578947368421,0.0025,0.002380952380952381,0.0022727272727272726,0.002173913043478261,0.0020833333333333333,0.002,0.0019230769230769232,0.001851851851851852,0.0017857142857142857,0.0017241379310344827,0.0016666666666666668,0.0016129032258064516,0.0015625,0.0015151515151515152,0.0014705882352941176,0.0014285714285714286,0.001388888888888889,0.0013513513513513514,0.0013157894736842105,0.001282051282051282,0.00125,0.0012195121951219512,0.0011904761904761906,0.0011627906976744186,0.0011363636363636363,0.0011111111111111111,0.0010869565217391304,0.0010638297872340426,0.0010416666666666667,0.0010204081632653062],\"y\":[9.824709238195663,7.43614973546671,5.905244355756963,4.854005546455465,4.09448854905645,3.523904466817621,3.0818191316609664,2.7306205003549833,2.4457997115860923,2.2107695623443893,2.013941559774597,1.846997535911187,1.7038260111541432,1.579844821697415,1.4715567115452444,1.3762500643259012,1.2917926750643138,1.216486690566966,1.148964682123663,1.0881139432369253,1.0330205129222654,0.9829272153571771,0.9372018109928544,0.8953125439134513,0.856809168677785,0.8213080845672068,0.7884805823639784,0.7580434736505473,0.7297515610159824,0.7033915431731104,0.6787770477098398,0.6557445568126907,0.6341500452371013,0.6138661902309772,0.5947800436887896,0.5767910801168836,0.5598095518908037,0.5437550971351987,0.5285555563464561,0.5141459623386814,0.5004676747687943,0.4874676357941551,0.47509772764404634,0.46331421627856606,0.4520772680440668],\"type\":\"scatter\",\"xaxis\":\"x\",\"yaxis\":\"y\"},{\"line\":{\"color\":\"darkseagreen\",\"width\":4},\"name\":\"b = 0.01\",\"showlegend\":false,\"visible\":true,\"x\":[0.01,0.008333333333333333,0.007142857142857143,0.00625,0.005555555555555556,0.005,0.004545454545454545,0.004166666666666667,0.0038461538461538464,0.0035714285714285713,0.0033333333333333335,0.003125,0.0029411764705882353,0.002777777777777778,0.002631578947368421,0.0025,0.002380952380952381,0.0022727272727272726,0.002173913043478261,0.0020833333333333333,0.002,0.0019230769230769232,0.001851851851851852,0.0017857142857142857,0.0017241379310344827,0.0016666666666666668,0.0016129032258064516,0.0015625,0.0015151515151515152,0.0014705882352941176,0.0014285714285714286,0.001388888888888889,0.0013513513513513514,0.0013157894736842105,0.001282051282051282,0.00125,0.0012195121951219512,0.0011904761904761906,0.0011627906976744186,0.0011363636363636363,0.0011111111111111111,0.0010869565217391304,0.0010638297872340426,0.0010416666666666667,0.0010204081632653062],\"y\":[3.477417758818844,2.874584038574751,2.4489479556378804,2.13256753115264,1.8882522239057875,1.6939486829437354,1.5357574085830354,1.4044864357039457,1.2938156424906275,1.199257375844267,1.1175377392336243,1.0462125564312101,0.9834203850621204,0.9277187485449085,0.8779726275879861,0.8332767462540278,0.7929002831143834,0.756246807550527,0.7228247664291798,0.6922254173254081,0.6641061056111031,0.638177434758211,0.6141933123181814,0.5919431469460448,0.5712456732074047,0.5519440214511164,0.5339017494966899,0.5169996241915281,0.5011329926254348,0.4862096207405747,0.47214790520556477,0.45887538547662143,0.44632749887036105,0.43444653358568985,0.4231807439132246,0.41248359906675225,0.402313142678583,0.39263144439961684,0.3834041285180275,0.37459996726924677,0.36619052871393554,0.35814987083109906,0.35045427490315884,0.34308201242996617,0.33601314075474126],\"type\":\"scatter\",\"xaxis\":\"x2\",\"yaxis\":\"y2\"},{\"line\":{\"color\":\"darkseagreen\",\"width\":4},\"name\":\"b = 0.051250000000000004\",\"showlegend\":false,\"visible\":true,\"x\":[0.01,0.008333333333333333,0.007142857142857143,0.00625,0.005555555555555556,0.005,0.004545454545454545,0.004166666666666667,0.0038461538461538464,0.0035714285714285713,0.0033333333333333335,0.003125,0.0029411764705882353,0.002777777777777778,0.002631578947368421,0.0025,0.002380952380952381,0.0022727272727272726,0.002173913043478261,0.0020833333333333333,0.002,0.0019230769230769232,0.001851851851851852,0.0017857142857142857,0.0017241379310344827,0.0016666666666666668,0.0016129032258064516,0.0015625,0.0015151515151515152,0.0014705882352941176,0.0014285714285714286,0.001388888888888889,0.0013513513513513514,0.0013157894736842105,0.001282051282051282,0.00125,0.0012195121951219512,0.0011904761904761906,0.0011627906976744186,0.0011363636363636363,0.0011111111111111111,0.0010869565217391304,0.0010638297872340426,0.0010416666666666667,0.0010204081632653062],\"y\":[3.9748427594512243,3.239452807087932,2.7297543399800235,2.3563938945456844,2.0714970254761567,1.847164699090603,1.666066467009287,1.516882155409623,1.3919110752614483,1.2857362365141554,1.1944383800285674,1.1151131137207408,1.0455632035212932,0.9840962207310675,0.9293877894083987,0.880386927668224,0.8362491240457692,0.7962881219031447,0.7599405900038846,0.726739837715819,0.6962959873449797,0.6682808280307719,0.6424161119880372,0.6184644147419348,0.5962219278886945,0.5755127244437437,0.5561841577115719,0.5381031409119347,0.5211531171666234,0.5052315750381693,0.49024799848534684,0.47612216521989414,0.46278272636108453,0.4501660146474371,0.43821503946162965,0.42687863540924714,0.4161107377858809,0.40586976342685843,0.3961180794976912,0.38682154600375623,0.37794912036473244,0.36947251445689033,0.3613658961843331,0.3536056289830448,0.34617004375431765],\"type\":\"scatter\",\"xaxis\":\"x2\",\"yaxis\":\"y2\"},{\"line\":{\"color\":\"darkseagreen\",\"width\":4},\"name\":\"b = 0.0925\",\"showlegend\":false,\"visible\":true,\"x\":[0.01,0.008333333333333333,0.007142857142857143,0.00625,0.005555555555555556,0.005,0.004545454545454545,0.004166666666666667,0.0038461538461538464,0.0035714285714285713,0.0033333333333333335,0.003125,0.0029411764705882353,0.002777777777777778,0.002631578947368421,0.0025,0.002380952380952381,0.0022727272727272726,0.002173913043478261,0.0020833333333333333,0.002,0.0019230769230769232,0.001851851851851852,0.0017857142857142857,0.0017241379310344827,0.0016666666666666668,0.0016129032258064516,0.0015625,0.0015151515151515152,0.0014705882352941176,0.0014285714285714286,0.001388888888888889,0.0013513513513513514,0.0013157894736842105,0.001282051282051282,0.00125,0.0012195121951219512,0.0011904761904761906,0.0011627906976744186,0.0011363636363636363,0.0011111111111111111,0.0010869565217391304,0.0010638297872340426,0.0010416666666666667,0.0010204081632653062],\"y\":[4.35076344691987,3.514357355907913,2.940913178452922,2.524497033509193,2.209015859738572,1.9620968554913996,1.7637945102963168,1.6011718722927788,1.4654822826432268,1.3506062296440209,1.2521375168149038,1.1668250626794354,1.09221901644548,1.0264391269517747,0.9680188701550365,0.9157979774049224,0.8688467266690059,0.8264115795067043,0.7878754706413681,0.752728349143626,0.7205450165887864,0.6909682408794078,0.6636957390582677,0.6384700347540819,0.6150704772169652,0.5933069038393239,0.573014565088948,0.5540500283891352,0.5362878478657931,0.5196178382183968,0.5039428288158638,0.48917680229474414,0.47524334311167016,0.4620743375543886,0.44960887898538027,0.43779234154340146,0.4265755928619924,0.4159143220940835,0.40576846403827205,0.3961017037285732,0.3868810486882602,0.3780764583209012,0.36966052174057296,0.361608176822578,0.3538964644584467],\"type\":\"scatter\",\"xaxis\":\"x2\",\"yaxis\":\"y2\"},{\"line\":{\"color\":\"darkseagreen\",\"width\":4},\"name\":\"b = 0.13375\",\"showlegend\":false,\"visible\":true,\"x\":[0.01,0.008333333333333333,0.007142857142857143,0.00625,0.005555555555555556,0.005,0.004545454545454545,0.004166666666666667,0.0038461538461538464,0.0035714285714285713,0.0033333333333333335,0.003125,0.0029411764705882353,0.002777777777777778,0.002631578947368421,0.0025,0.002380952380952381,0.0022727272727272726,0.002173913043478261,0.0020833333333333333,0.002,0.0019230769230769232,0.001851851851851852,0.0017857142857142857,0.0017241379310344827,0.0016666666666666668,0.0016129032258064516,0.0015625,0.0015151515151515152,0.0014705882352941176,0.0014285714285714286,0.001388888888888889,0.0013513513513513514,0.0013157894736842105,0.001282051282051282,0.00125,0.0012195121951219512,0.0011904761904761906,0.0011627906976744186,0.0011363636363636363,0.0011111111111111111,0.0010869565217391304,0.0010638297872340426,0.0010416666666666667,0.0010204081632653062],\"y\":[4.682088128067065,3.755836677062354,3.1259410758085653,2.6715234905799257,2.32911994158071,2.062361373758168,1.8489741115576475,1.674585847783293,1.529523558895305,1.4070468382452308,1.3023199105019796,1.2117863302036165,1.1327740550928727,1.0632378396653663,1.0015864281026716,0.9465637511546341,0.8971654587399919,0.8525791345679763,0.812140725843398,0.7753022909093582,0.7416077850013709,0.7106746454023023,0.6821796213366774,0.655847751837832,0.6314437065974428,0.6087649204382949,0.5876361033512797,0.5679048156226756,0.5494378750291603,0.53211841947993,0.5158434900007259,0.5005220298198221,0.4860732184793384,0.4724250774321013,0.459513296971637,0.44728024464256405,0.4356741232612928,0.4246482529069844,0.4141604561370411,0.40417252955050115,0.3946497878994923,0.38556066940947076,0.37687639294733294,0.36857065927527355,0.3606193899266583],\"type\":\"scatter\",\"xaxis\":\"x2\",\"yaxis\":\"y2\"},{\"line\":{\"color\":\"darkseagreen\",\"width\":4},\"name\":\"b = 0.17500000000000002\",\"showlegend\":false,\"visible\":true,\"x\":[0.01,0.008333333333333333,0.007142857142857143,0.00625,0.005555555555555556,0.005,0.004545454545454545,0.004166666666666667,0.0038461538461538464,0.0035714285714285713,0.0033333333333333335,0.003125,0.0029411764705882353,0.002777777777777778,0.002631578947368421,0.0025,0.002380952380952381,0.0022727272727272726,0.002173913043478261,0.0020833333333333333,0.002,0.0019230769230769232,0.001851851851851852,0.0017857142857142857,0.0017241379310344827,0.0016666666666666668,0.0016129032258064516,0.0015625,0.0015151515151515152,0.0014705882352941176,0.0014285714285714286,0.001388888888888889,0.0013513513513513514,0.0013157894736842105,0.001282051282051282,0.00125,0.0012195121951219512,0.0011904761904761906,0.0011627906976744186,0.0011363636363636363,0.0011111111111111111,0.0010869565217391304,0.0010638297872340426,0.0010416666666666667,0.0010204081632653062],\"y\":[4.988125689561898,3.9782186493939182,3.295949029239334,2.806374948156115,2.4391220826194866,2.154086689804831,1.9268251238872731,1.7416303158527409,1.5879695134207736,1.4585270842579585,1.3480698871028634,1.252759400726905,1.1697185907893224,1.0967501594006488,1.032148019163171,0.974567985336712,0.9229371241559405,0.8763889518445851,0.8342162975092764,0.7958364716957442,0.7607651589071664,0.7285965937578787,0.6989883289860134,0.6716494037550673,0.6463310607038238,0.6228193950120069,0.6009294832624238,0.5805006566972608,0.5613926674514952,0.5434825574285584,0.5266620843890136,0.5108355931698159,0.49591824494939263,0.48183453637908497,0.4685170548186411,0.4559054269943874,0.4439454269786418,0.4325882160789699,0.42178969247689724,0.41150993260321067,0.40171270953242133,0.3923650763122963,0.38343700425997174,0.37490106796459155,0.3667321701228209],\"type\":\"scatter\",\"xaxis\":\"x2\",\"yaxis\":\"y2\"},{\"line\":{\"color\":\"darkseagreen\",\"width\":4},\"name\":\"b = 0.21625000000000003\",\"showlegend\":false,\"visible\":true,\"x\":[0.01,0.008333333333333333,0.007142857142857143,0.00625,0.005555555555555556,0.005,0.004545454545454545,0.004166666666666667,0.0038461538461538464,0.0035714285714285713,0.0033333333333333335,0.003125,0.0029411764705882353,0.002777777777777778,0.002631578947368421,0.0025,0.002380952380952381,0.0022727272727272726,0.002173913043478261,0.0020833333333333333,0.002,0.0019230769230769232,0.001851851851851852,0.0017857142857142857,0.0017241379310344827,0.0016666666666666668,0.0016129032258064516,0.0015625,0.0015151515151515152,0.0014705882352941176,0.0014285714285714286,0.001388888888888889,0.0013513513513513514,0.0013157894736842105,0.001282051282051282,0.00125,0.0012195121951219512,0.0011904761904761906,0.0011627906976744186,0.0011363636363636363,0.0011111111111111111,0.0010869565217391304,0.0010638297872340426,0.0010416666666666667,0.0010204081632653062],\"y\":[5.27742109582753,4.187878852887224,3.4559032725240257,2.933045029042442,2.542313542277922,2.24003861913938,1.9997089907782701,1.8043482216420537,1.6426073263800602,1.5066253608571087,1.390792981960977,1.2910049345343995,1.2041905503183843,1.1280090445814155,1.060646064041146,1.0006744147423627,0.9469566023926586,0.8985752828037203,0.8547827507284744,0.8149636706300956,0.7786071810065707,0.745285740636974,0.7146388949704114,0.6863606812676744,0.66018975794689,0.6359015965777653,0.6133022520042517,0.5922233516356242,0.5725180351156114,0.5540576410887215,0.5367289858937704,0.5204321147063729,0.5050784323823105,0.4905891414508735,0.47689393009608727,0.4639298647815544,0.45164045131768654,0.4399748352936358,0.4288871183832659,0.4183357714441932,0.40828312883021345,0.39869495113331643,0.38954004581622065,0.38078993700788294,0.3724185772035969],\"type\":\"scatter\",\"xaxis\":\"x2\",\"yaxis\":\"y2\"},{\"line\":{\"color\":\"darkseagreen\",\"width\":4},\"name\":\"b = 0.2575\",\"showlegend\":false,\"visible\":true,\"x\":[0.01,0.008333333333333333,0.007142857142857143,0.00625,0.005555555555555556,0.005,0.004545454545454545,0.004166666666666667,0.0038461538461538464,0.0035714285714285713,0.0033333333333333335,0.003125,0.0029411764705882353,0.002777777777777778,0.002631578947368421,0.0025,0.002380952380952381,0.0022727272727272726,0.002173913043478261,0.0020833333333333333,0.002,0.0019230769230769232,0.001851851851851852,0.0017857142857142857,0.0017241379310344827,0.0016666666666666668,0.0016129032258064516,0.0015625,0.0015151515151515152,0.0014705882352941176,0.0014285714285714286,0.001388888888888889,0.0013513513513513514,0.0013157894736842105,0.001282051282051282,0.00125,0.0012195121951219512,0.0011904761904761906,0.0011627906976744186,0.0011363636363636363,0.0011111111111111111,0.0010869565217391304,0.0010638297872340426,0.0010416666666666667,0.0010204081632653062],\"y\":[5.554655778665964,4.38832516058431,3.608545578144162,3.0537448176695507,2.640520985607016,2.3217554748143177,2.0689415936815925,1.8638798811212731,1.6944360578844626,1.5522252150626077,1.4312769529392202,1.3272302880860174,1.2368290839139846,1.1575952387314659,1.0876108710450165,1.0253694681825074,0.969671887308429,0.9195522483019029,0.8742241866503582,0.8330412478338366,0.7954672789465771,0.761054001953807,0.7294238218736797,0.7002565022335205,0.673278732776659,0.6482558848682557,0.6249854391121304,0.6032917036447882,0.5830215376767269,0.5640408646067591,0.5462318102185245,0.5294903394070145,0.5137242932723882,0.4988517498523126,0.4847996480827633,0.4715026270999111,0.45890204267725937,0.44694513013010034,0.43558428892748235,0.42477646891201437,0.41448264172568483,0.4046673439909464,0.39529828116427435,0.3863459828892926,0.3777835022246473],\"type\":\"scatter\",\"xaxis\":\"x2\",\"yaxis\":\"y2\"},{\"line\":{\"color\":\"darkseagreen\",\"width\":4},\"name\":\"b = 0.29875\",\"showlegend\":false,\"visible\":true,\"x\":[0.01,0.008333333333333333,0.007142857142857143,0.00625,0.005555555555555556,0.005,0.004545454545454545,0.004166666666666667,0.0038461538461538464,0.0035714285714285713,0.0033333333333333335,0.003125,0.0029411764705882353,0.002777777777777778,0.002631578947368421,0.0025,0.002380952380952381,0.0022727272727272726,0.002173913043478261,0.0020833333333333333,0.002,0.0019230769230769232,0.001851851851851852,0.0017857142857142857,0.0017241379310344827,0.0016666666666666668,0.0016129032258064516,0.0015625,0.0015151515151515152,0.0014705882352941176,0.0014285714285714286,0.001388888888888889,0.0013513513513513514,0.0013157894736842105,0.001282051282051282,0.00125,0.0012195121951219512,0.0011904761904761906,0.0011627906976744186,0.0011363636363636363,0.0011111111111111111,0.0010869565217391304,0.0010638297872340426,0.0010416666666666667,0.0010204081632653062],\"y\":[5.822721619687509,4.581732572734614,3.7555808688825065,3.169852502831542,2.734885283094493,2.4001997166508167,2.1353475034142084,1.9209408441095708,1.7440834075563165,1.5958824055857963,1.470017824556917,1.3618812872075825,1.2680373850000224,1.1858753897937948,1.1133774994979981,1.0489606971093013,0.9913664149395625,0.9395820141896535,0.8927839063827281,0.8502956881913312,0.8115568776307526,0.77609925756476,0.7435287587012087,0.7135114308496132,0.6857624688548368,0.6600375470402469,0.6361259167137086,0.6138448633744941,0.593035222108323,0.5735577235224721,0.5552899967285019,0.5381240959913272,0.5219644476566196,0.5067261365974134,0.4923334686376034,0.4787187586132788,0.4658213039340964,0.4535865114446296,0.4419651516034587,0.4309127188994064,0.4203888813116586,0.41035700472115066,0.40078374066727596,0.3916386678486063,0.3828939793904107],\"type\":\"scatter\",\"xaxis\":\"x2\",\"yaxis\":\"y2\"},{\"line\":{\"color\":\"darkseagreen\",\"width\":4},\"name\":\"b = 0.34\",\"showlegend\":false,\"visible\":true,\"x\":[0.01,0.008333333333333333,0.007142857142857143,0.00625,0.005555555555555556,0.005,0.004545454545454545,0.004166666666666667,0.0038461538461538464,0.0035714285714285713,0.0033333333333333335,0.003125,0.0029411764705882353,0.002777777777777778,0.002631578947368421,0.0025,0.002380952380952381,0.0022727272727272726,0.002173913043478261,0.0020833333333333333,0.002,0.0019230769230769232,0.001851851851851852,0.0017857142857142857,0.0017241379310344827,0.0016666666666666668,0.0016129032258064516,0.0015625,0.0015151515151515152,0.0014705882352941176,0.0014285714285714286,0.001388888888888889,0.0013513513513513514,0.0013157894736842105,0.001282051282051282,0.00125,0.0012195121951219512,0.0011904761904761906,0.0011627906976744186,0.0011363636363636363,0.0011111111111111111,0.0010869565217391304,0.0010638297872340426,0.0010416666666666667,0.0010204081632653062],\"y\":[6.083550245995439,4.769558825759427,3.8981548137458346,3.282296148472263,2.8261760447410107,2.4760215872890194,2.1994845472445803,1.976015761330363,1.791974982042016,1.6379741302381157,1.5073525560384615,1.3952610419698455,1.298089789561913,1.2130991462841472,1.1381742412950424,1.071657781213061,1.0122335361067576,0.9588435188976259,0.9106280574054877,0.8668817300566716,0.8270204917668911,0.7905568217991232,0.7570807076470116,0.72624493224022,0.69775357382362,0.6713529318128902,0.6468243040145286,0.6239781906069952,0.6026496077258288,0.5826942713617594,0.5639854693296276,0.5464114812911478,0.5298734383678753,0.5142835376715812,0.49956354516909346,0.4856435341632756,0.4724608173779907,0.45995903896092816,0.4480873992367201,0.4367999901788265,0.42605522363988074,0.4158153376259407,0.406045968501908,0.3967157791118991,0.38779613449612316],\"type\":\"scatter\",\"xaxis\":\"x2\",\"yaxis\":\"y2\"},{\"line\":{\"color\":\"darkseagreen\",\"width\":4},\"name\":\"b = 0.38125000000000003\",\"showlegend\":false,\"visible\":true,\"x\":[0.01,0.008333333333333333,0.007142857142857143,0.00625,0.005555555555555556,0.005,0.004545454545454545,0.004166666666666667,0.0038461538461538464,0.0035714285714285713,0.0033333333333333335,0.003125,0.0029411764705882353,0.002777777777777778,0.002631578947368421,0.0025,0.002380952380952381,0.0022727272727272726,0.002173913043478261,0.0020833333333333333,0.002,0.0019230769230769232,0.001851851851851852,0.0017857142857142857,0.0017241379310344827,0.0016666666666666668,0.0016129032258064516,0.0015625,0.0015151515151515152,0.0014705882352941176,0.0014285714285714286,0.001388888888888889,0.0013513513513513514,0.0013157894736842105,0.001282051282051282,0.00125,0.0012195121951219512,0.0011904761904761906,0.0011627906976744186,0.0011363636363636363,0.0011111111111111111,0.0010869565217391304,0.0010638297872340426,0.0010416666666666667,0.0010204081632653062],\"y\":[6.338505228542571,4.952836249202316,4.037080720092143,3.391735864651081,2.9149415555273914,2.5496849655483724,2.261751149374889,2.029451156744482,1.8384153780648798,1.6787705739521481,1.5435227009428745,1.4275869997684452,1.3271832365006109,1.2394458380041837,1.1621651821482892,1.093611512135071,1.032412371873796,0.9774655764338436,0.9278763009827798,0.8829108662550429,0.8419622906616516,0.8045242701514315,0.7701712841471801,0.7385432150692256,0.7093333349449801,0.6822788327514537,0.6571532793543247,0.6337605846735689,0.6119301146292042,0.5915127172014232,0.5723774668175419,0.5544089805701484,0.5375051928487913,0.5215754998936424,0.5065392047221118,0.4923242073897893,0.47886589674612534,0.46610620855025103,0.45399282162427157,0.44247846908606925,0.43152034595418753,0.4210795978045808,0.41112087787308327,0.40161196218349526,0.39252341405076324],\"type\":\"scatter\",\"xaxis\":\"x2\",\"yaxis\":\"y2\"},{\"line\":{\"color\":\"darkseagreen\",\"width\":4},\"name\":\"b = 0.42250000000000004\",\"showlegend\":false,\"visible\":true,\"x\":[0.01,0.008333333333333333,0.007142857142857143,0.00625,0.005555555555555556,0.005,0.004545454545454545,0.004166666666666667,0.0038461538461538464,0.0035714285714285713,0.0033333333333333335,0.003125,0.0029411764705882353,0.002777777777777778,0.002631578947368421,0.0025,0.002380952380952381,0.0022727272727272726,0.002173913043478261,0.0020833333333333333,0.002,0.0019230769230769232,0.001851851851851852,0.0017857142857142857,0.0017241379310344827,0.0016666666666666668,0.0016129032258064516,0.0015625,0.0015151515151515152,0.0014705882352941176,0.0014285714285714286,0.001388888888888889,0.0013513513513513514,0.0013157894736842105,0.001282051282051282,0.00125,0.0012195121951219512,0.0011904761904761906,0.0011627906976744186,0.0011363636363636363,0.0011111111111111111,0.0010869565217391304,0.0010638297872340426,0.0010416666666666667,0.0010204081632653062],\"y\":[6.588589742793546,5.1323266293932495,4.172960134375589,3.498660781209958,3.0015886947063803,2.6215345294422256,2.3224436766421857,2.081505039476661,1.8836315823842789,1.7184732364482276,1.5787085343812626,1.4590215513595928,1.3554648901951145,1.265049546756431,1.1854730712219241,1.1149347502245575,1.0520070965640955,0.9955446858537415,0.9446183170325405,0.8984666879765031,0.8564604040594008,0.8180748129180342,0.7828692499892733,0.7504710039385735,0.7205628006208974,0.6928729402868953,0.6671674569026022,0.6432438338381227,0.620925928483249,0.600059843971551,0.5805105488493099,0.5621590918452468,0.5449002934703011,0.528640822215935,0.513297582897829,0.4987963598350864,0.48507066923698205,0.47206078424546555,0.4597129031808606,0.44797843712677055,0.4368133974162492,0.4261778671069586,0.41603554335691284,0.4063533398860478,0.39710104054864126],\"type\":\"scatter\",\"xaxis\":\"x2\",\"yaxis\":\"y2\"},{\"line\":{\"color\":\"darkseagreen\",\"width\":4},\"name\":\"b = 0.46375000000000005\",\"showlegend\":false,\"visible\":true,\"x\":[0.01,0.008333333333333333,0.007142857142857143,0.00625,0.005555555555555556,0.005,0.004545454545454545,0.004166666666666667,0.0038461538461538464,0.0035714285714285713,0.0033333333333333335,0.003125,0.0029411764705882353,0.002777777777777778,0.002631578947368421,0.0025,0.002380952380952381,0.0022727272727272726,0.002173913043478261,0.0020833333333333333,0.002,0.0019230769230769232,0.001851851851851852,0.0017857142857142857,0.0017241379310344827,0.0016666666666666668,0.0016129032258064516,0.0015625,0.0015151515151515152,0.0014705882352941176,0.0014285714285714286,0.001388888888888889,0.0013513513513513514,0.0013157894736842105,0.001282051282051282,0.00125,0.0012195121951219512,0.0011904761904761906,0.0011627906976744186,0.0011363636363636363,0.0011111111111111111,0.0010869565217391304,0.0010638297872340426,0.0010416666666666667,0.0010204081632653062],\"y\":[6.8345659096437235,5.308610383686579,4.306252394081973,3.6034450456645493,3.0864291374786093,2.6918346227008385,2.38178965458924,2.1323756648030345,1.927798151407073,1.757237185194584,1.613048880482987,1.4896898235229539,1.383048207820108,1.2900136968776814,1.2081926370085494,1.1357146319421685,1.0710981746760844,1.0131554132793317,0.9609234288643159,0.9136138352718581,0.870575269511038,0.8312651007172991,0.7952278300865937,0.7620784136763717,0.7314892526905428,0.7031799476321936,0.6769091576411043,0.6524680792265625,0.6296751822048419,0.6083719300570548,0.5884192773103808,0.5696947848599967,0.552090230193076,0.5355096166099246,0.5198675061373852,0.5050876165948419,0.49110163542953866,0.47784821237871977,0.4652721003974961,0.4533234200997246,0.4419570275575372,0.43113196896670625,0.42081100861667586,0.4109602189636593,0.40154862351387133],\"type\":\"scatter\",\"xaxis\":\"x2\",\"yaxis\":\"y2\"},{\"line\":{\"color\":\"darkseagreen\",\"width\":4},\"name\":\"b = 0.505\",\"showlegend\":false,\"visible\":true,\"x\":[0.01,0.008333333333333333,0.007142857142857143,0.00625,0.005555555555555556,0.005,0.004545454545454545,0.004166666666666667,0.0038461538461538464,0.0035714285714285713,0.0033333333333333335,0.003125,0.0029411764705882353,0.002777777777777778,0.002631578947368421,0.0025,0.002380952380952381,0.0022727272727272726,0.002173913043478261,0.0020833333333333333,0.002,0.0019230769230769232,0.001851851851851852,0.0017857142857142857,0.0017241379310344827,0.0016666666666666668,0.0016129032258064516,0.0015625,0.0015151515151515152,0.0014705882352941176,0.0014285714285714286,0.001388888888888889,0.0013513513513513514,0.0013157894736842105,0.001282051282051282,0.00125,0.0012195121951219512,0.0011904761904761906,0.0011627906976744186,0.0011363636363636363,0.0011111111111111111,0.0010869565217391304,0.0010638297872340426,0.0010416666666666667,0.0010204081632653062],\"y\":[7.077027799913962,5.482141212426685,4.4373173147301905,3.7063822315367405,3.1697077722566744,2.760793181535714,2.439968232159417,2.182219267156123,1.9710527467247267,1.795184794037346,1.6466533608826426,1.5196906766641405,1.410022875662023,1.3144200826260353,1.2303988297405721,1.156020129256289,1.0897493219656478,1.0303568256593907,0.9768465695992117,0.9284035471849078,0.8843548099629158,0.8441400672486665,0.8072892531060093,0.7734052163328705,0.7421502247546922,0.7132353423947791,0.6864119936654035,0.6614652090259716,0.6382081753796957,0.6164778076181889,0.5961311258054947,0.5770422727741352,0.5591000443995355,0.542205833031475,0.5262719059708294,0.5112199572577053,0.4969798836607148,0.48348874555692645,0.47068988105120857,0.4585321477083806,0.4469692710395156,0.4359592826789519,0.4254640342262346,0.4154487751712861,0.405881785297503],\"type\":\"scatter\",\"xaxis\":\"x2\",\"yaxis\":\"y2\"},{\"line\":{\"color\":\"darkseagreen\",\"width\":4},\"name\":\"b = 0.54625\",\"showlegend\":false,\"visible\":true,\"x\":[0.01,0.008333333333333333,0.007142857142857143,0.00625,0.005555555555555556,0.005,0.004545454545454545,0.004166666666666667,0.0038461538461538464,0.0035714285714285713,0.0033333333333333335,0.003125,0.0029411764705882353,0.002777777777777778,0.002631578947368421,0.0025,0.002380952380952381,0.0022727272727272726,0.002173913043478261,0.0020833333333333333,0.002,0.0019230769230769232,0.001851851851851852,0.0017857142857142857,0.0017241379310344827,0.0016666666666666668,0.0016129032258064516,0.0015625,0.0015151515151515152,0.0014705882352941176,0.0014285714285714286,0.001388888888888889,0.0013513513513513514,0.0013157894736842105,0.001282051282051282,0.00125,0.0012195121951219512,0.0011904761904761906,0.0011627906976744186,0.0011363636363636363,0.0011111111111111111,0.0010869565217391304,0.0010638297872340426,0.0010416666666666667,0.0010204081632653062],\"y\":[7.316448351447872,5.653281283959506,4.5664427090216195,3.807707544561807,3.2516210571234043,2.828577202700724,2.4971234210620117,2.2311615397627245,2.0135061983019154,1.8324146474860445,1.6796103374390041,1.5491038399444212,1.4364612587247363,1.3383347303880218,1.2521521760595318,1.175906962489806,1.1080120310819905,1.0471966749843067,0.9924321636676665,0.9428772734886135,0.897837803980978,0.8567360823698662,0.8190877085323993,0.7844836206599791,0.7525761202165262,0.7230678773896331,0.6957032043307501,0.6702610711084918,0.646549473290299,0.6244008568933096,0.6036683771897626,0.5842228200759698,0.5659500536392531,0.5487489068344356,0.5325293943901559,0.5172112240477098,0.5027225353197897,0.4889988291104336,0.4759820554706258,0.46361983300202886,0.4518647783564085,0.4406739282053241,0.43000823919678277,0.4198321539429276,0.4101132231259493],\"type\":\"scatter\",\"xaxis\":\"x2\",\"yaxis\":\"y2\"},{\"line\":{\"color\":\"darkseagreen\",\"width\":4},\"name\":\"b = 0.5875\",\"showlegend\":false,\"visible\":true,\"x\":[0.01,0.008333333333333333,0.007142857142857143,0.00625,0.005555555555555556,0.005,0.004545454545454545,0.004166666666666667,0.0038461538461538464,0.0035714285714285713,0.0033333333333333335,0.003125,0.0029411764705882353,0.002777777777777778,0.002631578947368421,0.0025,0.002380952380952381,0.0022727272727272726,0.002173913043478261,0.0020833333333333333,0.002,0.0019230769230769232,0.001851851851851852,0.0017857142857142857,0.0017241379310344827,0.0016666666666666668,0.0016129032258064516,0.0015625,0.0015151515151515152,0.0014705882352941176,0.0014285714285714286,0.001388888888888889,0.0013513513513513514,0.0013157894736842105,0.001282051282051282,0.00125,0.0012195121951219512,0.0011904761904761906,0.0011627906976744186,0.0011363636363636363,0.0011111111111111111,0.0010869565217391304,0.0010638297872340426,0.0010416666666666667,0.0010204081632653062],\"y\":[7.553210751789774,5.8223248099577285,4.693862849676152,3.9076127364036575,3.332329358589698,2.8953231483738664,2.55337300726875,2.2793053662108083,2.055249285744292,1.8690075440745941,1.7119922698481096,1.5779947263111058,1.4624227549916256,1.3618118579628298,1.2735023968836034,1.195420920857968,1.1259286314246022,1.0637142281999716,1.0077167527693782,0.9570691188270918,0.9110561670560451,0.8690830869421049,0.8306513492635146,0.7953401548501893,0.7627919860281647,0.7327012449582612,0.7048052396003168,0.6788769729154451,0.6547193300236012,0.6321603585088149,0.6110494104430969,0.5912539688453708,0.5726570216329739,0.555154876453384,0.5386553327824652,0.5230761452555174,0.5083437257376724,0.49439204214401533,0.48116168022356665,0.4685990409699973,0.4566556514221087,0.44528757067422886,0.43445487616194517,0.4241212178981627,0.41425343044345386],\"type\":\"scatter\",\"xaxis\":\"x2\",\"yaxis\":\"y2\"},{\"line\":{\"color\":\"darkseagreen\",\"width\":4},\"name\":\"b = 0.62875\",\"showlegend\":false,\"visible\":true,\"x\":[0.01,0.008333333333333333,0.007142857142857143,0.00625,0.005555555555555556,0.005,0.004545454545454545,0.004166666666666667,0.0038461538461538464,0.0035714285714285713,0.0033333333333333335,0.003125,0.0029411764705882353,0.002777777777777778,0.002631578947368421,0.0025,0.002380952380952381,0.0022727272727272726,0.002173913043478261,0.0020833333333333333,0.002,0.0019230769230769232,0.001851851851851852,0.0017857142857142857,0.0017241379310344827,0.0016666666666666668,0.0016129032258064516,0.0015625,0.0015151515151515152,0.0014705882352941176,0.0014285714285714286,0.001388888888888889,0.0013513513513513514,0.0013157894736842105,0.001282051282051282,0.00125,0.0012195121951219512,0.0011904761904761906,0.0011627906976744186,0.0011363636363636363,0.0011111111111111111,0.0010869565217391304,0.0010638297872340426,0.0010416666666666667,0.0010204081632653062],\"y\":[7.787630137527811,5.989514373316143,4.819771272524484,4.006256456864231,3.4119655233988526,2.9611441794831523,2.6088147499024115,2.326736201484335,2.0963574602776873,1.905030678582037,1.743859449611358,1.6064177896762155,1.4879568325096728,1.3848966371575562,1.294490932653063,1.2146001809420441,1.1435344262704208,1.0799422443182916,1.022730831006181,0.9710075512392974,0.9240365466998052,0.8812060858740649,0.8420036924751717,0.8059969838371672,0.7728187539790227,0.7421552488961972,0.7137368684944351,0.6873307316514173,0.6627346850646028,0.6397724406346533,0.6182896021219406,0.5981503978621998,0.5792349780705457,0.561437166635611,0.5446625810861119,0.5288270525835309,0.5138552917856486,0.49967975727565306,0.48623969172300274,0.47348029759932747,0.4613520295360496,0.4498099845961614,0.4388133750798231,0.428325071174254,0.41831120293245766],\"type\":\"scatter\",\"xaxis\":\"x2\",\"yaxis\":\"y2\"},{\"line\":{\"color\":\"darkseagreen\",\"width\":4},\"name\":\"b = 0.67\",\"showlegend\":false,\"visible\":true,\"x\":[0.01,0.008333333333333333,0.007142857142857143,0.00625,0.005555555555555556,0.005,0.004545454545454545,0.004166666666666667,0.0038461538461538464,0.0035714285714285713,0.0033333333333333335,0.003125,0.0029411764705882353,0.002777777777777778,0.002631578947368421,0.0025,0.002380952380952381,0.0022727272727272726,0.002173913043478261,0.0020833333333333333,0.002,0.0019230769230769232,0.001851851851851852,0.0017857142857142857,0.0017241379310344827,0.0016666666666666668,0.0016129032258064516,0.0015625,0.0015151515151515152,0.0014705882352941176,0.0014285714285714286,0.001388888888888889,0.0013513513513513514,0.0013157894736842105,0.001282051282051282,0.00125,0.0012195121951219512,0.0011904761904761906,0.0011627906976744186,0.0011363636363636363,0.0011111111111111111,0.0010869565217391304,0.0010638297872340426,0.0010416666666666667,0.0010204081632653062],\"y\":[8.019969023292457,6.155052556424061,4.944329905588496,4.103771642481592,3.4906410012092643,3.0261353257488457,2.66353081444145,2.37352592221847,2.1368942249818286,1.9405406371421967,1.7752626751789133,1.6344189310043347,1.5131052068275648,1.4076271750891736,1.315152754981338,1.2334769705013167,1.1608592268873834,1.0959083940541878,1.0375001629186484,0.9847166295674241,0.9368014686378232,0.893126221224544,0.8531646266869142,0.8164728564797619,0.7826741333959791,0.7514466474243009,0.7225139765393744,0.6956374299462204,0.6706098805014442,0.6472507607110521,0.6254019752804694,0.6049245411278441,0.585695808904592,0.5676071524727963,0.5505620373444334,0.5344743978446859,0.5192672671991735,0.5048716159377906,0.4912253627443454,0.47827252874463166,0.4659625116505483,0.4542494604909698,0.44309173510819555,0.43245143737001823,0.42229400328590105],\"type\":\"scatter\",\"xaxis\":\"x2\",\"yaxis\":\"y2\"},{\"line\":{\"color\":\"darkseagreen\",\"width\":4},\"name\":\"b = 0.71125\",\"showlegend\":false,\"visible\":true,\"x\":[0.01,0.008333333333333333,0.007142857142857143,0.00625,0.005555555555555556,0.005,0.004545454545454545,0.004166666666666667,0.0038461538461538464,0.0035714285714285713,0.0033333333333333335,0.003125,0.0029411764705882353,0.002777777777777778,0.002631578947368421,0.0025,0.002380952380952381,0.0022727272727272726,0.002173913043478261,0.0020833333333333333,0.002,0.0019230769230769232,0.001851851851851852,0.0017857142857142857,0.0017241379310344827,0.0016666666666666668,0.0016129032258064516,0.0015625,0.0015151515151515152,0.0014705882352941176,0.0014285714285714286,0.001388888888888889,0.0013513513513513514,0.0013157894736842105,0.001282051282051282,0.00125,0.0012195121951219512,0.0011904761904761906,0.0011627906976744186,0.0011363636363636363,0.0011111111111111111,0.0010869565217391304,0.0010638297872340426,0.0010416666666666667,0.0010204081632653062],\"y\":[8.250448537491232,6.31911042228946,5.06767573526823,4.200270916824703,3.568450323039207,3.090377269724707,2.7175910192297934,2.419735647658882,2.1769136124457726,1.9755855934720112,1.8062452142694738,1.6620372638709198,1.53790343928714,1.4300359689511581,1.33551769724264,1.2520787908180884,1.17792847989393,1.1116363033260477,1.052046752541144,0.9982169060897292,0.9493701799042947,0.9048615617025173,0.8641511528277945,0.8267838026977065,0.7923732682996077,0.7605897738462952,0.7311501530059646,0.7038099724103196,0.6783571893367024,0.6546070076977929,0.6323976776164144,0.6115870436709002,0.5920496914081572,0.5736745751520569,0.5563630354586075,0.5400271339076671,0.5245882478012797,0.509975878871441,0.49612663909936405,0.4829833838162152,0.4704944678404086,0.45861310484578593,0.4472968137030998,0.43650693838805643,0.4262082303514093],\"type\":\"scatter\",\"xaxis\":\"x2\",\"yaxis\":\"y2\"},{\"line\":{\"color\":\"darkseagreen\",\"width\":4},\"name\":\"b = 0.7525000000000001\",\"showlegend\":false,\"visible\":true,\"x\":[0.01,0.008333333333333333,0.007142857142857143,0.00625,0.005555555555555556,0.005,0.004545454545454545,0.004166666666666667,0.0038461538461538464,0.0035714285714285713,0.0033333333333333335,0.003125,0.0029411764705882353,0.002777777777777778,0.002631578947368421,0.0025,0.002380952380952381,0.0022727272727272726,0.002173913043478261,0.0020833333333333333,0.002,0.0019230769230769232,0.001851851851851852,0.0017857142857142857,0.0017241379310344827,0.0016666666666666668,0.0016129032258064516,0.0015625,0.0015151515151515152,0.0014705882352941176,0.0014285714285714286,0.001388888888888889,0.0013513513513513514,0.0013157894736842105,0.001282051282051282,0.00125,0.0012195121951219512,0.0011904761904761906,0.0011627906976744186,0.0011363636363636363,0.0011111111111111111,0.0010869565217391304,0.0010638297872340426,0.0010416666666666667,0.0010204081632653062],\"y\":[8.479256775215404,6.481833829159081,5.189925775354602,4.295850619560396,3.645474445029447,3.1539391738395097,2.771055262209731,2.465417849269826,2.216462038400055,2.010206952565784,1.8368442730037051,1.6893064367050514,1.562382134355102,1.4521509961335528,1.3556114519069873,1.2704293331350225,1.1947641126898056,1.1271463359831848,1.0663895704522806,1.0115261038835177,0.9617592816576139,0.9164276953736261,0.8749779406880294,0.8369436570330814,0.8019292310270231,0.7695970028339673,0.7396571321588447,0.7118595038930278,0.685987212577993,0.6618512796288598,0.6392863409545038,0.6181471042783623,0.5983054213447512,0.5796478546434363,0.5620736443718015,0.5454930012689034,0.5298256662753621,0.5149996898429755,0.5009503929778678,0.487619479371692,0.47495427371933874,0.4629070658859381,0.4514345442331459,0.44049730434449785,0.4300594217550604],\"type\":\"scatter\",\"xaxis\":\"x2\",\"yaxis\":\"y2\"},{\"line\":{\"color\":\"darkseagreen\",\"width\":4},\"name\":\"b = 0.7937500000000001\",\"showlegend\":false,\"visible\":true,\"x\":[0.01,0.008333333333333333,0.007142857142857143,0.00625,0.005555555555555556,0.005,0.004545454545454545,0.004166666666666667,0.0038461538461538464,0.0035714285714285713,0.0033333333333333335,0.003125,0.0029411764705882353,0.002777777777777778,0.002631578947368421,0.0025,0.002380952380952381,0.0022727272727272726,0.002173913043478261,0.0020833333333333333,0.002,0.0019230769230769232,0.001851851851851852,0.0017857142857142857,0.0017241379310344827,0.0016666666666666668,0.0016129032258064516,0.0015625,0.0015151515151515152,0.0014705882352941176,0.0014285714285714286,0.001388888888888889,0.0013513513513513514,0.0013157894736842105,0.001282051282051282,0.00125,0.0012195121951219512,0.0011904761904761906,0.0011627906976744186,0.0011363636363636363,0.0011111111111111111,0.0010869565217391304,0.0010638297872340426,0.0010416666666666667,0.0010204081632653062],\"y\":[8.706555121108494,6.6433482175567775,5.311180838202989,4.390593866976786,3.721783290235411,3.2168808306919137,2.823975367680575,2.5106179568723275,2.2555797135234457,2.0444406030463314,1.8670921156162716,1.716255640848086,1.5865678527058398,1.473996545764976,1.3754563314958241,1.288549178053226,1.2113851788111476,1.1424561914274067,1.0805451090031923,1.0246596342131284,0.9739832126359671,0.9278381825582633,0.8856577541907344,0.8469644588548702,0.8113533996145584,0.7784791069668138,0.7480451307044818,0.7197957293951132,0.6935091830030652,0.6689923724720906,0.6460763563158607,0.6246127377791103,0.6044706633730552,0.5855343290473888,0.5677008971054307,0.5508787474566317,0.5349860025565667,0.5199492775893055,0.5057026169657322,0.4921865856834112,0.4793474899951531,0.4671367065219097,0.45551010269118086,0.4444275343902324,0.4338524091515905],\"type\":\"scatter\",\"xaxis\":\"x2\",\"yaxis\":\"y2\"},{\"line\":{\"color\":\"darkseagreen\",\"width\":4},\"name\":\"b = 0.8350000000000001\",\"showlegend\":false,\"visible\":true,\"x\":[0.01,0.008333333333333333,0.007142857142857143,0.00625,0.005555555555555556,0.005,0.004545454545454545,0.004166666666666667,0.0038461538461538464,0.0035714285714285713,0.0033333333333333335,0.003125,0.0029411764705882353,0.002777777777777778,0.002631578947368421,0.0025,0.002380952380952381,0.0022727272727272726,0.002173913043478261,0.0020833333333333333,0.002,0.0019230769230769232,0.001851851851851852,0.0017857142857142857,0.0017241379310344827,0.0016666666666666668,0.0016129032258064516,0.0015625,0.0015151515151515152,0.0014705882352941176,0.0014285714285714286,0.001388888888888889,0.0013513513513513514,0.0013157894736842105,0.001282051282051282,0.00125,0.0012195121951219512,0.0011904761904761906,0.0011627906976744186,0.0011363636363636363,0.0011111111111111111,0.0010869565217391304,0.0010638297872340426,0.0010416666666666667,0.0010204081632653062],\"y\":[8.932483112342553,6.803762297390122,5.4315284425781964,4.484572913910276,3.797437711612637,3.2792543246649744,2.8763965140718475,2.5553756009242257,2.2943017358306963,2.0783178865027705,1.8970169313960579,1.7429103912669826,1.6104838185648251,1.4955938630475274,1.3950718583596733,1.306456337720427,1.2278083583298007,1.157581368094972,1.0945278130061016,1.0376309979417568,0.986054624311266,0.939104907335095,0.8962017815099956,0.8568567630693529,0.8206557508358892,0.7872455336275686,0.7563231098981055,0.727627162590397,0.700931201169298,0.6760380045871703,0.652775087687069,0.6309909789009827,0.6105521456938253,0.5913404406672245,0.5732509688344558,0.5561902976346087,0.5400749474434838,0.5248301128761231,0.5103885749515977,0.4966897718626697,0.48367900215103304,0.47130673890059893,0.45952803740448767,0.4483020218472743,0.4375914390344562],\"type\":\"scatter\",\"xaxis\":\"x2\",\"yaxis\":\"y2\"},{\"line\":{\"color\":\"darkseagreen\",\"width\":4},\"name\":\"b = 0.8762500000000001\",\"showlegend\":false,\"visible\":true,\"x\":[0.01,0.008333333333333333,0.007142857142857143,0.00625,0.005555555555555556,0.005,0.004545454545454545,0.004166666666666667,0.0038461538461538464,0.0035714285714285713,0.0033333333333333335,0.003125,0.0029411764705882353,0.002777777777777778,0.002631578947368421,0.0025,0.002380952380952381,0.0022727272727272726,0.002173913043478261,0.0020833333333333333,0.002,0.0019230769230769232,0.001851851851851852,0.0017857142857142857,0.0017241379310344827,0.0016666666666666668,0.0016129032258064516,0.0015625,0.0015151515151515152,0.0014705882352941176,0.0014285714285714286,0.001388888888888889,0.0013513513513513514,0.0013157894736842105,0.001282051282051282,0.00125,0.0012195121951219512,0.0011904761904761906,0.0011627906976744186,0.0011363636363636363,0.0011111111111111111,0.0010869565217391304,0.0010638297872340426,0.0010416666666666667,0.0010204081632653062],\"y\":[9.1571622320271,6.963170928222496,5.551045087628097,4.5778510023697985,3.872491029459699,3.3411053340790318,2.9283583533887634,2.599725586940251,2.332658947836602,2.111866358350984,1.9266435153737609,1.7692931397061131,1.6341504753769067,1.516961655546004,1.414475228200978,1.3241666820410785,1.2440483512920206,1.1725355279387084,1.1083504184899395,1.050452101315483,0.997984676066902,0.950238354155845,0.9066198948978056,0.8666298847094279,0.8298450909141829,0.7959046230364456,0.7644989819617208,0.7353613215711038,0.7082604213280952,0.6829949935625086,0.6593890404561668,0.637288042915408,0.6165558134538192,0.5970718826711687,0.578729317260641,0.5614328890990736,0.5450975315952632,0.5296470323394702,0.5150129211284583,0.5011335203111273,0.4879531306134296,0.4754213305355153,0.4634923713542592,0.4521246529274612,0.4412802680482628],\"type\":\"scatter\",\"xaxis\":\"x2\",\"yaxis\":\"y2\"},{\"line\":{\"color\":\"darkseagreen\",\"width\":4},\"name\":\"b = 0.9175000000000001\",\"showlegend\":false,\"visible\":true,\"x\":[0.01,0.008333333333333333,0.007142857142857143,0.00625,0.005555555555555556,0.005,0.004545454545454545,0.004166666666666667,0.0038461538461538464,0.0035714285714285713,0.0033333333333333335,0.003125,0.0029411764705882353,0.002777777777777778,0.002631578947368421,0.0025,0.002380952380952381,0.0022727272727272726,0.002173913043478261,0.0020833333333333333,0.002,0.0019230769230769232,0.001851851851851852,0.0017857142857142857,0.0017241379310344827,0.0016666666666666668,0.0016129032258064516,0.0015625,0.0015151515151515152,0.0014705882352941176,0.0014285714285714286,0.001388888888888889,0.0013513513513513514,0.0013157894736842105,0.001282051282051282,0.00125,0.0012195121951219512,0.0011904761904761906,0.0011627906976744186,0.0011363636363636363,0.0011111111111111111,0.0010869565217391304,0.0010638297872340426,0.0010416666666666667,0.0010204081632653062],\"y\":[9.380698905941223,7.121657397847748,5.669798053715172,4.670483826737072,3.9469902508037196,3.402474164544894,2.979895899998814,2.6436986694543796,2.3706786176298094,2.1451103925811728,1.9559938095018592,1.795423762300422,1.657585927811597,1.5381164960047444,1.4336816789422457,1.341694277918508,1.2601181909352166,1.187330786644659,1.1220242224790296,1.0631335074896304,1.0097832703486367,0.9612478282422965,0.9169208577361246,0.8762920938723389,0.838929239425537,0.8044637820725085,0.7725797746664494,0.7430048849405113,0.7155031996963487,0.6898693972639798,0.6659239957761666,0.6435094537999437,0.6224869511448706,0.6027337161243546,0.5841407946375127,0.56661117862452,0.550058228497422,0.5344043373452824,0.5195797949978234,0.5055218181000162,0.49217371871836557,0.47948418905566204,0.4674066838875983,0.45589888557457914,0.4449222391157525],\"type\":\"scatter\",\"xaxis\":\"x2\",\"yaxis\":\"y2\"},{\"line\":{\"color\":\"darkseagreen\",\"width\":4},\"name\":\"b = 0.9587500000000001\",\"showlegend\":false,\"visible\":true,\"x\":[0.01,0.008333333333333333,0.007142857142857143,0.00625,0.005555555555555556,0.005,0.004545454545454545,0.004166666666666667,0.0038461538461538464,0.0035714285714285713,0.0033333333333333335,0.003125,0.0029411764705882353,0.002777777777777778,0.002631578947368421,0.0025,0.002380952380952381,0.0022727272727272726,0.002173913043478261,0.0020833333333333333,0.002,0.0019230769230769232,0.001851851851851852,0.0017857142857142857,0.0017241379310344827,0.0016666666666666668,0.0016129032258064516,0.0015625,0.0015151515151515152,0.0014705882352941176,0.0014285714285714286,0.001388888888888889,0.0013513513513513514,0.0013157894736842105,0.001282051282051282,0.00125,0.0012195121951219512,0.0011904761904761906,0.0011627906976744186,0.0011363636363636363,0.0011111111111111111,0.0010869565217391304,0.0010638297872340426,0.0010416666666666667,0.0010204081632653062],\"y\":[9.60318689698674,7.2792952454542945,5.787846844817779,4.76252070829643,4.020977047529476,3.4633965783256704,3.031040244300296,2.687322173739321,2.4083849861686746,2.1780716678714254,1.985087337792415,1.8213199517419985,1.6808062973317126,1.5590731464609733,1.4527047875832346,1.3590516623212987,1.2760294958508112,1.201977947317996,1.1355593002575928,1.0756846391256656,1.0214592421002089,0.9721416331622319,0.9271124913842588,0.8858507728265383,0.8479151775326124,0.8129296243987698,0.7805717640261977,0.7505638176770804,0.7226652140280456,0.6966666275947992,0.6723851189450607,0.6496601476275052,0.6283502813539221,0.6083304644182193,0.5894897381685003,0.5717293290941057,0.5549610375650568,0.5391058737854454,0.5240928980603341,0.5098582307406014,0.4963442037322655,0.4834986306339586,0.4712741766987425,0.45962781313273343,0.44852034291780596],\"type\":\"scatter\",\"xaxis\":\"x2\",\"yaxis\":\"y2\"},{\"line\":{\"color\":\"darkseagreen\",\"width\":4},\"name\":\"b = 1.0\",\"showlegend\":false,\"visible\":true,\"x\":[0.01,0.008333333333333333,0.007142857142857143,0.00625,0.005555555555555556,0.005,0.004545454545454545,0.004166666666666667,0.0038461538461538464,0.0035714285714285713,0.0033333333333333335,0.003125,0.0029411764705882353,0.002777777777777778,0.002631578947368421,0.0025,0.002380952380952381,0.0022727272727272726,0.002173913043478261,0.0020833333333333333,0.002,0.0019230769230769232,0.001851851851851852,0.0017857142857142857,0.0017241379310344827,0.0016666666666666668,0.0016129032258064516,0.0015625,0.0015151515151515152,0.0014705882352941176,0.0014285714285714286,0.001388888888888889,0.0013513513513513514,0.0013157894736842105,0.001282051282051282,0.00125,0.0012195121951219512,0.0011904761904761906,0.0011627906976744186,0.0011363636363636363,0.0011111111111111111,0.0010869565217391304,0.0010638297872340426,0.0010416666666666667,0.0010204081632653062],\"y\":[9.824709238195663,7.43614973546671,5.905244355756963,4.854005546455465,4.09448854905645,3.523904466817621,3.0818191316609664,2.7306205003549833,2.4457997115860923,2.2107695623443893,2.013941559774597,1.846997535911187,1.7038260111541432,1.579844821697415,1.4715567115452444,1.3762500643259012,1.2917926750643138,1.216486690566966,1.148964682123663,1.0881139432369253,1.0330205129222654,0.9829272153571771,0.9372018109928544,0.8953125439134513,0.856809168677785,0.8213080845672068,0.7884805823639784,0.7580434736505473,0.7297515610159824,0.7033915431731104,0.6787770477098398,0.6557445568126907,0.6341500452371013,0.6138661902309772,0.5947800436887896,0.5767910801168836,0.5598095518908037,0.5437550971351987,0.5285555563464561,0.5141459623386814,0.5004676747687943,0.4874676357941551,0.47509772764404634,0.46331421627856606,0.4520772680440668],\"type\":\"scatter\",\"xaxis\":\"x2\",\"yaxis\":\"y2\"},{\"line\":{\"color\":\"darkseagreen\",\"width\":4},\"showlegend\":false,\"visible\":true,\"x\":[0,1,2,3,4,5,6,7,8,9,10,11,12,13,14,15,16,17,18,19,20,21,22,23,24,25,26,27,28,29,30,31,32,33,34,35],\"y\":[52.54767326549184,12.792522787923332,4.340572443888897,2.0818246252115586,1.382738378753377,1.1482803519730918,1.0677945206399095,1.0418243488746133,1.0347683872010323,1.033285756653013,1.033051614961539,1.0330235033595385,1.0330208872136752,1.0330206960699835,1.0330206850358086,1.0330206845310077,1.0330206845126753,1.0330206845121463,1.0330206845121463,1.0330206845126755,1.0330206845310077,1.0330206850358086,1.0330206960699833,1.0330208872136755,1.0330235033595385,1.0330516149615392,1.033285756653013,1.0347683872010323,1.0418243488746133,1.0677945206399095,1.1482803519730922,1.3827383787533765,2.0818246252115595,4.340572443888899,12.79252278792337,52.54767326549196],\"type\":\"scatter\",\"xaxis\":\"x3\",\"yaxis\":\"y3\"},{\"line\":{\"color\":\"darkseagreen\",\"width\":4},\"showlegend\":false,\"visible\":true,\"x\":[0,1,2,3,4,5,6,7,8,9,10,11,12,13,14,15,16,17,18,19,20,21,22,23,24,25,26,27,28,29,30,31,32,33,34,35],\"y\":[52.54767326549184,12.792522787923332,4.340572443888897,2.0818246252115586,1.382738378753377,1.1482803519730918,1.0677945206399095,1.0418243488746133,1.0347683872010323,1.033285756653013,1.033051614961539,1.0330235033595385,1.0330208872136752,1.0330206960699835,1.0330206850358086,1.0330206845310077,1.0330206845126753,1.0330206845121463,1.0330206845121463,1.0330206845126755,1.0330206845310077,1.0330206850358086,1.0330206960699833,1.0330208872136755,1.0330235033595385,1.0330516149615392,1.033285756653013,1.0347683872010323,1.0418243488746133,1.0677945206399095,1.1482803519730922,1.3827383787533765,2.0818246252115595,4.340572443888899,12.79252278792337,52.54767326549196],\"type\":\"scatter\",\"xaxis\":\"x4\",\"yaxis\":\"y4\"}],                        {\"template\":{\"data\":{\"barpolar\":[{\"marker\":{\"line\":{\"color\":\"rgb(237,237,237)\",\"width\":0.5},\"pattern\":{\"fillmode\":\"overlay\",\"size\":10,\"solidity\":0.2}},\"type\":\"barpolar\"}],\"bar\":[{\"error_x\":{\"color\":\"rgb(51,51,51)\"},\"error_y\":{\"color\":\"rgb(51,51,51)\"},\"marker\":{\"line\":{\"color\":\"rgb(237,237,237)\",\"width\":0.5},\"pattern\":{\"fillmode\":\"overlay\",\"size\":10,\"solidity\":0.2}},\"type\":\"bar\"}],\"carpet\":[{\"aaxis\":{\"endlinecolor\":\"rgb(51,51,51)\",\"gridcolor\":\"white\",\"linecolor\":\"white\",\"minorgridcolor\":\"white\",\"startlinecolor\":\"rgb(51,51,51)\"},\"baxis\":{\"endlinecolor\":\"rgb(51,51,51)\",\"gridcolor\":\"white\",\"linecolor\":\"white\",\"minorgridcolor\":\"white\",\"startlinecolor\":\"rgb(51,51,51)\"},\"type\":\"carpet\"}],\"choropleth\":[{\"colorbar\":{\"outlinewidth\":0,\"tickcolor\":\"rgb(237,237,237)\",\"ticklen\":6,\"ticks\":\"inside\"},\"type\":\"choropleth\"}],\"contourcarpet\":[{\"colorbar\":{\"outlinewidth\":0,\"tickcolor\":\"rgb(237,237,237)\",\"ticklen\":6,\"ticks\":\"inside\"},\"type\":\"contourcarpet\"}],\"contour\":[{\"colorbar\":{\"outlinewidth\":0,\"tickcolor\":\"rgb(237,237,237)\",\"ticklen\":6,\"ticks\":\"inside\"},\"colorscale\":[[0,\"rgb(20,44,66)\"],[1,\"rgb(90,179,244)\"]],\"type\":\"contour\"}],\"heatmapgl\":[{\"colorbar\":{\"outlinewidth\":0,\"tickcolor\":\"rgb(237,237,237)\",\"ticklen\":6,\"ticks\":\"inside\"},\"colorscale\":[[0,\"rgb(20,44,66)\"],[1,\"rgb(90,179,244)\"]],\"type\":\"heatmapgl\"}],\"heatmap\":[{\"colorbar\":{\"outlinewidth\":0,\"tickcolor\":\"rgb(237,237,237)\",\"ticklen\":6,\"ticks\":\"inside\"},\"colorscale\":[[0,\"rgb(20,44,66)\"],[1,\"rgb(90,179,244)\"]],\"type\":\"heatmap\"}],\"histogram2dcontour\":[{\"colorbar\":{\"outlinewidth\":0,\"tickcolor\":\"rgb(237,237,237)\",\"ticklen\":6,\"ticks\":\"inside\"},\"colorscale\":[[0,\"rgb(20,44,66)\"],[1,\"rgb(90,179,244)\"]],\"type\":\"histogram2dcontour\"}],\"histogram2d\":[{\"colorbar\":{\"outlinewidth\":0,\"tickcolor\":\"rgb(237,237,237)\",\"ticklen\":6,\"ticks\":\"inside\"},\"colorscale\":[[0,\"rgb(20,44,66)\"],[1,\"rgb(90,179,244)\"]],\"type\":\"histogram2d\"}],\"histogram\":[{\"marker\":{\"pattern\":{\"fillmode\":\"overlay\",\"size\":10,\"solidity\":0.2}},\"type\":\"histogram\"}],\"mesh3d\":[{\"colorbar\":{\"outlinewidth\":0,\"tickcolor\":\"rgb(237,237,237)\",\"ticklen\":6,\"ticks\":\"inside\"},\"type\":\"mesh3d\"}],\"parcoords\":[{\"line\":{\"colorbar\":{\"outlinewidth\":0,\"tickcolor\":\"rgb(237,237,237)\",\"ticklen\":6,\"ticks\":\"inside\"}},\"type\":\"parcoords\"}],\"pie\":[{\"automargin\":true,\"type\":\"pie\"}],\"scatter3d\":[{\"line\":{\"colorbar\":{\"outlinewidth\":0,\"tickcolor\":\"rgb(237,237,237)\",\"ticklen\":6,\"ticks\":\"inside\"}},\"marker\":{\"colorbar\":{\"outlinewidth\":0,\"tickcolor\":\"rgb(237,237,237)\",\"ticklen\":6,\"ticks\":\"inside\"}},\"type\":\"scatter3d\"}],\"scattercarpet\":[{\"marker\":{\"colorbar\":{\"outlinewidth\":0,\"tickcolor\":\"rgb(237,237,237)\",\"ticklen\":6,\"ticks\":\"inside\"}},\"type\":\"scattercarpet\"}],\"scattergeo\":[{\"marker\":{\"colorbar\":{\"outlinewidth\":0,\"tickcolor\":\"rgb(237,237,237)\",\"ticklen\":6,\"ticks\":\"inside\"}},\"type\":\"scattergeo\"}],\"scattergl\":[{\"marker\":{\"colorbar\":{\"outlinewidth\":0,\"tickcolor\":\"rgb(237,237,237)\",\"ticklen\":6,\"ticks\":\"inside\"}},\"type\":\"scattergl\"}],\"scattermapbox\":[{\"marker\":{\"colorbar\":{\"outlinewidth\":0,\"tickcolor\":\"rgb(237,237,237)\",\"ticklen\":6,\"ticks\":\"inside\"}},\"type\":\"scattermapbox\"}],\"scatterpolargl\":[{\"marker\":{\"colorbar\":{\"outlinewidth\":0,\"tickcolor\":\"rgb(237,237,237)\",\"ticklen\":6,\"ticks\":\"inside\"}},\"type\":\"scatterpolargl\"}],\"scatterpolar\":[{\"marker\":{\"colorbar\":{\"outlinewidth\":0,\"tickcolor\":\"rgb(237,237,237)\",\"ticklen\":6,\"ticks\":\"inside\"}},\"type\":\"scatterpolar\"}],\"scatter\":[{\"fillpattern\":{\"fillmode\":\"overlay\",\"size\":10,\"solidity\":0.2},\"type\":\"scatter\"}],\"scatterternary\":[{\"marker\":{\"colorbar\":{\"outlinewidth\":0,\"tickcolor\":\"rgb(237,237,237)\",\"ticklen\":6,\"ticks\":\"inside\"}},\"type\":\"scatterternary\"}],\"surface\":[{\"colorbar\":{\"outlinewidth\":0,\"tickcolor\":\"rgb(237,237,237)\",\"ticklen\":6,\"ticks\":\"inside\"},\"colorscale\":[[0,\"rgb(20,44,66)\"],[1,\"rgb(90,179,244)\"]],\"type\":\"surface\"}],\"table\":[{\"cells\":{\"fill\":{\"color\":\"rgb(237,237,237)\"},\"line\":{\"color\":\"white\"}},\"header\":{\"fill\":{\"color\":\"rgb(217,217,217)\"},\"line\":{\"color\":\"white\"}},\"type\":\"table\"}]},\"layout\":{\"annotationdefaults\":{\"arrowhead\":0,\"arrowwidth\":1},\"autotypenumbers\":\"strict\",\"coloraxis\":{\"colorbar\":{\"outlinewidth\":0,\"tickcolor\":\"rgb(237,237,237)\",\"ticklen\":6,\"ticks\":\"inside\"}},\"colorscale\":{\"sequential\":[[0,\"rgb(20,44,66)\"],[1,\"rgb(90,179,244)\"]],\"sequentialminus\":[[0,\"rgb(20,44,66)\"],[1,\"rgb(90,179,244)\"]]},\"colorway\":[\"#F8766D\",\"#A3A500\",\"#00BF7D\",\"#00B0F6\",\"#E76BF3\"],\"font\":{\"color\":\"rgb(51,51,51)\"},\"geo\":{\"bgcolor\":\"white\",\"lakecolor\":\"white\",\"landcolor\":\"rgb(237,237,237)\",\"showlakes\":true,\"showland\":true,\"subunitcolor\":\"white\"},\"hoverlabel\":{\"align\":\"left\"},\"hovermode\":\"closest\",\"paper_bgcolor\":\"white\",\"plot_bgcolor\":\"rgb(237,237,237)\",\"polar\":{\"angularaxis\":{\"gridcolor\":\"white\",\"linecolor\":\"white\",\"showgrid\":true,\"tickcolor\":\"rgb(51,51,51)\",\"ticks\":\"outside\"},\"bgcolor\":\"rgb(237,237,237)\",\"radialaxis\":{\"gridcolor\":\"white\",\"linecolor\":\"white\",\"showgrid\":true,\"tickcolor\":\"rgb(51,51,51)\",\"ticks\":\"outside\"}},\"scene\":{\"xaxis\":{\"backgroundcolor\":\"rgb(237,237,237)\",\"gridcolor\":\"white\",\"gridwidth\":2,\"linecolor\":\"white\",\"showbackground\":true,\"showgrid\":true,\"tickcolor\":\"rgb(51,51,51)\",\"ticks\":\"outside\",\"zerolinecolor\":\"white\"},\"yaxis\":{\"backgroundcolor\":\"rgb(237,237,237)\",\"gridcolor\":\"white\",\"gridwidth\":2,\"linecolor\":\"white\",\"showbackground\":true,\"showgrid\":true,\"tickcolor\":\"rgb(51,51,51)\",\"ticks\":\"outside\",\"zerolinecolor\":\"white\"},\"zaxis\":{\"backgroundcolor\":\"rgb(237,237,237)\",\"gridcolor\":\"white\",\"gridwidth\":2,\"linecolor\":\"white\",\"showbackground\":true,\"showgrid\":true,\"tickcolor\":\"rgb(51,51,51)\",\"ticks\":\"outside\",\"zerolinecolor\":\"white\"}},\"shapedefaults\":{\"fillcolor\":\"black\",\"line\":{\"width\":0},\"opacity\":0.3},\"ternary\":{\"aaxis\":{\"gridcolor\":\"white\",\"linecolor\":\"white\",\"showgrid\":true,\"tickcolor\":\"rgb(51,51,51)\",\"ticks\":\"outside\"},\"baxis\":{\"gridcolor\":\"white\",\"linecolor\":\"white\",\"showgrid\":true,\"tickcolor\":\"rgb(51,51,51)\",\"ticks\":\"outside\"},\"bgcolor\":\"rgb(237,237,237)\",\"caxis\":{\"gridcolor\":\"white\",\"linecolor\":\"white\",\"showgrid\":true,\"tickcolor\":\"rgb(51,51,51)\",\"ticks\":\"outside\"}},\"xaxis\":{\"automargin\":true,\"gridcolor\":\"white\",\"linecolor\":\"white\",\"showgrid\":true,\"tickcolor\":\"rgb(51,51,51)\",\"ticks\":\"outside\",\"title\":{\"standoff\":15},\"zerolinecolor\":\"white\"},\"yaxis\":{\"automargin\":true,\"gridcolor\":\"white\",\"linecolor\":\"white\",\"showgrid\":true,\"tickcolor\":\"rgb(51,51,51)\",\"ticks\":\"outside\",\"title\":{\"standoff\":15},\"zerolinecolor\":\"white\"}}},\"xaxis\":{\"anchor\":\"y\",\"domain\":[0.0,0.415],\"title\":{\"text\":\"1/N\"}},\"yaxis\":{\"anchor\":\"x\",\"domain\":[0.625,1.0],\"title\":{\"text\":\"var(x)+var(y)\"}},\"xaxis2\":{\"anchor\":\"y2\",\"domain\":[0.585,1.0],\"title\":{\"text\":\"1/N\"}},\"yaxis2\":{\"anchor\":\"x2\",\"domain\":[0.625,1.0],\"title\":{\"text\":\"var(x)+var(y)\"}},\"xaxis3\":{\"anchor\":\"y3\",\"domain\":[0.0,0.415],\"title\":{\"text\":\"$x_0$\"}},\"yaxis3\":{\"anchor\":\"x3\",\"domain\":[0.0,0.375],\"title\":{\"text\":\"var(x)+var(y)\"}},\"xaxis4\":{\"anchor\":\"y4\",\"domain\":[0.585,1.0],\"title\":{\"text\":\"$y_0$\"}},\"yaxis4\":{\"anchor\":\"x4\",\"domain\":[0.0,0.375],\"title\":{\"text\":\"var(x)+var(y)\"}},\"annotations\":[{\"font\":{\"size\":16},\"showarrow\":false,\"text\":\"CRLB vs. 1/N, source at center\",\"x\":0.2075,\"xanchor\":\"center\",\"xref\":\"paper\",\"y\":1.0,\"yanchor\":\"bottom\",\"yref\":\"paper\"},{\"font\":{\"size\":16},\"showarrow\":false,\"text\":\"CRLB vs. 1/N for varying b\",\"x\":0.7925,\"xanchor\":\"center\",\"xref\":\"paper\",\"y\":1.0,\"yanchor\":\"bottom\",\"yref\":\"paper\"},{\"font\":{\"size\":16},\"showarrow\":false,\"text\":\"x0 dependence, off-center source\",\"x\":0.2075,\"xanchor\":\"center\",\"xref\":\"paper\",\"y\":0.375,\"yanchor\":\"bottom\",\"yref\":\"paper\"},{\"font\":{\"size\":16},\"showarrow\":false,\"text\":\"y0 dependence, off-center source\",\"x\":0.7925,\"xanchor\":\"center\",\"xref\":\"paper\",\"y\":0.375,\"yanchor\":\"bottom\",\"yref\":\"paper\"}],\"margin\":{\"l\":100,\"r\":100,\"t\":100,\"b\":80},\"height\":700},                        {\"responsive\": true}                    ).then(function(){\n",
       "                            \n",
       "var gd = document.getElementById('917f9c5f-e6ae-4455-94d5-2be9c835a110');\n",
       "var x = new MutationObserver(function (mutations, observer) {{\n",
       "        var display = window.getComputedStyle(gd).display;\n",
       "        if (!display || display === 'none') {{\n",
       "            console.log([gd, 'removed!']);\n",
       "            Plotly.purge(gd);\n",
       "            observer.disconnect();\n",
       "        }}\n",
       "}});\n",
       "\n",
       "// Listen for the removal of the full notebook cells\n",
       "var notebookContainer = gd.closest('#notebook-container');\n",
       "if (notebookContainer) {{\n",
       "    x.observe(notebookContainer, {childList: true});\n",
       "}}\n",
       "\n",
       "// Listen for the clearing of the current output cell\n",
       "var outputEl = gd.closest('.output');\n",
       "if (outputEl) {{\n",
       "    x.observe(outputEl, {childList: true});\n",
       "}}\n",
       "\n",
       "                        })                };                });            </script>        </div>"
      ]
     },
     "metadata": {},
     "output_type": "display_data"
    }
   ],
   "source": [
    "print(f'alpha={alpha}, beta={beta}, xmax={xmax}, a={a}, bg={thetabg}')\n",
    "#-------------Create figure\n",
    "fig = make_subplots(rows=2, cols=2, horizontal_spacing=0.17,\n",
    "                  subplot_titles=(\"CRLB vs. 1/N, source at center\", \n",
    "                                  \"CRLB vs. 1/N for varying b\", \n",
    "                                  \"x0 dependence, off-center source\",\n",
    "                                  \"y0 dependence, off-center source\"))\n",
    "#------------vary N\n",
    "fig.add_trace(\n",
    "        go.Scatter(\n",
    "            visible=True,\n",
    "            showlegend=False,\n",
    "            mode=\"markers\",\n",
    "            marker=dict(color=\"darkseagreen\"),\n",
    "            x=1/N,\n",
    "            y=df[\"var(x)\"]+df[\"var(y)\"]),\n",
    "        row=1, col=1\n",
    "    )\n",
    "\n",
    "#----------vary bg\n",
    "for i in range(len(b)):\n",
    "    df_b = pd.DataFrame(crlbs_b[i], columns=col)\n",
    "    fig.add_trace(\n",
    "        go.Scatter(\n",
    "            visible=True,\n",
    "            showlegend=False,\n",
    "            line=dict(color=\"darkseagreen\", width=4),\n",
    "            name=\"b = \" + str(b[i]),\n",
    "            x=1/N,\n",
    "            y=df_b[\"var(x)\"]+df_b[\"var(y)\"]),\n",
    "        row=1, col=2\n",
    "    )\n",
    "\n",
    "#----------vary source positions x0\n",
    "fig.add_trace(\n",
    "        go.Scatter(\n",
    "            visible=True,\n",
    "            showlegend=False,\n",
    "            line=dict(color=\"darkseagreen\", width=4),\n",
    "            x=thetaX_oc,\n",
    "            y=df_oc[\"var(x)\"]+df_oc[\"var(y)\"]),\n",
    "        row=2, col=1\n",
    "    )\n",
    "#----------vary source positions y0\n",
    "fig.add_trace(\n",
    "        go.Scatter(\n",
    "            visible=True,\n",
    "            showlegend=False,\n",
    "            line=dict(color=\"darkseagreen\", width=4),\n",
    "            x=thetaY_oc,\n",
    "            y=df_oc[\"var(x)\"]+df_oc[\"var(y)\"]),\n",
    "        row=2, col=2\n",
    "    )\n",
    "\n",
    "#----------formatting\n",
    "fig.update_xaxes(title_text=\"1/N\", row=1, col=1)\n",
    "fig.update_yaxes(title_text=\"var(x)+var(y)\", row=1, col=1)\n",
    "\n",
    "fig.update_xaxes(title_text=\"1/N\", row=1, col=2)\n",
    "fig.update_yaxes(title_text=\"var(x)+var(y)\", row=1, col=2)\n",
    "\n",
    "fig.update_xaxes(title_text=\"$x_0$\", row=2, col=1)\n",
    "fig.update_yaxes(title_text=\"var(x)+var(y)\", row=2, col=1)\n",
    "\n",
    "fig.update_xaxes(title_text=\"$y_0$\", row=2, col=2)\n",
    "fig.update_yaxes(title_text=\"var(x)+var(y)\", row=2, col=2)\n",
    "\n",
    "fig.update_layout(height=700, template = \"ggplot2\", margin=dict(l=100, r=100, t=100, b=80))\n",
    "fig.show()"
   ]
  },
  {
   "cell_type": "code",
   "execution_count": 16,
   "id": "d8ab11e1",
   "metadata": {},
   "outputs": [
    {
     "name": "stdout",
     "output_type": "stream",
     "text": [
      "alpha=3, beta=2, a=0.2, bg=1e-05\n",
      "\n",
      "for X: experiment: var(x) = 225.1469/N + -0.0001\n",
      "for X: theory    : var(x) = 224.99999999999994/N + const/a^2\n",
      "\n",
      "for Y: experiment: var(y) = 100.1116/N + -0.0000\n",
      "for Y: theory    : var(y) = 99.99999999999999/N + const/a^2\n"
     ]
    },
    {
     "data": {
      "image/png": "[encoded data removed]",
      "text/plain": [
       "<Figure size 720x288 with 2 Axes>"
      ]
     },
     "metadata": {
      "needs_background": "light"
     },
     "output_type": "display_data"
    }
   ],
   "source": [
    "col = [\"var(x)\", \"var(y)\", \"var(N)\", \"var(b)\", \"var(alpha)\",\"var(beta)\"]\n",
    "#----------small background case\n",
    "plt.rcParams['font.size']=15\n",
    "def line(x,m,b):\n",
    "    return m*x+b\n",
    "\n",
    "alpha = 3\n",
    "beta = 2\n",
    "xmax = alpha*12\n",
    "ymax = xmax\n",
    "thetaX = (xmax-1)/2\n",
    "thetaY = thetaX\n",
    "thetabg = 1e-5\n",
    "a = 0.2\n",
    "N = np.arange(100, 1000, 20)\n",
    "\n",
    "crlbs = [crlb(xmax, ymax, thetaX, thetaY, 1/alpha, 1/beta, a, N[i], thetabg) for i in range(len(N))]        \n",
    "df = pd.DataFrame(crlbs, columns=col)       \n",
    "varX = df[\"var(x)\"]\n",
    "varY = df[\"var(y)\"]\n",
    "\n",
    "poptX, pcov = optimize.curve_fit(line, 1/N, varX)\n",
    "poptY, pcov = optimize.curve_fit(line, 1/N, varY)\n",
    "\n",
    "fig,ax = plt.subplots(1,2,figsize=(10,4))\n",
    "\n",
    "ax[0].plot(1/N,line(1/N, poptX[0], poptX[1]), label=\"experiment\")\n",
    "ax[0].plot(1/N, line(1/N, alpha**2/a**2, 0),\"go\",label=\"theory\")\n",
    "ax[0].set_xlabel(\"1/N\")\n",
    "ax[0].set_ylabel(\"var(x)\")\n",
    "ax[0].set_title(\"var(x) vs. N\")\n",
    "\n",
    "ax[1].plot(1/N,varY, label=\"experiment\")\n",
    "ax[1].plot(1/N, line(1/N, beta**2/a**2, 0),\"go\",label=\"theory\")\n",
    "ax[1].set_xlabel(\"1/N\")\n",
    "ax[1].set_ylabel(\"var(y)\")\n",
    "ax[1].set_title(\"var(y) vs. N\")\n",
    "ax[1].legend()\n",
    "\n",
    "\n",
    "\n",
    "fig.tight_layout()\n",
    ";\n",
    "\n",
    "print(f\"alpha={alpha}, beta={beta}, a={a}, bg={thetabg}\")\n",
    "print()\n",
    "print(f\"for X: experiment: var(x) = {poptX[0]:.4f}/N + {poptX[1]:.4f}\")\n",
    "print(f\"for X: theory    : var(x) = {alpha**2/a**2}/N + const/a^2\")\n",
    "print()\n",
    "print(f\"for Y: experiment: var(y) = {poptY[0]:.4f}/N + {poptY[1]:.4f}\")\n",
    "print(f\"for Y: theory    : var(y) = {beta**2/a**2}/N + const/a^2\")"
   ]
  },
  {
   "cell_type": "markdown",
   "id": "e1baa77e",
   "metadata": {},
   "source": [
    "$$\n",
    "var(X) =\\frac{width^2}{a^2} \\frac{1}{N}\n",
    "$$\n",
    "$$\n",
    "var(Y) =\\frac{height^2}{a^2} \\frac{1}{N}\n",
    "$$"
   ]
  },
  {
   "cell_type": "code",
   "execution_count": 50,
   "id": "c10b16f8",
   "metadata": {},
   "outputs": [],
   "source": [
    "#----------vary alpha\n",
    "alpha = np.linspace(3,6,50)\n",
    "beta = 2\n",
    "xmax = alpha*12\n",
    "ymax = xmax\n",
    "thetaX = (xmax-1)/2\n",
    "thetaY = thetaX\n",
    "a = 0.2 \n",
    "thetabg = [1, 1e-4]\n",
    "N = 500\n",
    "\n",
    "crlbs_alpha = [[crlb(xmax[i], ymax[i], thetaX[i], thetaY[i], 1/alpha[i], 1/beta, \\\n",
    "                     a, N, thetabg[j]) for i in range(len(alpha))]for j in range(len(thetabg))]\n",
    "\n",
    "#----------vary beta\n",
    "alpha_beta = 6\n",
    "beta = np.linspace(2,5,50)\n",
    "xmax = alpha_beta*12\n",
    "ymax = xmax\n",
    "thetaX = (xmax-1)/2\n",
    "thetaY = thetaX\n",
    "a = 0.2 \n",
    "thetabg = [1, 1e-4]\n",
    "N = 500\n",
    "\n",
    "crlbs_beta = [[],[]]\n",
    "betas = [[],[]]\n",
    "for j in range(2):\n",
    "    for i in range(len(beta)):\n",
    "        try:\n",
    "            crlbs_beta[j].append(crlb(xmax, ymax, thetaX, thetaY, 1/alpha_beta, 1/beta[i], \\\n",
    "                                         a, N, thetabg[j]))\n",
    "            betas[j].append(beta[i])\n",
    "        except:\n",
    "            print(\"singular at beta=%.3f\" %beta[i])   "
   ]
  },
  {
   "cell_type": "code",
   "execution_count": 56,
   "id": "7ed62dba",
   "metadata": {},
   "outputs": [
    {
     "data": {
      "application/vnd.plotly.v1+json": {
       "config": {
        "plotlyServerURL": "https://plot.ly"
       },
       "data": [
        {
         "line": {
          "color": "olivedrab",
          "width": 4
         },
         "showlegend": false,
         "type": "scatter",
         "visible": true,
         "x": [
          3,
          3.061224489795918,
          3.122448979591837,
          3.183673469387755,
          3.2448979591836733,
          3.306122448979592,
          3.36734693877551,
          3.4285714285714284,
          3.489795918367347,
          3.5510204081632653,
          3.612244897959184,
          3.673469387755102,
          3.7346938775510203,
          3.795918367346939,
          3.857142857142857,
          3.9183673469387754,
          3.979591836734694,
          4.040816326530612,
          4.1020408163265305,
          4.163265306122449,
          4.224489795918368,
          4.285714285714286,
          4.346938775510204,
          4.408163265306122,
          4.469387755102041,
          4.530612244897959,
          4.591836734693878,
          4.653061224489796,
          4.714285714285714,
          4.775510204081632,
          4.836734693877551,
          4.8979591836734695,
          4.959183673469388,
          5.020408163265306,
          5.081632653061225,
          5.142857142857142,
          5.204081632653061,
          5.26530612244898,
          5.326530612244898,
          5.387755102040816,
          5.448979591836735,
          5.5102040816326525,
          5.571428571428571,
          5.63265306122449,
          5.6938775510204085,
          5.755102040816326,
          5.816326530612245,
          5.877551020408163,
          5.938775510204081,
          6
         ],
         "xaxis": "x",
         "y": [
          0.7150662697196141,
          0.7486316053147536,
          0.7831038064436823,
          0.8184910021134744,
          0.8548012847929772,
          0.8920427954078727,
          0.9302235623629931,
          0.9693516384471638,
          1.0094350851545328,
          1.0504818509704479,
          1.0924999589372957,
          1.135497377212482,
          1.1794820052247457,
          1.2244618265568572,
          1.2704447175178837,
          1.3174385543940421,
          1.3654512606323936,
          1.4144906404066164,
          1.4645645556167424,
          1.515680852992796,
          1.5678472935839116,
          1.6210717145429743,
          1.6753618854471723,
          1.7307255475402574,
          1.7871704934974275,
          1.8447044326546358,
          1.9033350929437636,
          1.9630702084205298,
          2.0239174522823413,
          2.0858845287460905,
          2.148979115051776,
          2.2132088649312807,
          2.2785814424919315,
          2.3451044849055407,
          2.412785626396879,
          2.4816324831521204,
          2.5516526722894373,
          2.6228537941773595,
          2.6952434262762863,
          2.7688291743113163,
          2.8436185890169163,
          2.919619231560552,
          2.996838685950786,
          3.075284451252986,
          3.1549640937516443,
          3.235885151651365,
          3.3180550913584,
          3.40148148856777,
          3.48617181381118,
          3.572133534485459
         ],
         "yaxis": "y"
        },
        {
         "line": {
          "color": "olivedrab",
          "width": 3
         },
         "showlegend": false,
         "type": "scatter",
         "visible": true,
         "x": [
          0.4499999999999999,
          0.4685547688463138,
          0.48748438150770507,
          0.5067888379841732,
          0.5264681382757183,
          0.5465222823823407,
          0.5669512703040398,
          0.5877551020408162,
          0.6089337775926696,
          0.6304872969596,
          0.6524156601416077,
          0.6747188671386921,
          0.6973969179508537,
          0.7204498125780924,
          0.7438775510204081,
          0.7676801332778008,
          0.7918575593502707,
          0.8164098292378172,
          0.8413369429404411,
          0.8666389004581424,
          0.8923157017909205,
          0.9183673469387752,
          0.9447938359017074,
          0.9715951686797164,
          0.9987713452728028,
          1.026322365680966,
          1.0542482299042064,
          1.0825489379425237,
          1.1112244897959183,
          1.1402748854643894,
          1.1697001249479382,
          1.1995002082465638,
          1.2296751353602664,
          1.260224906289046,
          1.2911495210329027,
          1.3224489795918362,
          1.3541232819658473,
          1.3861724281549352,
          1.4185964181591002,
          1.451395251978342,
          1.4845689296126612,
          1.518117451062057,
          1.5520408163265302,
          1.5863390254060805,
          1.6210120783007078,
          1.6560599750104117,
          1.6914827155351935,
          1.7272802998750514,
          1.7634527280299872,
          1.7999999999999996
         ],
         "xaxis": "x2",
         "y": [
          0.4504086161062162,
          0.46897763989764546,
          0.48792203897297476,
          0.5072418214743476,
          0.5269369972575698,
          0.5470075733942331,
          0.567453559801311,
          0.5882749650932437,
          0.6094717959078425,
          0.6310440637698566,
          0.6529917750042026,
          0.675314937670965,
          0.6980135635005627,
          0.7210876565537034,
          0.7445372277077743,
          0.768362286832248,
          0.7925628372127148,
          0.8171388926835617,
          0.8420904593507228,
          0.8674175423611633,
          0.893120156808603,
          0.9191983046272091,
          0.9456519952726609,
          0.972481242073427,
          0.9996860444764102,
          1.0272664171652723,
          1.0552223684856394,
          1.0835538990509546,
          1.1122610270612083,
          1.1413437544047174,
          1.1708020867361897,
          1.2006360419200033,
          1.2308456166920922,
          1.2614308240577767,
          1.2923916768673267,
          1.3237281708478412,
          1.3554403255081189,
          1.3875281454941875,
          1.419991630914898,
          1.4528308036179223,
          1.4860456602163377,
          1.5196362092541618,
          1.5536024691606538,
          1.587944432295353,
          1.6226621164274289,
          1.6577555314720596,
          1.693224671823262,
          1.7290695610579991,
          1.7652901988498584,
          1.801886587473724
         ],
         "yaxis": "y2"
        },
        {
         "line": {
          "color": "steelblue",
          "width": 4
         },
         "showlegend": false,
         "type": "scatter",
         "visible": true,
         "x": [
          2,
          2.061224489795918,
          2.122448979591837,
          2.183673469387755,
          2.2448979591836733,
          2.306122448979592,
          2.36734693877551,
          2.4285714285714284,
          2.489795918367347,
          2.5510204081632653,
          2.612244897959184,
          2.673469387755102,
          2.7346938775510203,
          2.795918367346939,
          2.857142857142857,
          2.9183673469387754,
          2.979591836734694,
          3.0408163265306123,
          3.1020408163265305,
          3.163265306122449,
          3.2244897959183674,
          3.2857142857142856,
          3.3469387755102042,
          3.4081632653061225,
          3.4693877551020407,
          3.5306122448979593,
          3.5918367346938775,
          3.6530612244897958,
          3.7142857142857144,
          3.7755102040816326,
          3.836734693877551,
          3.8979591836734695,
          3.9591836734693877,
          4.020408163265306,
          4.081632653061225,
          4.142857142857142,
          4.204081632653061,
          4.26530612244898,
          4.326530612244898,
          4.387755102040816,
          4.448979591836735,
          4.5102040816326525,
          4.571428571428571,
          4.63265306122449,
          4.6938775510204085,
          4.755102040816326,
          4.816326530612245,
          4.877551020408163,
          4.938775510204081,
          5
         ],
         "xaxis": "x3",
         "y": [
          0.3971978357956157,
          0.42670749530664887,
          0.4575181858616817,
          0.4896522721187316,
          0.5231320383731067,
          0.5579797066766098,
          0.5942174481250858,
          0.6318673871700546,
          0.6709516025247401,
          0.7114921276514117,
          0.7535109520217436,
          0.7970300230843731,
          0.8420712484760405,
          0.8886564981240647,
          0.9368076061156774,
          0.9865463723569102,
          1.0378945640863648,
          1.0908739172938995,
          1.1455061380669822,
          1.2018129038698548,
          1.2598158647553273,
          1.319536644509566,
          1.3809968417329161,
          1.4442180308610972,
          1.5092217631313287,
          1.5760295674975486,
          1.644662951498334,
          1.7151434020806398,
          1.7874923863820869,
          1.861731352474436,
          1.9378817300706745,
          2.015964931197867,
          2.096002350837861,
          2.1780153675379204,
          2.262025343992797,
          2.3480536276001853,
          2.4361215509907987,
          2.5262504325348867,
          2.618461576826074,
          2.7127762751440896,
          2.809215805897463,
          2.907801435047197,
          3.008554416512478,
          3.111495992559404,
          3.2166473941736333,
          3.3240298414175355,
          3.433664543773117,
          3.5455727004709217,
          3.6597755008058894,
          3.7762941244409123
         ],
         "yaxis": "y3"
        },
        {
         "line": {
          "color": "steelblue",
          "width": 3
         },
         "showlegend": false,
         "type": "scatter",
         "visible": true,
         "x": [
          0.19999999999999998,
          0.21243231986672215,
          0.2252394835485214,
          0.23842149104539773,
          0.25197834235735106,
          0.2659100374843815,
          0.28021657642648895,
          0.2948979591836734,
          0.309954185755935,
          0.3253852561432735,
          0.3411911703456893,
          0.35737192836318193,
          0.37392753019575165,
          0.39085797584339854,
          0.40816326530612235,
          0.4258433985839233,
          0.44389837567680135,
          0.46232819658475627,
          0.48113286130778826,
          0.5003123698458976,
          0.5198667221990837,
          0.5397959183673467,
          0.5600999583506872,
          0.5807788421491045,
          0.6018325697625987,
          0.6232611411911703,
          0.6450645564348186,
          0.6672428154935441,
          0.6897959183673469,
          0.7127238650562264,
          0.736026655560183,
          0.759704289879217,
          0.7837567680133276,
          0.8081840899625152,
          0.8329862557267804,
          0.8581632653061221,
          0.8837151187005412,
          0.9096418159100373,
          0.9359433569346105,
          0.9626197417742605,
          0.9896709704289878,
          1.0170970428987918,
          1.0448979591836733,
          1.0730737192836315,
          1.1016243231986673,
          1.1305497709287793,
          1.1598500624739692,
          1.1895251978342354,
          1.219575177009579,
          1.2499999999999998
         ],
         "xaxis": "x4",
         "y": [
          0.20035790155017094,
          0.2128072397032569,
          0.22563232101341915,
          0.2388332150442211,
          0.2524099703190231,
          0.26636257021365844,
          0.2806910307041205,
          0.2953954017007413,
          0.3104757017658875,
          0.3259319353967087,
          0.34176413133129246,
          0.3579723208541547,
          0.3745565185079617,
          0.39151674130837016,
          0.4088530163231196,
          0.42656536628861724,
          0.4446538083322924,
          0.46311836356490005,
          0.481959055558864,
          0.5011759045699538,
          0.5207689298911469,
          0.5407381529891776,
          0.5610835952817986,
          0.5818052766588216,
          0.6029032172286335,
          0.6243774378661717,
          0.6462279589928791,
          0.6684548005005775,
          0.6910579825375638,
          0.7140375253917525,
          0.7373934490255657,
          0.7611257732481315,
          0.7852345179726437,
          0.8097197030591052,
          0.834581348188138,
          0.8598194729857187,
          0.8854340970792036,
          0.9114252400111652,
          0.9377929212233006,
          0.9645371601145498,
          0.9916579760419243,
          1.0191553882864632,
          1.0470294160605336,
          1.0752800785292502,
          1.1039073948036684,
          1.132911383930488,
          1.1622920648995225,
          1.192049456650272,
          1.2221835780675354,
          1.252694447979693
         ],
         "yaxis": "y4"
        }
       ],
       "layout": {
        "annotations": [
         {
          "font": {
           "size": 16
          },
          "showarrow": false,
          "text": "alpha dependence, b=1",
          "x": 0.2075,
          "xanchor": "center",
          "xref": "paper",
          "y": 1,
          "yanchor": "bottom",
          "yref": "paper"
         },
         {
          "font": {
           "size": 16
          },
          "showarrow": false,
          "text": "alpha dependence, b=1e-4",
          "x": 0.7925,
          "xanchor": "center",
          "xref": "paper",
          "y": 1,
          "yanchor": "bottom",
          "yref": "paper"
         },
         {
          "font": {
           "size": 16
          },
          "showarrow": false,
          "text": "beta dependence, b=1",
          "x": 0.2075,
          "xanchor": "center",
          "xref": "paper",
          "y": 0.375,
          "yanchor": "bottom",
          "yref": "paper"
         },
         {
          "font": {
           "size": 16
          },
          "showarrow": false,
          "text": "beta dependence, b=1e-4",
          "x": 0.7925,
          "xanchor": "center",
          "xref": "paper",
          "y": 0.375,
          "yanchor": "bottom",
          "yref": "paper"
         }
        ],
        "height": 700,
        "margin": {
         "b": 80,
         "l": 100,
         "r": 100,
         "t": 100
        },
        "template": {
         "data": {
          "bar": [
           {
            "error_x": {
             "color": "rgb(51,51,51)"
            },
            "error_y": {
             "color": "rgb(51,51,51)"
            },
            "marker": {
             "line": {
              "color": "rgb(237,237,237)",
              "width": 0.5
             },
             "pattern": {
              "fillmode": "overlay",
              "size": 10,
              "solidity": 0.2
             }
            },
            "type": "bar"
           }
          ],
          "barpolar": [
           {
            "marker": {
             "line": {
              "color": "rgb(237,237,237)",
              "width": 0.5
             },
             "pattern": {
              "fillmode": "overlay",
              "size": 10,
              "solidity": 0.2
             }
            },
            "type": "barpolar"
           }
          ],
          "carpet": [
           {
            "aaxis": {
             "endlinecolor": "rgb(51,51,51)",
             "gridcolor": "white",
             "linecolor": "white",
             "minorgridcolor": "white",
             "startlinecolor": "rgb(51,51,51)"
            },
            "baxis": {
             "endlinecolor": "rgb(51,51,51)",
             "gridcolor": "white",
             "linecolor": "white",
             "minorgridcolor": "white",
             "startlinecolor": "rgb(51,51,51)"
            },
            "type": "carpet"
           }
          ],
          "choropleth": [
           {
            "colorbar": {
             "outlinewidth": 0,
             "tickcolor": "rgb(237,237,237)",
             "ticklen": 6,
             "ticks": "inside"
            },
            "type": "choropleth"
           }
          ],
          "contour": [
           {
            "colorbar": {
             "outlinewidth": 0,
             "tickcolor": "rgb(237,237,237)",
             "ticklen": 6,
             "ticks": "inside"
            },
            "colorscale": [
             [
              0,
              "rgb(20,44,66)"
             ],
             [
              1,
              "rgb(90,179,244)"
             ]
            ],
            "type": "contour"
           }
          ],
          "contourcarpet": [
           {
            "colorbar": {
             "outlinewidth": 0,
             "tickcolor": "rgb(237,237,237)",
             "ticklen": 6,
             "ticks": "inside"
            },
            "type": "contourcarpet"
           }
          ],
          "heatmap": [
           {
            "colorbar": {
             "outlinewidth": 0,
             "tickcolor": "rgb(237,237,237)",
             "ticklen": 6,
             "ticks": "inside"
            },
            "colorscale": [
             [
              0,
              "rgb(20,44,66)"
             ],
             [
              1,
              "rgb(90,179,244)"
             ]
            ],
            "type": "heatmap"
           }
          ],
          "heatmapgl": [
           {
            "colorbar": {
             "outlinewidth": 0,
             "tickcolor": "rgb(237,237,237)",
             "ticklen": 6,
             "ticks": "inside"
            },
            "colorscale": [
             [
              0,
              "rgb(20,44,66)"
             ],
             [
              1,
              "rgb(90,179,244)"
             ]
            ],
            "type": "heatmapgl"
           }
          ],
          "histogram": [
           {
            "marker": {
             "pattern": {
              "fillmode": "overlay",
              "size": 10,
              "solidity": 0.2
             }
            },
            "type": "histogram"
           }
          ],
          "histogram2d": [
           {
            "colorbar": {
             "outlinewidth": 0,
             "tickcolor": "rgb(237,237,237)",
             "ticklen": 6,
             "ticks": "inside"
            },
            "colorscale": [
             [
              0,
              "rgb(20,44,66)"
             ],
             [
              1,
              "rgb(90,179,244)"
             ]
            ],
            "type": "histogram2d"
           }
          ],
          "histogram2dcontour": [
           {
            "colorbar": {
             "outlinewidth": 0,
             "tickcolor": "rgb(237,237,237)",
             "ticklen": 6,
             "ticks": "inside"
            },
            "colorscale": [
             [
              0,
              "rgb(20,44,66)"
             ],
             [
              1,
              "rgb(90,179,244)"
             ]
            ],
            "type": "histogram2dcontour"
           }
          ],
          "mesh3d": [
           {
            "colorbar": {
             "outlinewidth": 0,
             "tickcolor": "rgb(237,237,237)",
             "ticklen": 6,
             "ticks": "inside"
            },
            "type": "mesh3d"
           }
          ],
          "parcoords": [
           {
            "line": {
             "colorbar": {
              "outlinewidth": 0,
              "tickcolor": "rgb(237,237,237)",
              "ticklen": 6,
              "ticks": "inside"
             }
            },
            "type": "parcoords"
           }
          ],
          "pie": [
           {
            "automargin": true,
            "type": "pie"
           }
          ],
          "scatter": [
           {
            "fillpattern": {
             "fillmode": "overlay",
             "size": 10,
             "solidity": 0.2
            },
            "type": "scatter"
           }
          ],
          "scatter3d": [
           {
            "line": {
             "colorbar": {
              "outlinewidth": 0,
              "tickcolor": "rgb(237,237,237)",
              "ticklen": 6,
              "ticks": "inside"
             }
            },
            "marker": {
             "colorbar": {
              "outlinewidth": 0,
              "tickcolor": "rgb(237,237,237)",
              "ticklen": 6,
              "ticks": "inside"
             }
            },
            "type": "scatter3d"
           }
          ],
          "scattercarpet": [
           {
            "marker": {
             "colorbar": {
              "outlinewidth": 0,
              "tickcolor": "rgb(237,237,237)",
              "ticklen": 6,
              "ticks": "inside"
             }
            },
            "type": "scattercarpet"
           }
          ],
          "scattergeo": [
           {
            "marker": {
             "colorbar": {
              "outlinewidth": 0,
              "tickcolor": "rgb(237,237,237)",
              "ticklen": 6,
              "ticks": "inside"
             }
            },
            "type": "scattergeo"
           }
          ],
          "scattergl": [
           {
            "marker": {
             "colorbar": {
              "outlinewidth": 0,
              "tickcolor": "rgb(237,237,237)",
              "ticklen": 6,
              "ticks": "inside"
             }
            },
            "type": "scattergl"
           }
          ],
          "scattermapbox": [
           {
            "marker": {
             "colorbar": {
              "outlinewidth": 0,
              "tickcolor": "rgb(237,237,237)",
              "ticklen": 6,
              "ticks": "inside"
             }
            },
            "type": "scattermapbox"
           }
          ],
          "scatterpolar": [
           {
            "marker": {
             "colorbar": {
              "outlinewidth": 0,
              "tickcolor": "rgb(237,237,237)",
              "ticklen": 6,
              "ticks": "inside"
             }
            },
            "type": "scatterpolar"
           }
          ],
          "scatterpolargl": [
           {
            "marker": {
             "colorbar": {
              "outlinewidth": 0,
              "tickcolor": "rgb(237,237,237)",
              "ticklen": 6,
              "ticks": "inside"
             }
            },
            "type": "scatterpolargl"
           }
          ],
          "scatterternary": [
           {
            "marker": {
             "colorbar": {
              "outlinewidth": 0,
              "tickcolor": "rgb(237,237,237)",
              "ticklen": 6,
              "ticks": "inside"
             }
            },
            "type": "scatterternary"
           }
          ],
          "surface": [
           {
            "colorbar": {
             "outlinewidth": 0,
             "tickcolor": "rgb(237,237,237)",
             "ticklen": 6,
             "ticks": "inside"
            },
            "colorscale": [
             [
              0,
              "rgb(20,44,66)"
             ],
             [
              1,
              "rgb(90,179,244)"
             ]
            ],
            "type": "surface"
           }
          ],
          "table": [
           {
            "cells": {
             "fill": {
              "color": "rgb(237,237,237)"
             },
             "line": {
              "color": "white"
             }
            },
            "header": {
             "fill": {
              "color": "rgb(217,217,217)"
             },
             "line": {
              "color": "white"
             }
            },
            "type": "table"
           }
          ]
         },
         "layout": {
          "annotationdefaults": {
           "arrowhead": 0,
           "arrowwidth": 1
          },
          "autotypenumbers": "strict",
          "coloraxis": {
           "colorbar": {
            "outlinewidth": 0,
            "tickcolor": "rgb(237,237,237)",
            "ticklen": 6,
            "ticks": "inside"
           }
          },
          "colorscale": {
           "sequential": [
            [
             0,
             "rgb(20,44,66)"
            ],
            [
             1,
             "rgb(90,179,244)"
            ]
           ],
           "sequentialminus": [
            [
             0,
             "rgb(20,44,66)"
            ],
            [
             1,
             "rgb(90,179,244)"
            ]
           ]
          },
          "colorway": [
           "#F8766D",
           "#A3A500",
           "#00BF7D",
           "#00B0F6",
           "#E76BF3"
          ],
          "font": {
           "color": "rgb(51,51,51)"
          },
          "geo": {
           "bgcolor": "white",
           "lakecolor": "white",
           "landcolor": "rgb(237,237,237)",
           "showlakes": true,
           "showland": true,
           "subunitcolor": "white"
          },
          "hoverlabel": {
           "align": "left"
          },
          "hovermode": "closest",
          "paper_bgcolor": "white",
          "plot_bgcolor": "rgb(237,237,237)",
          "polar": {
           "angularaxis": {
            "gridcolor": "white",
            "linecolor": "white",
            "showgrid": true,
            "tickcolor": "rgb(51,51,51)",
            "ticks": "outside"
           },
           "bgcolor": "rgb(237,237,237)",
           "radialaxis": {
            "gridcolor": "white",
            "linecolor": "white",
            "showgrid": true,
            "tickcolor": "rgb(51,51,51)",
            "ticks": "outside"
           }
          },
          "scene": {
           "xaxis": {
            "backgroundcolor": "rgb(237,237,237)",
            "gridcolor": "white",
            "gridwidth": 2,
            "linecolor": "white",
            "showbackground": true,
            "showgrid": true,
            "tickcolor": "rgb(51,51,51)",
            "ticks": "outside",
            "zerolinecolor": "white"
           },
           "yaxis": {
            "backgroundcolor": "rgb(237,237,237)",
            "gridcolor": "white",
            "gridwidth": 2,
            "linecolor": "white",
            "showbackground": true,
            "showgrid": true,
            "tickcolor": "rgb(51,51,51)",
            "ticks": "outside",
            "zerolinecolor": "white"
           },
           "zaxis": {
            "backgroundcolor": "rgb(237,237,237)",
            "gridcolor": "white",
            "gridwidth": 2,
            "linecolor": "white",
            "showbackground": true,
            "showgrid": true,
            "tickcolor": "rgb(51,51,51)",
            "ticks": "outside",
            "zerolinecolor": "white"
           }
          },
          "shapedefaults": {
           "fillcolor": "black",
           "line": {
            "width": 0
           },
           "opacity": 0.3
          },
          "ternary": {
           "aaxis": {
            "gridcolor": "white",
            "linecolor": "white",
            "showgrid": true,
            "tickcolor": "rgb(51,51,51)",
            "ticks": "outside"
           },
           "baxis": {
            "gridcolor": "white",
            "linecolor": "white",
            "showgrid": true,
            "tickcolor": "rgb(51,51,51)",
            "ticks": "outside"
           },
           "bgcolor": "rgb(237,237,237)",
           "caxis": {
            "gridcolor": "white",
            "linecolor": "white",
            "showgrid": true,
            "tickcolor": "rgb(51,51,51)",
            "ticks": "outside"
           }
          },
          "xaxis": {
           "automargin": true,
           "gridcolor": "white",
           "linecolor": "white",
           "showgrid": true,
           "tickcolor": "rgb(51,51,51)",
           "ticks": "outside",
           "title": {
            "standoff": 15
           },
           "zerolinecolor": "white"
          },
          "yaxis": {
           "automargin": true,
           "gridcolor": "white",
           "linecolor": "white",
           "showgrid": true,
           "tickcolor": "rgb(51,51,51)",
           "ticks": "outside",
           "title": {
            "standoff": 15
           },
           "zerolinecolor": "white"
          }
         }
        },
        "xaxis": {
         "anchor": "y",
         "domain": [
          0,
          0.415
         ],
         "title": {
          "text": "$\\alpha$"
         }
        },
        "xaxis2": {
         "anchor": "y2",
         "domain": [
          0.585,
          1
         ],
         "title": {
          "text": "$\\alpha^2/a^2N$"
         }
        },
        "xaxis3": {
         "anchor": "y3",
         "domain": [
          0,
          0.415
         ],
         "title": {
          "text": "$\\beta$"
         }
        },
        "xaxis4": {
         "anchor": "y4",
         "domain": [
          0.585,
          1
         ],
         "title": {
          "text": "$\\beta^2/a^2N$"
         }
        },
        "yaxis": {
         "anchor": "x",
         "domain": [
          0.625,
          1
         ],
         "title": {
          "text": "var(x)"
         }
        },
        "yaxis2": {
         "anchor": "x2",
         "domain": [
          0.625,
          1
         ],
         "title": {
          "text": "var(x)"
         }
        },
        "yaxis3": {
         "anchor": "x3",
         "domain": [
          0,
          0.375
         ],
         "title": {
          "text": "var(x)"
         }
        },
        "yaxis4": {
         "anchor": "x4",
         "domain": [
          0,
          0.375
         ],
         "title": {
          "text": "var(y)"
         }
        }
       }
      },
      "text/html": [
       "<div>                            <div id=\"2f281fb2-a651-42f2-a15d-0a93926fd5ff\" class=\"plotly-graph-div\" style=\"height:700px; width:100%;\"></div>            <script type=\"text/javascript\">                require([\"plotly\"], function(Plotly) {                    window.PLOTLYENV=window.PLOTLYENV || {};                                    if (document.getElementById(\"2f281fb2-a651-42f2-a15d-0a93926fd5ff\")) {                    Plotly.newPlot(                        \"2f281fb2-a651-42f2-a15d-0a93926fd5ff\",                        [{\"line\":{\"color\":\"olivedrab\",\"width\":4},\"showlegend\":false,\"visible\":true,\"x\":[3.0,3.061224489795918,3.122448979591837,3.183673469387755,3.2448979591836733,3.306122448979592,3.36734693877551,3.4285714285714284,3.489795918367347,3.5510204081632653,3.612244897959184,3.673469387755102,3.7346938775510203,3.795918367346939,3.857142857142857,3.9183673469387754,3.979591836734694,4.040816326530612,4.1020408163265305,4.163265306122449,4.224489795918368,4.285714285714286,4.346938775510204,4.408163265306122,4.469387755102041,4.530612244897959,4.591836734693878,4.653061224489796,4.714285714285714,4.775510204081632,4.836734693877551,4.8979591836734695,4.959183673469388,5.020408163265306,5.081632653061225,5.142857142857142,5.204081632653061,5.26530612244898,5.326530612244898,5.387755102040816,5.448979591836735,5.5102040816326525,5.571428571428571,5.63265306122449,5.6938775510204085,5.755102040816326,5.816326530612245,5.877551020408163,5.938775510204081,6.0],\"y\":[0.7150662697196141,0.7486316053147536,0.7831038064436823,0.8184910021134744,0.8548012847929772,0.8920427954078727,0.9302235623629931,0.9693516384471638,1.0094350851545328,1.0504818509704479,1.0924999589372957,1.135497377212482,1.1794820052247457,1.2244618265568572,1.2704447175178837,1.3174385543940421,1.3654512606323936,1.4144906404066164,1.4645645556167424,1.515680852992796,1.5678472935839116,1.6210717145429743,1.6753618854471723,1.7307255475402574,1.7871704934974275,1.8447044326546358,1.9033350929437636,1.9630702084205298,2.0239174522823413,2.0858845287460905,2.148979115051776,2.2132088649312807,2.2785814424919315,2.3451044849055407,2.412785626396879,2.4816324831521204,2.5516526722894373,2.6228537941773595,2.6952434262762863,2.7688291743113163,2.8436185890169163,2.919619231560552,2.996838685950786,3.075284451252986,3.1549640937516443,3.235885151651365,3.3180550913584,3.40148148856777,3.48617181381118,3.572133534485459],\"type\":\"scatter\",\"xaxis\":\"x\",\"yaxis\":\"y\"},{\"line\":{\"color\":\"olivedrab\",\"width\":3},\"showlegend\":false,\"visible\":true,\"x\":[0.4499999999999999,0.4685547688463138,0.48748438150770507,0.5067888379841732,0.5264681382757183,0.5465222823823407,0.5669512703040398,0.5877551020408162,0.6089337775926696,0.6304872969596,0.6524156601416077,0.6747188671386921,0.6973969179508537,0.7204498125780924,0.7438775510204081,0.7676801332778008,0.7918575593502707,0.8164098292378172,0.8413369429404411,0.8666389004581424,0.8923157017909205,0.9183673469387752,0.9447938359017074,0.9715951686797164,0.9987713452728028,1.026322365680966,1.0542482299042064,1.0825489379425237,1.1112244897959183,1.1402748854643894,1.1697001249479382,1.1995002082465638,1.2296751353602664,1.260224906289046,1.2911495210329027,1.3224489795918362,1.3541232819658473,1.3861724281549352,1.4185964181591002,1.451395251978342,1.4845689296126612,1.518117451062057,1.5520408163265302,1.5863390254060805,1.6210120783007078,1.6560599750104117,1.6914827155351935,1.7272802998750514,1.7634527280299872,1.7999999999999996],\"y\":[0.4504086161062162,0.46897763989764546,0.48792203897297476,0.5072418214743476,0.5269369972575698,0.5470075733942331,0.567453559801311,0.5882749650932437,0.6094717959078425,0.6310440637698566,0.6529917750042026,0.675314937670965,0.6980135635005627,0.7210876565537034,0.7445372277077743,0.768362286832248,0.7925628372127148,0.8171388926835617,0.8420904593507228,0.8674175423611633,0.893120156808603,0.9191983046272091,0.9456519952726609,0.972481242073427,0.9996860444764102,1.0272664171652723,1.0552223684856394,1.0835538990509546,1.1122610270612083,1.1413437544047174,1.1708020867361897,1.2006360419200033,1.2308456166920922,1.2614308240577767,1.2923916768673267,1.3237281708478412,1.3554403255081189,1.3875281454941875,1.419991630914898,1.4528308036179223,1.4860456602163377,1.5196362092541618,1.5536024691606538,1.587944432295353,1.6226621164274289,1.6577555314720596,1.693224671823262,1.7290695610579991,1.7652901988498584,1.801886587473724],\"type\":\"scatter\",\"xaxis\":\"x2\",\"yaxis\":\"y2\"},{\"line\":{\"color\":\"steelblue\",\"width\":4},\"showlegend\":false,\"visible\":true,\"x\":[2.0,2.061224489795918,2.122448979591837,2.183673469387755,2.2448979591836733,2.306122448979592,2.36734693877551,2.4285714285714284,2.489795918367347,2.5510204081632653,2.612244897959184,2.673469387755102,2.7346938775510203,2.795918367346939,2.857142857142857,2.9183673469387754,2.979591836734694,3.0408163265306123,3.1020408163265305,3.163265306122449,3.2244897959183674,3.2857142857142856,3.3469387755102042,3.4081632653061225,3.4693877551020407,3.5306122448979593,3.5918367346938775,3.6530612244897958,3.7142857142857144,3.7755102040816326,3.836734693877551,3.8979591836734695,3.9591836734693877,4.020408163265306,4.081632653061225,4.142857142857142,4.204081632653061,4.26530612244898,4.326530612244898,4.387755102040816,4.448979591836735,4.5102040816326525,4.571428571428571,4.63265306122449,4.6938775510204085,4.755102040816326,4.816326530612245,4.877551020408163,4.938775510204081,5.0],\"y\":[0.3971978357956157,0.42670749530664887,0.4575181858616817,0.4896522721187316,0.5231320383731067,0.5579797066766098,0.5942174481250858,0.6318673871700546,0.6709516025247401,0.7114921276514117,0.7535109520217436,0.7970300230843731,0.8420712484760405,0.8886564981240647,0.9368076061156774,0.9865463723569102,1.0378945640863648,1.0908739172938995,1.1455061380669822,1.2018129038698548,1.2598158647553273,1.319536644509566,1.3809968417329161,1.4442180308610972,1.5092217631313287,1.5760295674975486,1.644662951498334,1.7151434020806398,1.7874923863820869,1.861731352474436,1.9378817300706745,2.015964931197867,2.096002350837861,2.1780153675379204,2.262025343992797,2.3480536276001853,2.4361215509907987,2.5262504325348867,2.618461576826074,2.7127762751440896,2.809215805897463,2.907801435047197,3.008554416512478,3.111495992559404,3.2166473941736333,3.3240298414175355,3.433664543773117,3.5455727004709217,3.6597755008058894,3.7762941244409123],\"type\":\"scatter\",\"xaxis\":\"x3\",\"yaxis\":\"y3\"},{\"line\":{\"color\":\"steelblue\",\"width\":3},\"showlegend\":false,\"visible\":true,\"x\":[0.19999999999999998,0.21243231986672215,0.2252394835485214,0.23842149104539773,0.25197834235735106,0.2659100374843815,0.28021657642648895,0.2948979591836734,0.309954185755935,0.3253852561432735,0.3411911703456893,0.35737192836318193,0.37392753019575165,0.39085797584339854,0.40816326530612235,0.4258433985839233,0.44389837567680135,0.46232819658475627,0.48113286130778826,0.5003123698458976,0.5198667221990837,0.5397959183673467,0.5600999583506872,0.5807788421491045,0.6018325697625987,0.6232611411911703,0.6450645564348186,0.6672428154935441,0.6897959183673469,0.7127238650562264,0.736026655560183,0.759704289879217,0.7837567680133276,0.8081840899625152,0.8329862557267804,0.8581632653061221,0.8837151187005412,0.9096418159100373,0.9359433569346105,0.9626197417742605,0.9896709704289878,1.0170970428987918,1.0448979591836733,1.0730737192836315,1.1016243231986673,1.1305497709287793,1.1598500624739692,1.1895251978342354,1.219575177009579,1.2499999999999998],\"y\":[0.20035790155017094,0.2128072397032569,0.22563232101341915,0.2388332150442211,0.2524099703190231,0.26636257021365844,0.2806910307041205,0.2953954017007413,0.3104757017658875,0.3259319353967087,0.34176413133129246,0.3579723208541547,0.3745565185079617,0.39151674130837016,0.4088530163231196,0.42656536628861724,0.4446538083322924,0.46311836356490005,0.481959055558864,0.5011759045699538,0.5207689298911469,0.5407381529891776,0.5610835952817986,0.5818052766588216,0.6029032172286335,0.6243774378661717,0.6462279589928791,0.6684548005005775,0.6910579825375638,0.7140375253917525,0.7373934490255657,0.7611257732481315,0.7852345179726437,0.8097197030591052,0.834581348188138,0.8598194729857187,0.8854340970792036,0.9114252400111652,0.9377929212233006,0.9645371601145498,0.9916579760419243,1.0191553882864632,1.0470294160605336,1.0752800785292502,1.1039073948036684,1.132911383930488,1.1622920648995225,1.192049456650272,1.2221835780675354,1.252694447979693],\"type\":\"scatter\",\"xaxis\":\"x4\",\"yaxis\":\"y4\"}],                        {\"template\":{\"data\":{\"barpolar\":[{\"marker\":{\"line\":{\"color\":\"rgb(237,237,237)\",\"width\":0.5},\"pattern\":{\"fillmode\":\"overlay\",\"size\":10,\"solidity\":0.2}},\"type\":\"barpolar\"}],\"bar\":[{\"error_x\":{\"color\":\"rgb(51,51,51)\"},\"error_y\":{\"color\":\"rgb(51,51,51)\"},\"marker\":{\"line\":{\"color\":\"rgb(237,237,237)\",\"width\":0.5},\"pattern\":{\"fillmode\":\"overlay\",\"size\":10,\"solidity\":0.2}},\"type\":\"bar\"}],\"carpet\":[{\"aaxis\":{\"endlinecolor\":\"rgb(51,51,51)\",\"gridcolor\":\"white\",\"linecolor\":\"white\",\"minorgridcolor\":\"white\",\"startlinecolor\":\"rgb(51,51,51)\"},\"baxis\":{\"endlinecolor\":\"rgb(51,51,51)\",\"gridcolor\":\"white\",\"linecolor\":\"white\",\"minorgridcolor\":\"white\",\"startlinecolor\":\"rgb(51,51,51)\"},\"type\":\"carpet\"}],\"choropleth\":[{\"colorbar\":{\"outlinewidth\":0,\"tickcolor\":\"rgb(237,237,237)\",\"ticklen\":6,\"ticks\":\"inside\"},\"type\":\"choropleth\"}],\"contourcarpet\":[{\"colorbar\":{\"outlinewidth\":0,\"tickcolor\":\"rgb(237,237,237)\",\"ticklen\":6,\"ticks\":\"inside\"},\"type\":\"contourcarpet\"}],\"contour\":[{\"colorbar\":{\"outlinewidth\":0,\"tickcolor\":\"rgb(237,237,237)\",\"ticklen\":6,\"ticks\":\"inside\"},\"colorscale\":[[0,\"rgb(20,44,66)\"],[1,\"rgb(90,179,244)\"]],\"type\":\"contour\"}],\"heatmapgl\":[{\"colorbar\":{\"outlinewidth\":0,\"tickcolor\":\"rgb(237,237,237)\",\"ticklen\":6,\"ticks\":\"inside\"},\"colorscale\":[[0,\"rgb(20,44,66)\"],[1,\"rgb(90,179,244)\"]],\"type\":\"heatmapgl\"}],\"heatmap\":[{\"colorbar\":{\"outlinewidth\":0,\"tickcolor\":\"rgb(237,237,237)\",\"ticklen\":6,\"ticks\":\"inside\"},\"colorscale\":[[0,\"rgb(20,44,66)\"],[1,\"rgb(90,179,244)\"]],\"type\":\"heatmap\"}],\"histogram2dcontour\":[{\"colorbar\":{\"outlinewidth\":0,\"tickcolor\":\"rgb(237,237,237)\",\"ticklen\":6,\"ticks\":\"inside\"},\"colorscale\":[[0,\"rgb(20,44,66)\"],[1,\"rgb(90,179,244)\"]],\"type\":\"histogram2dcontour\"}],\"histogram2d\":[{\"colorbar\":{\"outlinewidth\":0,\"tickcolor\":\"rgb(237,237,237)\",\"ticklen\":6,\"ticks\":\"inside\"},\"colorscale\":[[0,\"rgb(20,44,66)\"],[1,\"rgb(90,179,244)\"]],\"type\":\"histogram2d\"}],\"histogram\":[{\"marker\":{\"pattern\":{\"fillmode\":\"overlay\",\"size\":10,\"solidity\":0.2}},\"type\":\"histogram\"}],\"mesh3d\":[{\"colorbar\":{\"outlinewidth\":0,\"tickcolor\":\"rgb(237,237,237)\",\"ticklen\":6,\"ticks\":\"inside\"},\"type\":\"mesh3d\"}],\"parcoords\":[{\"line\":{\"colorbar\":{\"outlinewidth\":0,\"tickcolor\":\"rgb(237,237,237)\",\"ticklen\":6,\"ticks\":\"inside\"}},\"type\":\"parcoords\"}],\"pie\":[{\"automargin\":true,\"type\":\"pie\"}],\"scatter3d\":[{\"line\":{\"colorbar\":{\"outlinewidth\":0,\"tickcolor\":\"rgb(237,237,237)\",\"ticklen\":6,\"ticks\":\"inside\"}},\"marker\":{\"colorbar\":{\"outlinewidth\":0,\"tickcolor\":\"rgb(237,237,237)\",\"ticklen\":6,\"ticks\":\"inside\"}},\"type\":\"scatter3d\"}],\"scattercarpet\":[{\"marker\":{\"colorbar\":{\"outlinewidth\":0,\"tickcolor\":\"rgb(237,237,237)\",\"ticklen\":6,\"ticks\":\"inside\"}},\"type\":\"scattercarpet\"}],\"scattergeo\":[{\"marker\":{\"colorbar\":{\"outlinewidth\":0,\"tickcolor\":\"rgb(237,237,237)\",\"ticklen\":6,\"ticks\":\"inside\"}},\"type\":\"scattergeo\"}],\"scattergl\":[{\"marker\":{\"colorbar\":{\"outlinewidth\":0,\"tickcolor\":\"rgb(237,237,237)\",\"ticklen\":6,\"ticks\":\"inside\"}},\"type\":\"scattergl\"}],\"scattermapbox\":[{\"marker\":{\"colorbar\":{\"outlinewidth\":0,\"tickcolor\":\"rgb(237,237,237)\",\"ticklen\":6,\"ticks\":\"inside\"}},\"type\":\"scattermapbox\"}],\"scatterpolargl\":[{\"marker\":{\"colorbar\":{\"outlinewidth\":0,\"tickcolor\":\"rgb(237,237,237)\",\"ticklen\":6,\"ticks\":\"inside\"}},\"type\":\"scatterpolargl\"}],\"scatterpolar\":[{\"marker\":{\"colorbar\":{\"outlinewidth\":0,\"tickcolor\":\"rgb(237,237,237)\",\"ticklen\":6,\"ticks\":\"inside\"}},\"type\":\"scatterpolar\"}],\"scatter\":[{\"fillpattern\":{\"fillmode\":\"overlay\",\"size\":10,\"solidity\":0.2},\"type\":\"scatter\"}],\"scatterternary\":[{\"marker\":{\"colorbar\":{\"outlinewidth\":0,\"tickcolor\":\"rgb(237,237,237)\",\"ticklen\":6,\"ticks\":\"inside\"}},\"type\":\"scatterternary\"}],\"surface\":[{\"colorbar\":{\"outlinewidth\":0,\"tickcolor\":\"rgb(237,237,237)\",\"ticklen\":6,\"ticks\":\"inside\"},\"colorscale\":[[0,\"rgb(20,44,66)\"],[1,\"rgb(90,179,244)\"]],\"type\":\"surface\"}],\"table\":[{\"cells\":{\"fill\":{\"color\":\"rgb(237,237,237)\"},\"line\":{\"color\":\"white\"}},\"header\":{\"fill\":{\"color\":\"rgb(217,217,217)\"},\"line\":{\"color\":\"white\"}},\"type\":\"table\"}]},\"layout\":{\"annotationdefaults\":{\"arrowhead\":0,\"arrowwidth\":1},\"autotypenumbers\":\"strict\",\"coloraxis\":{\"colorbar\":{\"outlinewidth\":0,\"tickcolor\":\"rgb(237,237,237)\",\"ticklen\":6,\"ticks\":\"inside\"}},\"colorscale\":{\"sequential\":[[0,\"rgb(20,44,66)\"],[1,\"rgb(90,179,244)\"]],\"sequentialminus\":[[0,\"rgb(20,44,66)\"],[1,\"rgb(90,179,244)\"]]},\"colorway\":[\"#F8766D\",\"#A3A500\",\"#00BF7D\",\"#00B0F6\",\"#E76BF3\"],\"font\":{\"color\":\"rgb(51,51,51)\"},\"geo\":{\"bgcolor\":\"white\",\"lakecolor\":\"white\",\"landcolor\":\"rgb(237,237,237)\",\"showlakes\":true,\"showland\":true,\"subunitcolor\":\"white\"},\"hoverlabel\":{\"align\":\"left\"},\"hovermode\":\"closest\",\"paper_bgcolor\":\"white\",\"plot_bgcolor\":\"rgb(237,237,237)\",\"polar\":{\"angularaxis\":{\"gridcolor\":\"white\",\"linecolor\":\"white\",\"showgrid\":true,\"tickcolor\":\"rgb(51,51,51)\",\"ticks\":\"outside\"},\"bgcolor\":\"rgb(237,237,237)\",\"radialaxis\":{\"gridcolor\":\"white\",\"linecolor\":\"white\",\"showgrid\":true,\"tickcolor\":\"rgb(51,51,51)\",\"ticks\":\"outside\"}},\"scene\":{\"xaxis\":{\"backgroundcolor\":\"rgb(237,237,237)\",\"gridcolor\":\"white\",\"gridwidth\":2,\"linecolor\":\"white\",\"showbackground\":true,\"showgrid\":true,\"tickcolor\":\"rgb(51,51,51)\",\"ticks\":\"outside\",\"zerolinecolor\":\"white\"},\"yaxis\":{\"backgroundcolor\":\"rgb(237,237,237)\",\"gridcolor\":\"white\",\"gridwidth\":2,\"linecolor\":\"white\",\"showbackground\":true,\"showgrid\":true,\"tickcolor\":\"rgb(51,51,51)\",\"ticks\":\"outside\",\"zerolinecolor\":\"white\"},\"zaxis\":{\"backgroundcolor\":\"rgb(237,237,237)\",\"gridcolor\":\"white\",\"gridwidth\":2,\"linecolor\":\"white\",\"showbackground\":true,\"showgrid\":true,\"tickcolor\":\"rgb(51,51,51)\",\"ticks\":\"outside\",\"zerolinecolor\":\"white\"}},\"shapedefaults\":{\"fillcolor\":\"black\",\"line\":{\"width\":0},\"opacity\":0.3},\"ternary\":{\"aaxis\":{\"gridcolor\":\"white\",\"linecolor\":\"white\",\"showgrid\":true,\"tickcolor\":\"rgb(51,51,51)\",\"ticks\":\"outside\"},\"baxis\":{\"gridcolor\":\"white\",\"linecolor\":\"white\",\"showgrid\":true,\"tickcolor\":\"rgb(51,51,51)\",\"ticks\":\"outside\"},\"bgcolor\":\"rgb(237,237,237)\",\"caxis\":{\"gridcolor\":\"white\",\"linecolor\":\"white\",\"showgrid\":true,\"tickcolor\":\"rgb(51,51,51)\",\"ticks\":\"outside\"}},\"xaxis\":{\"automargin\":true,\"gridcolor\":\"white\",\"linecolor\":\"white\",\"showgrid\":true,\"tickcolor\":\"rgb(51,51,51)\",\"ticks\":\"outside\",\"title\":{\"standoff\":15},\"zerolinecolor\":\"white\"},\"yaxis\":{\"automargin\":true,\"gridcolor\":\"white\",\"linecolor\":\"white\",\"showgrid\":true,\"tickcolor\":\"rgb(51,51,51)\",\"ticks\":\"outside\",\"title\":{\"standoff\":15},\"zerolinecolor\":\"white\"}}},\"xaxis\":{\"anchor\":\"y\",\"domain\":[0.0,0.415],\"title\":{\"text\":\"$\\\\alpha$\"}},\"yaxis\":{\"anchor\":\"x\",\"domain\":[0.625,1.0],\"title\":{\"text\":\"var(x)\"}},\"xaxis2\":{\"anchor\":\"y2\",\"domain\":[0.585,1.0],\"title\":{\"text\":\"$\\\\alpha^2/a^2N$\"}},\"yaxis2\":{\"anchor\":\"x2\",\"domain\":[0.625,1.0],\"title\":{\"text\":\"var(x)\"}},\"xaxis3\":{\"anchor\":\"y3\",\"domain\":[0.0,0.415],\"title\":{\"text\":\"$\\\\beta$\"}},\"yaxis3\":{\"anchor\":\"x3\",\"domain\":[0.0,0.375],\"title\":{\"text\":\"var(x)\"}},\"xaxis4\":{\"anchor\":\"y4\",\"domain\":[0.585,1.0],\"title\":{\"text\":\"$\\\\beta^2/a^2N$\"}},\"yaxis4\":{\"anchor\":\"x4\",\"domain\":[0.0,0.375],\"title\":{\"text\":\"var(y)\"}},\"annotations\":[{\"font\":{\"size\":16},\"showarrow\":false,\"text\":\"alpha dependence, b=1\",\"x\":0.2075,\"xanchor\":\"center\",\"xref\":\"paper\",\"y\":1.0,\"yanchor\":\"bottom\",\"yref\":\"paper\"},{\"font\":{\"size\":16},\"showarrow\":false,\"text\":\"alpha dependence, b=1e-4\",\"x\":0.7925,\"xanchor\":\"center\",\"xref\":\"paper\",\"y\":1.0,\"yanchor\":\"bottom\",\"yref\":\"paper\"},{\"font\":{\"size\":16},\"showarrow\":false,\"text\":\"beta dependence, b=1\",\"x\":0.2075,\"xanchor\":\"center\",\"xref\":\"paper\",\"y\":0.375,\"yanchor\":\"bottom\",\"yref\":\"paper\"},{\"font\":{\"size\":16},\"showarrow\":false,\"text\":\"beta dependence, b=1e-4\",\"x\":0.7925,\"xanchor\":\"center\",\"xref\":\"paper\",\"y\":0.375,\"yanchor\":\"bottom\",\"yref\":\"paper\"}],\"margin\":{\"l\":100,\"r\":100,\"t\":100,\"b\":80},\"height\":700},                        {\"responsive\": true}                    ).then(function(){\n",
       "                            \n",
       "var gd = document.getElementById('2f281fb2-a651-42f2-a15d-0a93926fd5ff');\n",
       "var x = new MutationObserver(function (mutations, observer) {{\n",
       "        var display = window.getComputedStyle(gd).display;\n",
       "        if (!display || display === 'none') {{\n",
       "            console.log([gd, 'removed!']);\n",
       "            Plotly.purge(gd);\n",
       "            observer.disconnect();\n",
       "        }}\n",
       "}});\n",
       "\n",
       "// Listen for the removal of the full notebook cells\n",
       "var notebookContainer = gd.closest('#notebook-container');\n",
       "if (notebookContainer) {{\n",
       "    x.observe(notebookContainer, {childList: true});\n",
       "}}\n",
       "\n",
       "// Listen for the clearing of the current output cell\n",
       "var outputEl = gd.closest('.output');\n",
       "if (outputEl) {{\n",
       "    x.observe(outputEl, {childList: true});\n",
       "}}\n",
       "\n",
       "                        })                };                });            </script>        </div>"
      ]
     },
     "metadata": {},
     "output_type": "display_data"
    }
   ],
   "source": [
    "# Create figure\n",
    "fig = make_subplots(rows=2, cols=2, horizontal_spacing=0.17,\n",
    "                  subplot_titles=(\n",
    "                                  \"alpha dependence, b=1\",\n",
    "                                  \"alpha dependence, b=1e-4\",\n",
    "                                 \"beta dependence, b=1\",\n",
    "                                  \"beta dependence, b=1e-4\"))\n",
    "\n",
    "\n",
    "#---------vary alpha, noisy\n",
    "df_alpha = pd.DataFrame(crlbs_alpha[0], columns=col)\n",
    "fig.add_trace(\n",
    "        go.Scatter(\n",
    "            visible=True,\n",
    "            showlegend=False,\n",
    "            line=dict(color=\"olivedrab\", width=4),\n",
    "            x=alpha,\n",
    "            y=df_alpha[\"var(x)\"]),\n",
    "        row=1, col=1\n",
    "    )\n",
    "#---------vary alpha, low noise\n",
    "df_alpha = pd.DataFrame(crlbs_alpha[1], columns=col)\n",
    "fig.add_trace(\n",
    "        go.Scatter(\n",
    "            visible=True,\n",
    "            showlegend=False,\n",
    "            line=dict(color=\"olivedrab\", width=3),\n",
    "            x=alpha**2/a**2/N,\n",
    "            y=df_alpha[\"var(x)\"]),\n",
    "        row=1, col=2\n",
    "    )\n",
    "\n",
    "#---------vary beta, noisy\n",
    "df_beta = pd.DataFrame(crlbs_beta[0], columns=col)\n",
    "fig.add_trace(\n",
    "        go.Scatter(\n",
    "            visible=True,\n",
    "            showlegend=False,\n",
    "            line=dict(color=\"steelblue\", width=4),\n",
    "            x=betas[0],\n",
    "            y=df_beta[\"var(y)\"]),\n",
    "        row=2, col=1\n",
    "    )\n",
    "#---------vary beta, low noise\n",
    "df_beta = pd.DataFrame(crlbs_beta[1], columns=col)\n",
    "fig.add_trace(\n",
    "        go.Scatter(\n",
    "            visible=True,\n",
    "            showlegend=False,\n",
    "            line=dict(color=\"steelblue\", width=3),\n",
    "            x=np.array(betas[1])**2/a**2/N,\n",
    "            y=df_beta[\"var(y)\"]),\n",
    "        row=2, col=2\n",
    "    )\n",
    "\n",
    "\n",
    "\n",
    "fig.update_xaxes(title_text=\"$\\\\alpha$\", row=1, col=1)\n",
    "fig.update_yaxes(title_text=\"var(x)\", row=1, col=1)\n",
    "\n",
    "fig.update_xaxes(title_text=\"$\\\\alpha^2/a^2N$\", row=1, col=2)\n",
    "fig.update_yaxes(title_text=\"var(x)\", row=1, col=2)\n",
    "\n",
    "fig.update_xaxes(title_text=\"$\\\\beta$\", row=2, col=1)\n",
    "fig.update_yaxes(title_text=\"var(x)\", row=2, col=1)\n",
    "\n",
    "fig.update_xaxes(title_text=\"$\\\\beta^2/a^2N$\", row=2, col=2)\n",
    "fig.update_yaxes(title_text=\"var(y)\", row=2, col=2)\n",
    "\n",
    "fig.update_layout(height=700, template = \"ggplot2\", margin=dict(l=100, r=100, t=100, b=80))\n",
    "fig.show()"
   ]
  },
  {
   "cell_type": "code",
   "execution_count": 76,
   "id": "22726cae",
   "metadata": {},
   "outputs": [
    {
     "data": {
      "image/png": "[encoded data removed]",
      "text/plain": [
       "<Figure size 864x288 with 2 Axes>"
      ]
     },
     "metadata": {
      "needs_background": "light"
     },
     "output_type": "display_data"
    }
   ],
   "source": [
    "#-----------vary N\n",
    "n = 50\n",
    "alpha = 3\n",
    "beta = 2\n",
    "xmax = alpha*12\n",
    "ymax = xmax\n",
    "thetaX = (xmax-1)/2\n",
    "thetaY = thetaX\n",
    "a = [0.2,0.5,1]\n",
    "thetabg = 1e-10\n",
    "\n",
    "N = np.arange(100, 1000, n)\n",
    "crlbs = [[crlb(xmax, ymax, thetaX, thetaY, 1/alpha, 1/beta, a[j], N[i], thetabg) for i in range(len(N))] for j in range(3)]\n",
    "dfs = [pd.DataFrame(crlbs[i], columns=col) for i in range(3)]\n",
    "varN = [dfs[i]['var(N)'] for i in range(3)]\n",
    "\n",
    "fig, ax = plt.subplots(1,2,figsize=(12,4))\n",
    "\n",
    "[ax[0].plot(N, varN[i], label=f\"a={a[i]}\") for i in range(3)]\n",
    "ax[0].scatter(N,N)\n",
    "ax[0].legend()\n",
    "\n",
    "#-----------vary bg\n",
    "alpha = 3\n",
    "beta = 2\n",
    "xmax = alpha*12\n",
    "ymax = xmax\n",
    "thetaX = (xmax-1)/2\n",
    "thetaY = thetaX\n",
    "a = 1 \n",
    "thetabg = np.arange(1,100,2)\n",
    "N_bg = 500\n",
    "crlbs_bg = [crlb(xmax, ymax, thetaX, thetaY, 1/alpha, 1/beta, a, N_bg, thetabg[i]) for i in range(len(thetabg))]\n",
    "df_bg = pd.DataFrame(crlbs_bg, columns=col)\n",
    "varBG = df_bg[\"var(b)\"]\n",
    "\n",
    "ax[1].plot(thetabg, varBG, label=\"code\")\n",
    "ax[1].scatter(thetabg,thetabg, label=\"bg=bg\")\n",
    "ax[1].legend()\n",
    "\n",
    "ax[0].set_xlabel(\"N\")\n",
    "ax[0].set_ylabel(\"var(N)\")\n",
    "\n",
    "ax[1].set_xlabel(\"bg\")\n",
    "ax[1].set_ylabel(\"var(bg)\");"
   ]
  },
  {
   "cell_type": "code",
   "execution_count": null,
   "id": "9b9348e8",
   "metadata": {},
   "outputs": [],
   "source": []
  }
 ],
 "metadata": {
  "kernelspec": {
   "display_name": "Python 3 (ipykernel)",
   "language": "python",
   "name": "python3"
  },
  "language_info": {
   "codemirror_mode": {
    "name": "ipython",
    "version": 3
   },
   "file_extension": ".py",
   "mimetype": "text/x-python",
   "name": "python",
   "nbconvert_exporter": "python",
   "pygments_lexer": "ipython3",
   "version": "3.10.8"
  }
 },
 "nbformat": 4,
 "nbformat_minor": 5
}
