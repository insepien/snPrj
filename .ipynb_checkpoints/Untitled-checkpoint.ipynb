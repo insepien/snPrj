{
 "cells": [
  {
   "cell_type": "code",
   "execution_count": 2,
   "id": "baaa5411",
   "metadata": {},
   "outputs": [],
   "source": [
    "import numpy as np\n",
    "from scipy import special\n",
    "from math import factorial as fact\n",
    "import matplotlib.pyplot as plt\n",
    "import pandas as pd\n",
    "from plotly.subplots import make_subplots\n",
    "import plotly.graph_objects as go\n",
    "from mpl_toolkits.axes_grid1 import make_axes_locatable\n",
    "\n",
    "plt.rcParams['font.size'] = 15\n",
    "plt.rcParams[\"axes.labelsize\"] = 15"
   ]
  },
  {
   "cell_type": "code",
   "execution_count": 3,
   "id": "6297ba60",
   "metadata": {},
   "outputs": [],
   "source": [
    "def k(alpha, beta, gamma):\n",
    "    \"\"\"normalizing constant for PSF\"\"\"\n",
    "    K = beta*alpha*np.sqrt(1 - gamma*gamma) / (2*np.pi)\n",
    "    return K\n",
    "\n",
    "\n",
    "def integrate_lim(x,y,thetaX,thetaY,a):\n",
    "    \"\"\"integration limits for mu_prime\"\"\"\n",
    "    u1 = alpha * (x-thetaX-a/2)\n",
    "    u2 = alpha * (x-thetaX+a/2)\n",
    "    v1 = beta  * (y-thetaY-a/2)\n",
    "    v2 = beta  * (y-thetaY+a/2)\n",
    "    return u1,u2,v1,v2\n",
    "   \n",
    "def numIntegrand_muP(x,y1,y2,gamma):\n",
    "    \"\"\"integrand of mu_prime, integrate over x, constants y1 & y2\"\"\"\n",
    "    deltaErf = special.erf((y2+x*gamma)/np.sqrt(2))-special.erf((y1+x*gamma)/np.sqrt(2)) \n",
    "    integrand = np.sqrt(np.pi/2) * np.exp(x*x*(gamma*gamma-1)/2)*deltaErf\n",
    "    return integrand\n",
    "\n",
    "def numIntegrate(x1,x2,y1,y2,gamma,numSteps):\n",
    "    \"\"\"numerical integration of mu_prime, integration over x\"\"\"\n",
    "    x = np.linspace(x1,x2,numSteps)\n",
    "    h = (x2-x1)/(numSteps-1)\n",
    "    trapzSum = 0\n",
    "    for i in range(len(x)):\n",
    "        trapzSum += numIntegrand_muP(x[i],y1,y2,gamma) * h\n",
    "    trapzSum = trapzSum - h/2 * (numIntegrand_muP(x[0],y1,y2,gamma)+numIntegrand_muP(x[-1],y1,y2,gamma))\n",
    "    return trapzSum\n",
    "\n",
    "\n",
    "def mu_prime(x,y,thetaX,thetaY,a,gamma,numSteps):\n",
    "    \"\"\"integrate analytically and numerically\"\"\"\n",
    "    u1,u2,v1,v2 = integrate_lim(x,y,thetaX,thetaY,a)\n",
    "    mu_p = numIntegrate(v1,v2,u1,u2,gamma,numSteps)\n",
    "    return mu_p\n",
    "\n",
    "def mu(x,y,thetaX,thetaY,thetaI0,a,numSteps,alpha,beta,gamma,thetabg):\n",
    "    \"\"\"image model for gaussian psf\"\"\"\n",
    "    K = k(alpha, beta, gamma)\n",
    "    mu_p = mu_prime(x,y,thetaX,thetaY,a,gamma,numSteps)\n",
    "    mu = thetaI0*K*mu_p/alpha /beta+thetabg\n",
    "    return mu"
   ]
  },
  {
   "cell_type": "code",
   "execution_count": 6,
   "id": "a482ef5b",
   "metadata": {},
   "outputs": [
    {
     "data": {
      "text/plain": [
       "320.9911200200502"
      ]
     },
     "execution_count": 6,
     "metadata": {},
     "output_type": "execute_result"
    },
    {
     "data": {
      "image/png": "[encoded data removed]",
      "text/plain": [
       "<Figure size 432x288 with 2 Axes>"
      ]
     },
     "metadata": {
      "needs_background": "light"
     },
     "output_type": "display_data"
    }
   ],
   "source": [
    "def para(a,b,theta):\n",
    "    alpha = np.sqrt(a**2*np.cos(theta)**2 + b**2*np.sin(theta)**2)\n",
    "    beta  = np.sqrt(b**2*np.cos(theta)**2 + a**2*np.sin(theta)**2)\n",
    "    gamma = np.sin(2*theta)*(a**2-b**2)/(2*alpha*beta)\n",
    "    return alpha,beta,gamma\n",
    "\n",
    "theta = np.pi/4\n",
    "n = 20\n",
    "a = 3/3\n",
    "b = 2/3\n",
    "alpha,beta,gamma = para(a,b,theta)\n",
    "xmax = alpha*12\n",
    "ymax = xmax\n",
    "thetaX = (xmax-1)/2\n",
    "thetaY = thetaX\n",
    "a = 0.2 \n",
    "thetabg = 1\n",
    "numSteps = 30\n",
    "\n",
    "N = [500,5000,50000]\n",
    "x,y = np.arange(xmax), np.arange(ymax)\n",
    "xs, ys = np.meshgrid(x,y)\n",
    "ys = np.flipud(ys)\n",
    "m = mu(xs,ys, thetaX, thetaY, N[1],a,numSteps,1/alpha,1/beta,gamma,thetabg)\n",
    "plt.imshow(m,cmap=\"Greens\")\n",
    "plt.colorbar();\n",
    "\n",
    "np.sum(m)"
   ]
  },
  {
   "cell_type": "code",
   "execution_count": 12,
   "id": "5cc6ed49",
   "metadata": {},
   "outputs": [
    {
     "data": {
      "text/plain": [
       "<matplotlib.legend.Legend at 0x7f5021f20b50>"
      ]
     },
     "execution_count": 12,
     "metadata": {},
     "output_type": "execute_result"
    },
    {
     "data": {
      "image/png": "[encoded data removed]",
      "text/plain": [
       "<Figure size 432x288 with 1 Axes>"
      ]
     },
     "metadata": {
      "needs_background": "light"
     },
     "output_type": "display_data"
    }
   ],
   "source": [
    "plt.rcParams[\"font.size\"] = 15\n",
    "theta = np.pi/4\n",
    "n = 20\n",
    "a = 3/3\n",
    "b = 2/3\n",
    "alpha,beta,gamma = para(a,b,theta)\n",
    "xmax = alpha*12\n",
    "ymax = xmax\n",
    "thetaX = (xmax-1)/2\n",
    "thetaY = thetaX\n",
    "a = 0.2 \n",
    "thetabg = 1\n",
    "numSteps = 30\n",
    "x,y = np.arange(xmax), np.arange(ymax)\n",
    "xs, ys = np.meshgrid(x,y)\n",
    "a = np.arange(0.2,2,0.05)\n",
    "m = [np.sum(mu(xs,ys,thetaX,thetaY,500,a[i],numSteps,alpha,beta,gamma,thetabg)) for i in range(len(a))]\n",
    "mT = a**2*thetabg*xmax**2+500\n",
    "plt.plot(a,m,\"b\", label=\"Calculated\")\n",
    "plt.plot(a,mT,\"g\", label=\"Theoretical\")\n",
    "plt.xlabel(\"Pixel size a\")\n",
    "plt.ylabel(\"Photon counts N\")\n",
    "plt.legend()"
   ]
  },
  {
   "cell_type": "code",
   "execution_count": null,
   "id": "97d7063a",
   "metadata": {},
   "outputs": [],
   "source": []
  }
 ],
 "metadata": {
  "kernelspec": {
   "display_name": "Python 3 (ipykernel)",
   "language": "python",
   "name": "python3"
  },
  "language_info": {
   "codemirror_mode": {
    "name": "ipython",
    "version": 3
   },
   "file_extension": ".py",
   "mimetype": "text/x-python",
   "name": "python",
   "nbconvert_exporter": "python",
   "pygments_lexer": "ipython3",
   "version": "3.10.4"
  }
 },
 "nbformat": 4,
 "nbformat_minor": 5
}
