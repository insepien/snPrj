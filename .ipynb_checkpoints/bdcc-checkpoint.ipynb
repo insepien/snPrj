{
 "cells": [
  {
   "cell_type": "code",
   "execution_count": 1,
   "id": "3cf4589c",
   "metadata": {},
   "outputs": [],
   "source": [
    "import datetime as dt\n",
    "import requests"
   ]
  },
  {
   "cell_type": "code",
   "execution_count": 2,
   "id": "e89dfb68",
   "metadata": {},
   "outputs": [
    {
     "data": {
      "text/plain": [
       "{'coord': {'lon': -0.1257, 'lat': 51.5085},\n",
       " 'weather': [{'id': 804,\n",
       "   'main': 'Clouds',\n",
       "   'description': 'overcast clouds',\n",
       "   'icon': '04n'}],\n",
       " 'base': 'stations',\n",
       " 'main': {'temp': 287.87,\n",
       "  'feels_like': 287.09,\n",
       "  'temp_min': 286.09,\n",
       "  'temp_max': 289.01,\n",
       "  'pressure': 1014,\n",
       "  'humidity': 65},\n",
       " 'visibility': 10000,\n",
       " 'wind': {'speed': 1.54, 'deg': 340},\n",
       " 'clouds': {'all': 100},\n",
       " 'dt': 1663277388,\n",
       " 'sys': {'type': 2,\n",
       "  'id': 2075535,\n",
       "  'country': 'GB',\n",
       "  'sunrise': 1663220111,\n",
       "  'sunset': 1663265798},\n",
       " 'timezone': 3600,\n",
       " 'id': 2643743,\n",
       " 'name': 'London',\n",
       " 'cod': 200}"
      ]
     },
     "execution_count": 2,
     "metadata": {},
     "output_type": "execute_result"
    }
   ],
   "source": [
    "BASE_URL = \"http://api.openweathermap.org/data/2.5/weather?\"\n",
    "API_KEY = \"30132e15bcdaac5b04f1993e32ba0383\"\n",
    "CITY = \"London\"\n",
    "\n",
    "url = BASE_URL + \"appid=\" + API_KEY + \"&q=\" + CITY\n",
    "response = requests.get(url).json()\n",
    "response\n"
   ]
  },
  {
   "cell_type": "code",
   "execution_count": null,
   "id": "5f0d0ef8",
   "metadata": {},
   "outputs": [],
   "source": []
  }
 ],
 "metadata": {
  "kernelspec": {
   "display_name": "Python 3 (ipykernel)",
   "language": "python",
   "name": "python3"
  },
  "language_info": {
   "codemirror_mode": {
    "name": "ipython",
    "version": 3
   },
   "file_extension": ".py",
   "mimetype": "text/x-python",
   "name": "python",
   "nbconvert_exporter": "python",
   "pygments_lexer": "ipython3",
   "version": "3.10.4"
  }
 },
 "nbformat": 4,
 "nbformat_minor": 5
}
