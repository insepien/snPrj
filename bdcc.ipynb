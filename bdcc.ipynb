{
 "cells": [
  {
   "cell_type": "code",
   "execution_count": 2,
   "id": "3cf4589c",
   "metadata": {},
   "outputs": [],
   "source": [
    "import datetime as dt\n",
    "import requests"
   ]
  },
  {
   "cell_type": "code",
   "execution_count": 9,
   "id": "e89dfb68",
   "metadata": {},
   "outputs": [
    {
     "data": {
      "text/plain": [
       "{'coord': {'lon': -0.1257, 'lat': 51.5085},\n",
       " 'weather': [{'id': 804,\n",
       "   'main': 'Clouds',\n",
       "   'description': 'overcast clouds',\n",
       "   'icon': '04n'}],\n",
       " 'base': 'stations',\n",
       " 'main': {'temp': 284.38,\n",
       "  'feels_like': 283.67,\n",
       "  'temp_min': 282.33,\n",
       "  'temp_max': 285.51,\n",
       "  'pressure': 1015,\n",
       "  'humidity': 81},\n",
       " 'visibility': 10000,\n",
       " 'wind': {'speed': 3.09, 'deg': 300},\n",
       " 'clouds': {'all': 100},\n",
       " 'dt': 1663301164,\n",
       " 'sys': {'type': 2,\n",
       "  'id': 2075535,\n",
       "  'country': 'GB',\n",
       "  'sunrise': 1663306606,\n",
       "  'sunset': 1663352059},\n",
       " 'timezone': 3600,\n",
       " 'id': 2643743,\n",
       " 'name': 'London',\n",
       " 'cod': 200}"
      ]
     },
     "execution_count": 9,
     "metadata": {},
     "output_type": "execute_result"
    }
   ],
   "source": [
    "BASE_URL = \"http://api.openweathermap.org/data/2.5/weather?\"\n",
    "\n",
    "API_KEY = \"30132e15bcdaac5b04f1993e32ba0383\"\n",
    "\n",
    "CITY = \"London\"\n",
    "\n",
    "url = BASE_URL + \"appid=\" + API_KEY + \"&q=\" + CITY\n",
    "response = requests.get(url).json()\n",
    "response\n"
   ]
  },
  {
   "cell_type": "code",
   "execution_count": 7,
   "id": "5f0d0ef8",
   "metadata": {},
   "outputs": [
    {
     "data": {
      "text/plain": [
       "{'error': {'code': 'missing_access_key',\n",
       "  'message': 'You have not supplied an API Access Key. [Required format: access_key=YOUR_ACCESS_KEY]'}}"
      ]
     },
     "execution_count": 7,
     "metadata": {},
     "output_type": "execute_result"
    }
   ],
   "source": [
    "baseURL = \"http://api.aviationstack.com/v1/flights?\"\n",
    "access_key = \"7f87880c6dae77602ae46dcc4fb7e105\"\n",
    "url = baseURL + \"appid=\" + access_key \n",
    "response = requests.get(url).json()\n",
    "response"
   ]
  },
  {
   "cell_type": "code",
   "execution_count": null,
   "id": "66068609",
   "metadata": {},
   "outputs": [],
   "source": []
  }
 ],
 "metadata": {
  "kernelspec": {
   "display_name": "Python 3 (ipykernel)",
   "language": "python",
   "name": "python3"
  },
  "language_info": {
   "codemirror_mode": {
    "name": "ipython",
    "version": 3
   },
   "file_extension": ".py",
   "mimetype": "text/x-python",
   "name": "python",
   "nbconvert_exporter": "python",
   "pygments_lexer": "ipython3",
   "version": "3.10.4"
  }
 },
 "nbformat": 4,
 "nbformat_minor": 5
}
